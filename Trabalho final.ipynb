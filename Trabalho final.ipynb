{
 "cells": [
  {
   "cell_type": "markdown",
   "metadata": {},
   "source": [
    "# 0. Limpeza e ajustes"
   ]
  },
  {
   "cell_type": "code",
   "execution_count": 1,
   "metadata": {},
   "outputs": [],
   "source": [
    "import pandas as pd\n",
    "import matplotlib.pyplot as plt\n",
    "import numpy as np\n",
    "import random as r\n",
    "import seaborn as sns\n",
    "from matplotlib.colors import LinearSegmentedColormap\n",
    "from matplotlib import cm\n",
    "import sklearn as sk"
   ]
  },
  {
   "cell_type": "code",
   "execution_count": 2,
   "metadata": {},
   "outputs": [
    {
     "name": "stderr",
     "output_type": "stream",
     "text": [
      "/home/matheus/anaconda3/lib/python3.7/site-packages/IPython/core/interactiveshell.py:3049: DtypeWarning: Columns (8,12,13,14,15,16,50,51,52,53,55,56,57,58,59,60,61,62,63,64,65,66,67,68,69,70,71,72,73,74,75,76,77,78,79,80,81,82,83,84,85,93,94,95,96,97,98,99,100,101,102,103,104,105,106,107,108,109,110,111,112,113,114,115,116,117,118,119,120,121,122,123,124,125,126,127,128) have mixed types. Specify dtype option on import or set low_memory=False.\n",
      "  interactivity=interactivity, compiler=compiler, result=result)\n"
     ]
    }
   ],
   "source": [
    "A = pd.read_csv(\"survey_results_public.csv\")"
   ]
  },
  {
   "cell_type": "code",
   "execution_count": 3,
   "metadata": {},
   "outputs": [],
   "source": [
    "B = A[['DevType','Age', 'YearsCoding', 'UndergradMajor','LastNewJob','FormalEducation', \n",
    "   'CompanySize','YearsCodingProf',\n",
    " 'AssessJob1', 'AssessJob2', 'AssessJob3', 'AssessJob4', 'AssessJob5', 'AssessJob6', 'AssessJob7', 'AssessJob8', 'AssessJob9', 'AssessJob10','LanguageWorkedWith','DatabaseWorkedWith','FrameworkWorkedWith', 'OperatingSystem', 'ConvertedSalary']]"
   ]
  },
  {
   "cell_type": "code",
   "execution_count": 4,
   "metadata": {},
   "outputs": [],
   "source": [
    "#B['UndergradMajor'].fillna(\"I never declared a major\",inplace=True)"
   ]
  },
  {
   "cell_type": "code",
   "execution_count": 5,
   "metadata": {},
   "outputs": [],
   "source": [
    "A = A[A['Employment'] == \"Employed full-time\"]"
   ]
  },
  {
   "cell_type": "code",
   "execution_count": 6,
   "metadata": {},
   "outputs": [],
   "source": [
    "B = B.dropna(how='any',inplace=False,)"
   ]
  },
  {
   "cell_type": "code",
   "execution_count": 7,
   "metadata": {},
   "outputs": [
    {
     "data": {
      "text/plain": [
       "array([0, 0, 0, 0, 0, 0, 0, 0, 0, 0, 0, 0, 0, 0, 0, 0, 0, 0, 0, 0, 0, 0,\n",
       "       0])"
      ]
     },
     "execution_count": 7,
     "metadata": {},
     "output_type": "execute_result"
    }
   ],
   "source": [
    "sum(B.isna().values)"
   ]
  },
  {
   "cell_type": "code",
   "execution_count": 8,
   "metadata": {},
   "outputs": [],
   "source": [
    "B = B[B['DevType'].apply(lambda x: 'Data scientist or machine learning specialist' in x)]"
   ]
  },
  {
   "cell_type": "code",
   "execution_count": 9,
   "metadata": {},
   "outputs": [],
   "source": [
    "def drop_dummy(df, List, ans):\n",
    "    if len(List) == 0:\n",
    "        return df, List, ans\n",
    "    elif List[-1]==\"Age\":\n",
    "        first = List.pop()\n",
    "        dummy = pd.get_dummies(df[first], drop_first=False,prefix=first, prefix_sep=\"_\" )\n",
    "        dummy = dummy.drop(columns=[\"Age_65 years or older\"])\n",
    "        dummy_list = list(dummy)\n",
    "        try:\n",
    "            ans[dummy_list] = dummy\n",
    "        except:\n",
    "            ans = dummy\n",
    "        return drop_dummy(df, List, ans)\n",
    "    else:\n",
    "        first = List.pop()\n",
    "        dummy = pd.get_dummies(df[first], drop_first=True,prefix=first, prefix_sep=\"_\" )\n",
    "        dummy_list = list(dummy)\n",
    "        try:\n",
    "            ans[dummy_list] = dummy\n",
    "        except:\n",
    "            ans = dummy\n",
    "        return drop_dummy(df, List, ans)\n",
    "\n",
    "List_of_dummys = ['Age', 'YearsCoding', 'UndergradMajor','FormalEducation', \n",
    "   'CompanySize','YearsCodingProf', 'LastNewJob','OperatingSystem']\n",
    "bar, foo,df = drop_dummy(B, List_of_dummys[:],1)\n",
    "\n",
    "B[list(df)] = df\n",
    "B = B.drop(columns=[\"LastNewJob_I've never had a job\",'UndergradMajor_Web development or web design','UndergradMajor_A health science (ex. nursing, pharmacy, radiology)'])"
   ]
  },
  {
   "cell_type": "code",
   "execution_count": 10,
   "metadata": {},
   "outputs": [
    {
     "name": "stdout",
     "output_type": "stream",
     "text": [
      "['Age', 'YearsCoding', 'UndergradMajor', 'FormalEducation', 'CompanySize', 'YearsCodingProf', 'LastNewJob', 'OperatingSystem']\n"
     ]
    }
   ],
   "source": [
    "B = B.drop(columns=List_of_dummys)\n",
    "print(List_of_dummys)"
   ]
  },
  {
   "cell_type": "code",
   "execution_count": 11,
   "metadata": {},
   "outputs": [],
   "source": [
    "B = B.drop(columns=['DevType'])"
   ]
  },
  {
   "cell_type": "code",
   "execution_count": 12,
   "metadata": {},
   "outputs": [
    {
     "name": "stdout",
     "output_type": "stream",
     "text": [
      "(1448, 66)Python\n",
      "(1235, 66)SQL\n",
      "(804, 66)R\n",
      "(1409, 66)Java\n",
      "(1235, 66)SQL\n",
      "(1172, 66)JavaScript\n",
      "(558, 66)C++\n",
      "(280, 66)Matlab\n",
      "(1047, 66)Bash/Shell\n",
      "(331, 66)Scala\n",
      "(130, 66)VBA\n",
      "(369, 66)PHP\n",
      "(1089, 66)HTML\n",
      "(229, 66)Go\n",
      "(525, 66)C#\n",
      "(1365, 66)C\n",
      "(45, 66)Julia\n"
     ]
    }
   ],
   "source": [
    "for language in [\"Python\",\"SQL\", \"R\",\"Java\",\"SQL\",\"JavaScript\",\"C++\",\"Matlab\",\"Bash/Shell\",\"Scala\",\"VBA\",\"PHP\",\"HTML\",\"Go\",\"C#\", \"C\", \"Julia\"]:\n",
    "    print(str(B[B['LanguageWorkedWith'].apply(lambda x: language in x)].shape) + language)"
   ]
  },
  {
   "cell_type": "code",
   "execution_count": 13,
   "metadata": {
    "scrolled": true
   },
   "outputs": [],
   "source": [
    "#MATLAB, VBA, GO, Scala, C++, PHP, C# Julia caem fora\n",
    "languages = [\"Python\",\"SQL\", \"R\",\"Java\",\"SQL\",\"JavaScript\",\"Bash/Shell\",\"HTML\", \"C\"]\n",
    "for language in languages:\n",
    "    B[language] = B['LanguageWorkedWith'].apply(lambda x: int(language in x))\n",
    "B = B.drop(columns=[\"LanguageWorkedWith\"])"
   ]
  },
  {
   "cell_type": "code",
   "execution_count": 14,
   "metadata": {},
   "outputs": [
    {
     "name": "stdout",
     "output_type": "stream",
     "text": [
      "(982, 73)MySQL\n",
      "(833, 73)PostgreSQL\n",
      "(404, 73)SQLite\n",
      "(136, 73)Google BigQuery\n",
      "(423, 73)Elasticsearch\n",
      "(679, 73)SQL Server\n",
      "(159, 73)Amazon DynamoDB\n",
      "(208, 73)Microsoft Azure\n",
      "(627, 73)MongoDB\n"
     ]
    }
   ],
   "source": [
    "for language in [\"MySQL\",\"PostgreSQL\",'SQLite','Google BigQuery','Elasticsearch','SQL Server','Amazon DynamoDB','Microsoft Azure','MongoDB']:\n",
    "    print(str(B[B['DatabaseWorkedWith'].apply(lambda x: language in x)].shape) + language)"
   ]
  },
  {
   "cell_type": "code",
   "execution_count": 15,
   "metadata": {},
   "outputs": [
    {
     "data": {
      "text/html": [
       "<div>\n",
       "<style scoped>\n",
       "    .dataframe tbody tr th:only-of-type {\n",
       "        vertical-align: middle;\n",
       "    }\n",
       "\n",
       "    .dataframe tbody tr th {\n",
       "        vertical-align: top;\n",
       "    }\n",
       "\n",
       "    .dataframe thead th {\n",
       "        text-align: right;\n",
       "    }\n",
       "</style>\n",
       "<table border=\"1\" class=\"dataframe\">\n",
       "  <thead>\n",
       "    <tr style=\"text-align: right;\">\n",
       "      <th></th>\n",
       "      <th>AssessJob1</th>\n",
       "      <th>AssessJob2</th>\n",
       "      <th>AssessJob3</th>\n",
       "      <th>AssessJob4</th>\n",
       "      <th>AssessJob5</th>\n",
       "      <th>AssessJob6</th>\n",
       "      <th>AssessJob7</th>\n",
       "      <th>AssessJob8</th>\n",
       "      <th>AssessJob9</th>\n",
       "      <th>AssessJob10</th>\n",
       "      <th>...</th>\n",
       "      <th>R</th>\n",
       "      <th>Java</th>\n",
       "      <th>JavaScript</th>\n",
       "      <th>Bash/Shell</th>\n",
       "      <th>HTML</th>\n",
       "      <th>C</th>\n",
       "      <th>MySQL</th>\n",
       "      <th>PostgreSQL</th>\n",
       "      <th>SQL Server</th>\n",
       "      <th>MongoDB</th>\n",
       "    </tr>\n",
       "  </thead>\n",
       "  <tbody>\n",
       "    <tr>\n",
       "      <th>62</th>\n",
       "      <td>5.0</td>\n",
       "      <td>9.0</td>\n",
       "      <td>4.0</td>\n",
       "      <td>10.0</td>\n",
       "      <td>6.0</td>\n",
       "      <td>1.0</td>\n",
       "      <td>3.0</td>\n",
       "      <td>7.0</td>\n",
       "      <td>2.0</td>\n",
       "      <td>8.0</td>\n",
       "      <td>...</td>\n",
       "      <td>0</td>\n",
       "      <td>0</td>\n",
       "      <td>0</td>\n",
       "      <td>0</td>\n",
       "      <td>0</td>\n",
       "      <td>1</td>\n",
       "      <td>1</td>\n",
       "      <td>1</td>\n",
       "      <td>0</td>\n",
       "      <td>0</td>\n",
       "    </tr>\n",
       "    <tr>\n",
       "      <th>126</th>\n",
       "      <td>8.0</td>\n",
       "      <td>6.0</td>\n",
       "      <td>3.0</td>\n",
       "      <td>1.0</td>\n",
       "      <td>7.0</td>\n",
       "      <td>4.0</td>\n",
       "      <td>9.0</td>\n",
       "      <td>2.0</td>\n",
       "      <td>10.0</td>\n",
       "      <td>5.0</td>\n",
       "      <td>...</td>\n",
       "      <td>0</td>\n",
       "      <td>1</td>\n",
       "      <td>1</td>\n",
       "      <td>0</td>\n",
       "      <td>1</td>\n",
       "      <td>1</td>\n",
       "      <td>1</td>\n",
       "      <td>1</td>\n",
       "      <td>0</td>\n",
       "      <td>0</td>\n",
       "    </tr>\n",
       "    <tr>\n",
       "      <th>131</th>\n",
       "      <td>6.0</td>\n",
       "      <td>1.0</td>\n",
       "      <td>2.0</td>\n",
       "      <td>5.0</td>\n",
       "      <td>9.0</td>\n",
       "      <td>4.0</td>\n",
       "      <td>7.0</td>\n",
       "      <td>3.0</td>\n",
       "      <td>10.0</td>\n",
       "      <td>8.0</td>\n",
       "      <td>...</td>\n",
       "      <td>1</td>\n",
       "      <td>0</td>\n",
       "      <td>0</td>\n",
       "      <td>0</td>\n",
       "      <td>1</td>\n",
       "      <td>1</td>\n",
       "      <td>1</td>\n",
       "      <td>1</td>\n",
       "      <td>1</td>\n",
       "      <td>0</td>\n",
       "    </tr>\n",
       "    <tr>\n",
       "      <th>136</th>\n",
       "      <td>8.0</td>\n",
       "      <td>7.0</td>\n",
       "      <td>5.0</td>\n",
       "      <td>3.0</td>\n",
       "      <td>4.0</td>\n",
       "      <td>6.0</td>\n",
       "      <td>10.0</td>\n",
       "      <td>2.0</td>\n",
       "      <td>9.0</td>\n",
       "      <td>1.0</td>\n",
       "      <td>...</td>\n",
       "      <td>0</td>\n",
       "      <td>1</td>\n",
       "      <td>1</td>\n",
       "      <td>0</td>\n",
       "      <td>1</td>\n",
       "      <td>1</td>\n",
       "      <td>0</td>\n",
       "      <td>0</td>\n",
       "      <td>1</td>\n",
       "      <td>0</td>\n",
       "    </tr>\n",
       "    <tr>\n",
       "      <th>211</th>\n",
       "      <td>7.0</td>\n",
       "      <td>4.0</td>\n",
       "      <td>8.0</td>\n",
       "      <td>5.0</td>\n",
       "      <td>9.0</td>\n",
       "      <td>2.0</td>\n",
       "      <td>6.0</td>\n",
       "      <td>1.0</td>\n",
       "      <td>10.0</td>\n",
       "      <td>3.0</td>\n",
       "      <td>...</td>\n",
       "      <td>0</td>\n",
       "      <td>1</td>\n",
       "      <td>1</td>\n",
       "      <td>0</td>\n",
       "      <td>1</td>\n",
       "      <td>1</td>\n",
       "      <td>0</td>\n",
       "      <td>0</td>\n",
       "      <td>0</td>\n",
       "      <td>0</td>\n",
       "    </tr>\n",
       "  </tbody>\n",
       "</table>\n",
       "<p>5 rows × 76 columns</p>\n",
       "</div>"
      ],
      "text/plain": [
       "     AssessJob1  AssessJob2  AssessJob3  AssessJob4  AssessJob5  AssessJob6  \\\n",
       "62          5.0         9.0         4.0        10.0         6.0         1.0   \n",
       "126         8.0         6.0         3.0         1.0         7.0         4.0   \n",
       "131         6.0         1.0         2.0         5.0         9.0         4.0   \n",
       "136         8.0         7.0         5.0         3.0         4.0         6.0   \n",
       "211         7.0         4.0         8.0         5.0         9.0         2.0   \n",
       "\n",
       "     AssessJob7  AssessJob8  AssessJob9  AssessJob10   ...     R  Java  \\\n",
       "62          3.0         7.0         2.0          8.0   ...     0     0   \n",
       "126         9.0         2.0        10.0          5.0   ...     0     1   \n",
       "131         7.0         3.0        10.0          8.0   ...     1     0   \n",
       "136        10.0         2.0         9.0          1.0   ...     0     1   \n",
       "211         6.0         1.0        10.0          3.0   ...     0     1   \n",
       "\n",
       "     JavaScript  Bash/Shell  HTML  C  MySQL  PostgreSQL  SQL Server  MongoDB  \n",
       "62            0           0     0  1      1           1           0        0  \n",
       "126           1           0     1  1      1           1           0        0  \n",
       "131           0           0     1  1      1           1           1        0  \n",
       "136           1           0     1  1      0           0           1        0  \n",
       "211           1           0     1  1      0           0           0        0  \n",
       "\n",
       "[5 rows x 76 columns]"
      ]
     },
     "execution_count": 15,
     "metadata": {},
     "output_type": "execute_result"
    }
   ],
   "source": [
    "#Ficam MySQL, PostgreSQL, SQL Server, MongoDB\n",
    "dbases = [\"MySQL\",\"PostgreSQL\",\"SQL Server\", \"MongoDB\"]\n",
    "for db in dbases:\n",
    "    B[db] = B['DatabaseWorkedWith'].apply(lambda x: int(db in x))\n",
    "B = B.drop(columns=[\"DatabaseWorkedWith\"])\n",
    "B.head()"
   ]
  },
  {
   "cell_type": "code",
   "execution_count": 16,
   "metadata": {},
   "outputs": [
    {
     "name": "stdout",
     "output_type": "stream",
     "text": [
      "(390, 76)Hadoop\n",
      "(510, 76)Spark\n",
      "(338, 76)Django\n",
      "(346, 76)React\n",
      "(671, 76)Node.js\n",
      "(736, 76)TensorFlow\n",
      "(333, 76).NET Core\n",
      "(431, 76)Angular\n",
      "(84, 76)Xamarin\n"
     ]
    }
   ],
   "source": [
    "for language in [\"Hadoop\",\"Spark\",'Django','React','Node.js','TensorFlow','.NET Core','Angular','Xamarin']:\n",
    "    print(str(B[B['FrameworkWorkedWith'].apply(lambda x: language in x)].shape) + language)"
   ]
  },
  {
   "cell_type": "code",
   "execution_count": 17,
   "metadata": {},
   "outputs": [
    {
     "data": {
      "text/html": [
       "<div>\n",
       "<style scoped>\n",
       "    .dataframe tbody tr th:only-of-type {\n",
       "        vertical-align: middle;\n",
       "    }\n",
       "\n",
       "    .dataframe tbody tr th {\n",
       "        vertical-align: top;\n",
       "    }\n",
       "\n",
       "    .dataframe thead th {\n",
       "        text-align: right;\n",
       "    }\n",
       "</style>\n",
       "<table border=\"1\" class=\"dataframe\">\n",
       "  <thead>\n",
       "    <tr style=\"text-align: right;\">\n",
       "      <th></th>\n",
       "      <th>AssessJob1</th>\n",
       "      <th>AssessJob2</th>\n",
       "      <th>AssessJob3</th>\n",
       "      <th>AssessJob4</th>\n",
       "      <th>AssessJob5</th>\n",
       "      <th>AssessJob6</th>\n",
       "      <th>AssessJob7</th>\n",
       "      <th>AssessJob8</th>\n",
       "      <th>AssessJob9</th>\n",
       "      <th>AssessJob10</th>\n",
       "      <th>...</th>\n",
       "      <th>HTML</th>\n",
       "      <th>C</th>\n",
       "      <th>MySQL</th>\n",
       "      <th>PostgreSQL</th>\n",
       "      <th>SQL Server</th>\n",
       "      <th>MongoDB</th>\n",
       "      <th>TensorFlow</th>\n",
       "      <th>Node.js</th>\n",
       "      <th>Spark</th>\n",
       "      <th>Angular</th>\n",
       "    </tr>\n",
       "  </thead>\n",
       "  <tbody>\n",
       "    <tr>\n",
       "      <th>62</th>\n",
       "      <td>5.0</td>\n",
       "      <td>9.0</td>\n",
       "      <td>4.0</td>\n",
       "      <td>10.0</td>\n",
       "      <td>6.0</td>\n",
       "      <td>1.0</td>\n",
       "      <td>3.0</td>\n",
       "      <td>7.0</td>\n",
       "      <td>2.0</td>\n",
       "      <td>8.0</td>\n",
       "      <td>...</td>\n",
       "      <td>0</td>\n",
       "      <td>1</td>\n",
       "      <td>1</td>\n",
       "      <td>1</td>\n",
       "      <td>0</td>\n",
       "      <td>0</td>\n",
       "      <td>0</td>\n",
       "      <td>0</td>\n",
       "      <td>1</td>\n",
       "      <td>0</td>\n",
       "    </tr>\n",
       "    <tr>\n",
       "      <th>126</th>\n",
       "      <td>8.0</td>\n",
       "      <td>6.0</td>\n",
       "      <td>3.0</td>\n",
       "      <td>1.0</td>\n",
       "      <td>7.0</td>\n",
       "      <td>4.0</td>\n",
       "      <td>9.0</td>\n",
       "      <td>2.0</td>\n",
       "      <td>10.0</td>\n",
       "      <td>5.0</td>\n",
       "      <td>...</td>\n",
       "      <td>1</td>\n",
       "      <td>1</td>\n",
       "      <td>1</td>\n",
       "      <td>1</td>\n",
       "      <td>0</td>\n",
       "      <td>0</td>\n",
       "      <td>0</td>\n",
       "      <td>0</td>\n",
       "      <td>1</td>\n",
       "      <td>0</td>\n",
       "    </tr>\n",
       "    <tr>\n",
       "      <th>131</th>\n",
       "      <td>6.0</td>\n",
       "      <td>1.0</td>\n",
       "      <td>2.0</td>\n",
       "      <td>5.0</td>\n",
       "      <td>9.0</td>\n",
       "      <td>4.0</td>\n",
       "      <td>7.0</td>\n",
       "      <td>3.0</td>\n",
       "      <td>10.0</td>\n",
       "      <td>8.0</td>\n",
       "      <td>...</td>\n",
       "      <td>1</td>\n",
       "      <td>1</td>\n",
       "      <td>1</td>\n",
       "      <td>1</td>\n",
       "      <td>1</td>\n",
       "      <td>0</td>\n",
       "      <td>1</td>\n",
       "      <td>0</td>\n",
       "      <td>0</td>\n",
       "      <td>0</td>\n",
       "    </tr>\n",
       "    <tr>\n",
       "      <th>136</th>\n",
       "      <td>8.0</td>\n",
       "      <td>7.0</td>\n",
       "      <td>5.0</td>\n",
       "      <td>3.0</td>\n",
       "      <td>4.0</td>\n",
       "      <td>6.0</td>\n",
       "      <td>10.0</td>\n",
       "      <td>2.0</td>\n",
       "      <td>9.0</td>\n",
       "      <td>1.0</td>\n",
       "      <td>...</td>\n",
       "      <td>1</td>\n",
       "      <td>1</td>\n",
       "      <td>0</td>\n",
       "      <td>0</td>\n",
       "      <td>1</td>\n",
       "      <td>0</td>\n",
       "      <td>0</td>\n",
       "      <td>0</td>\n",
       "      <td>0</td>\n",
       "      <td>0</td>\n",
       "    </tr>\n",
       "    <tr>\n",
       "      <th>211</th>\n",
       "      <td>7.0</td>\n",
       "      <td>4.0</td>\n",
       "      <td>8.0</td>\n",
       "      <td>5.0</td>\n",
       "      <td>9.0</td>\n",
       "      <td>2.0</td>\n",
       "      <td>6.0</td>\n",
       "      <td>1.0</td>\n",
       "      <td>10.0</td>\n",
       "      <td>3.0</td>\n",
       "      <td>...</td>\n",
       "      <td>1</td>\n",
       "      <td>1</td>\n",
       "      <td>0</td>\n",
       "      <td>0</td>\n",
       "      <td>0</td>\n",
       "      <td>0</td>\n",
       "      <td>0</td>\n",
       "      <td>1</td>\n",
       "      <td>0</td>\n",
       "      <td>1</td>\n",
       "    </tr>\n",
       "  </tbody>\n",
       "</table>\n",
       "<p>5 rows × 79 columns</p>\n",
       "</div>"
      ],
      "text/plain": [
       "     AssessJob1  AssessJob2  AssessJob3  AssessJob4  AssessJob5  AssessJob6  \\\n",
       "62          5.0         9.0         4.0        10.0         6.0         1.0   \n",
       "126         8.0         6.0         3.0         1.0         7.0         4.0   \n",
       "131         6.0         1.0         2.0         5.0         9.0         4.0   \n",
       "136         8.0         7.0         5.0         3.0         4.0         6.0   \n",
       "211         7.0         4.0         8.0         5.0         9.0         2.0   \n",
       "\n",
       "     AssessJob7  AssessJob8  AssessJob9  AssessJob10   ...     HTML  C  MySQL  \\\n",
       "62          3.0         7.0         2.0          8.0   ...        0  1      1   \n",
       "126         9.0         2.0        10.0          5.0   ...        1  1      1   \n",
       "131         7.0         3.0        10.0          8.0   ...        1  1      1   \n",
       "136        10.0         2.0         9.0          1.0   ...        1  1      0   \n",
       "211         6.0         1.0        10.0          3.0   ...        1  1      0   \n",
       "\n",
       "     PostgreSQL  SQL Server  MongoDB  TensorFlow  Node.js  Spark  Angular  \n",
       "62            1           0        0           0        0      1        0  \n",
       "126           1           0        0           0        0      1        0  \n",
       "131           1           1        0           1        0      0        0  \n",
       "136           0           1        0           0        0      0        0  \n",
       "211           0           0        0           0        1      0        1  \n",
       "\n",
       "[5 rows x 79 columns]"
      ]
     },
     "execution_count": 17,
     "metadata": {},
     "output_type": "execute_result"
    }
   ],
   "source": [
    "#Ficam TensorFlow, Node.js, Spark, Angular\n",
    "frameworks = [\"TensorFlow\", \"Node.js\", \"Spark\", \"Angular\"]\n",
    "for fw in frameworks:\n",
    "    B[fw] = B['FrameworkWorkedWith'].apply(lambda x: int(fw in x))\n",
    "B = B.drop(columns=['FrameworkWorkedWith'])\n",
    "B.head()"
   ]
  },
  {
   "cell_type": "code",
   "execution_count": 18,
   "metadata": {},
   "outputs": [
    {
     "data": {
      "text/plain": [
       "0"
      ]
     },
     "execution_count": 18,
     "metadata": {},
     "output_type": "execute_result"
    }
   ],
   "source": [
    "from sklearn.model_selection import train_test_split\n",
    "B = B.dropna(how='any',inplace=False)\n",
    "train, test = train_test_split(B, test_size=0.2)\n",
    "sum(sum(B.isna().values))"
   ]
  },
  {
   "cell_type": "code",
   "execution_count": 19,
   "metadata": {},
   "outputs": [
    {
     "data": {
      "text/plain": [
       "0"
      ]
     },
     "execution_count": 19,
     "metadata": {},
     "output_type": "execute_result"
    }
   ],
   "source": [
    "test = test.dropna(how='any',inplace=False)\n",
    "test = (test - test.mean()) / test.std(ddof=0)\n",
    "sum(sum(test.isna().values))"
   ]
  },
  {
   "cell_type": "code",
   "execution_count": 20,
   "metadata": {
    "scrolled": true
   },
   "outputs": [
    {
     "data": {
      "text/plain": [
       "[(1.0000000000000004, 'AssessJob1'),\n",
       " (0.9999999999999986, 'AssessJob2'),\n",
       " (1.0000000000000004, 'AssessJob3'),\n",
       " (1.0000000000000007, 'AssessJob4'),\n",
       " (1.0000000000000009, 'AssessJob5'),\n",
       " (0.9999999999999994, 'AssessJob6'),\n",
       " (0.9999999999999989, 'AssessJob7'),\n",
       " (1.0000000000000002, 'AssessJob8'),\n",
       " (1.000000000000001, 'AssessJob9'),\n",
       " (1.0000000000000004, 'AssessJob10'),\n",
       " (1.0000000000000004, 'ConvertedSalary'),\n",
       " (1.0000000000000022, 'OperatingSystem_Linux-based'),\n",
       " (1.0000000000000022, 'OperatingSystem_MacOS'),\n",
       " (0.9999999999999993, 'OperatingSystem_Windows'),\n",
       " (1.0000000000000002, 'LastNewJob_Between 2 and 4 years ago'),\n",
       " (1.0000000000000022, 'LastNewJob_Less than a year ago'),\n",
       " (0.9999999999999992, 'LastNewJob_More than 4 years ago'),\n",
       " (1.0000000000000004, 'YearsCodingProf_12-14 years'),\n",
       " (1.0000000000000009, 'YearsCodingProf_15-17 years'),\n",
       " (1.000000000000004, 'YearsCodingProf_18-20 years'),\n",
       " (1.000000000000002, 'YearsCodingProf_21-23 years'),\n",
       " (1.000000000000003, 'YearsCodingProf_24-26 years'),\n",
       " (0.9999999999999954, 'YearsCodingProf_27-29 years'),\n",
       " (0.9999999999999978, 'YearsCodingProf_3-5 years'),\n",
       " (1.000000000000002, 'YearsCodingProf_30 or more years'),\n",
       " (1.0000000000000013, 'YearsCodingProf_6-8 years'),\n",
       " (1.000000000000002, 'YearsCodingProf_9-11 years'),\n",
       " (1.0000000000000013, 'CompanySize_10 to 19 employees'),\n",
       " (1.0000000000000013, 'CompanySize_10,000 or more employees'),\n",
       " (0.9999999999999973, 'CompanySize_100 to 499 employees'),\n",
       " (0.999999999999997, 'CompanySize_20 to 99 employees'),\n",
       " (1.0, 'CompanySize_5,000 to 9,999 employees'),\n",
       " (0.9999999999999996, 'CompanySize_500 to 999 employees'),\n",
       " (1.0000000000000049, 'CompanySize_Fewer than 10 employees'),\n",
       " (0.9999999999999994,\n",
       "  'FormalEducation_Bachelor’s degree (BA, BS, B.Eng., etc.)'),\n",
       " (0.9999999999999987,\n",
       "  'FormalEducation_Master’s degree (MA, MS, M.Eng., MBA, etc.)'),\n",
       " (0.9999999999999943,\n",
       "  'FormalEducation_Other doctoral degree (Ph.D, Ed.D., etc.)'),\n",
       " (1.0000000000000004, 'FormalEducation_Professional degree (JD, MD, etc.)'),\n",
       " (0.999999999999998,\n",
       "  'FormalEducation_Some college/university study without earning a degree'),\n",
       " (0.9999999999999982,\n",
       "  'UndergradMajor_A humanities discipline (ex. literature, history, philosophy)'),\n",
       " (0.9999999999999989,\n",
       "  'UndergradMajor_A natural science (ex. biology, chemistry, physics)'),\n",
       " (0.9999999999999994,\n",
       "  'UndergradMajor_A social science (ex. anthropology, psychology, political science)'),\n",
       " (1.000000000000001,\n",
       "  'UndergradMajor_Another engineering discipline (ex. civil, electrical, mechanical)'),\n",
       " (0.9999999999999983,\n",
       "  'UndergradMajor_Computer science, computer engineering, or software engineering'),\n",
       " (0.9999999999999971,\n",
       "  'UndergradMajor_Fine arts or performing arts (ex. graphic design, music, studio art)'),\n",
       " (0.9999999999999968, 'UndergradMajor_I never declared a major'),\n",
       " (1.0000000000000018,\n",
       "  'UndergradMajor_Information systems, information technology, or system administration'),\n",
       " (0.9999999999999974, 'UndergradMajor_Mathematics or statistics'),\n",
       " (1.0000000000000004, 'YearsCoding_12-14 years'),\n",
       " (0.999999999999996, 'YearsCoding_15-17 years'),\n",
       " (1.0000000000000013, 'YearsCoding_18-20 years'),\n",
       " (1.0000000000000022, 'YearsCoding_21-23 years'),\n",
       " (1.0000000000000038, 'YearsCoding_24-26 years'),\n",
       " (1.000000000000005, 'YearsCoding_27-29 years'),\n",
       " (1.0000000000000044, 'YearsCoding_3-5 years'),\n",
       " (0.9999999999999974, 'YearsCoding_30 or more years'),\n",
       " (0.999999999999998, 'YearsCoding_6-8 years'),\n",
       " (1.0000000000000024, 'YearsCoding_9-11 years'),\n",
       " (0.9999999999999952, 'Age_18 - 24 years old'),\n",
       " (1.0000000000000027, 'Age_25 - 34 years old'),\n",
       " (1.0000000000000007, 'Age_35 - 44 years old'),\n",
       " (1.0000000000000002, 'Age_45 - 54 years old'),\n",
       " (1.0000000000000033, 'Age_55 - 64 years old'),\n",
       " (0.999999999999999, 'Python'),\n",
       " (1.0000000000000004, 'SQL'),\n",
       " (1.0000000000000022, 'R'),\n",
       " (0.9999999999999996, 'Java'),\n",
       " (1.0000000000000038, 'JavaScript'),\n",
       " (1.0000000000000029, 'Bash/Shell'),\n",
       " (1.0000000000000036, 'HTML'),\n",
       " (1.0000000000000027, 'C'),\n",
       " (1.0000000000000016, 'MySQL'),\n",
       " (1.0000000000000002, 'PostgreSQL'),\n",
       " (1.0000000000000027, 'SQL Server'),\n",
       " (1.0000000000000033, 'MongoDB'),\n",
       " (1.000000000000002, 'TensorFlow'),\n",
       " (0.9999999999999972, 'Node.js'),\n",
       " (1.0000000000000027, 'Spark'),\n",
       " (0.9999999999999964, 'Angular')]"
      ]
     },
     "execution_count": 20,
     "metadata": {},
     "output_type": "execute_result"
    }
   ],
   "source": [
    "listA = test.std(ddof=0)\n",
    "listB = list(test)\n",
    "[(listA[i],listB[i]) for i in range(len(listA))]"
   ]
  },
  {
   "cell_type": "code",
   "execution_count": 21,
   "metadata": {},
   "outputs": [
    {
     "data": {
      "text/plain": [
       "0"
      ]
     },
     "execution_count": 21,
     "metadata": {},
     "output_type": "execute_result"
    }
   ],
   "source": [
    "train = train.dropna(how='any',inplace=False)\n",
    "train = (train - train.mean()) / train.std(ddof=0) + 0.01 * (train - train.mean())\n",
    "sum(sum(train.isna().values))"
   ]
  },
  {
   "cell_type": "code",
   "execution_count": 22,
   "metadata": {},
   "outputs": [
    {
     "data": {
      "text/html": [
       "<div>\n",
       "<style scoped>\n",
       "    .dataframe tbody tr th:only-of-type {\n",
       "        vertical-align: middle;\n",
       "    }\n",
       "\n",
       "    .dataframe tbody tr th {\n",
       "        vertical-align: top;\n",
       "    }\n",
       "\n",
       "    .dataframe thead th {\n",
       "        text-align: right;\n",
       "    }\n",
       "</style>\n",
       "<table border=\"1\" class=\"dataframe\">\n",
       "  <thead>\n",
       "    <tr style=\"text-align: right;\">\n",
       "      <th></th>\n",
       "      <th>AssessJob1</th>\n",
       "      <th>AssessJob2</th>\n",
       "      <th>AssessJob3</th>\n",
       "      <th>AssessJob4</th>\n",
       "      <th>AssessJob5</th>\n",
       "      <th>AssessJob6</th>\n",
       "      <th>AssessJob7</th>\n",
       "      <th>AssessJob8</th>\n",
       "      <th>AssessJob9</th>\n",
       "      <th>AssessJob10</th>\n",
       "      <th>...</th>\n",
       "      <th>HTML</th>\n",
       "      <th>C</th>\n",
       "      <th>MySQL</th>\n",
       "      <th>PostgreSQL</th>\n",
       "      <th>SQL Server</th>\n",
       "      <th>MongoDB</th>\n",
       "      <th>TensorFlow</th>\n",
       "      <th>Node.js</th>\n",
       "      <th>Spark</th>\n",
       "      <th>Angular</th>\n",
       "    </tr>\n",
       "  </thead>\n",
       "  <tbody>\n",
       "    <tr>\n",
       "      <th>5042</th>\n",
       "      <td>1.355014</td>\n",
       "      <td>0.448540</td>\n",
       "      <td>0.527166</td>\n",
       "      <td>-1.389817</td>\n",
       "      <td>-0.731246</td>\n",
       "      <td>0.670827</td>\n",
       "      <td>-0.412550</td>\n",
       "      <td>-0.068085</td>\n",
       "      <td>0.545959</td>\n",
       "      <td>-0.950245</td>\n",
       "      <td>...</td>\n",
       "      <td>0.786870</td>\n",
       "      <td>0.538817</td>\n",
       "      <td>-1.120743</td>\n",
       "      <td>-0.944442</td>\n",
       "      <td>-0.792776</td>\n",
       "      <td>1.372030</td>\n",
       "      <td>-0.859432</td>\n",
       "      <td>1.306554</td>\n",
       "      <td>-0.629660</td>\n",
       "      <td>-0.578211</td>\n",
       "    </tr>\n",
       "    <tr>\n",
       "      <th>17815</th>\n",
       "      <td>-1.951427</td>\n",
       "      <td>0.448540</td>\n",
       "      <td>-0.227906</td>\n",
       "      <td>0.951217</td>\n",
       "      <td>0.137549</td>\n",
       "      <td>-1.000935</td>\n",
       "      <td>1.398583</td>\n",
       "      <td>-0.478910</td>\n",
       "      <td>-0.750809</td>\n",
       "      <td>1.325849</td>\n",
       "      <td>...</td>\n",
       "      <td>0.786870</td>\n",
       "      <td>0.538817</td>\n",
       "      <td>-1.120743</td>\n",
       "      <td>-0.944442</td>\n",
       "      <td>1.273688</td>\n",
       "      <td>-0.735812</td>\n",
       "      <td>1.175083</td>\n",
       "      <td>-0.772788</td>\n",
       "      <td>-0.629660</td>\n",
       "      <td>-0.578211</td>\n",
       "    </tr>\n",
       "    <tr>\n",
       "      <th>7389</th>\n",
       "      <td>-1.584045</td>\n",
       "      <td>-0.365318</td>\n",
       "      <td>1.659775</td>\n",
       "      <td>1.341390</td>\n",
       "      <td>0.571946</td>\n",
       "      <td>-0.582995</td>\n",
       "      <td>-0.774776</td>\n",
       "      <td>-1.300560</td>\n",
       "      <td>-0.318553</td>\n",
       "      <td>1.325849</td>\n",
       "      <td>...</td>\n",
       "      <td>0.786870</td>\n",
       "      <td>0.538817</td>\n",
       "      <td>0.901157</td>\n",
       "      <td>1.069421</td>\n",
       "      <td>-0.792776</td>\n",
       "      <td>-0.735812</td>\n",
       "      <td>-0.859432</td>\n",
       "      <td>1.306554</td>\n",
       "      <td>-0.629660</td>\n",
       "      <td>1.744461</td>\n",
       "    </tr>\n",
       "    <tr>\n",
       "      <th>50942</th>\n",
       "      <td>0.252867</td>\n",
       "      <td>-1.179175</td>\n",
       "      <td>-0.227906</td>\n",
       "      <td>1.731562</td>\n",
       "      <td>-0.731246</td>\n",
       "      <td>0.670827</td>\n",
       "      <td>0.674130</td>\n",
       "      <td>-1.300560</td>\n",
       "      <td>0.978215</td>\n",
       "      <td>-0.950245</td>\n",
       "      <td>...</td>\n",
       "      <td>0.786870</td>\n",
       "      <td>0.538817</td>\n",
       "      <td>-1.120743</td>\n",
       "      <td>-0.944442</td>\n",
       "      <td>-0.792776</td>\n",
       "      <td>-0.735812</td>\n",
       "      <td>1.175083</td>\n",
       "      <td>-0.772788</td>\n",
       "      <td>-0.629660</td>\n",
       "      <td>1.744461</td>\n",
       "    </tr>\n",
       "    <tr>\n",
       "      <th>60618</th>\n",
       "      <td>-1.951427</td>\n",
       "      <td>-0.772247</td>\n",
       "      <td>0.149630</td>\n",
       "      <td>1.341390</td>\n",
       "      <td>0.137549</td>\n",
       "      <td>-1.000935</td>\n",
       "      <td>1.398583</td>\n",
       "      <td>-0.478910</td>\n",
       "      <td>0.545959</td>\n",
       "      <td>0.567151</td>\n",
       "      <td>...</td>\n",
       "      <td>-1.283226</td>\n",
       "      <td>0.538817</td>\n",
       "      <td>-1.120743</td>\n",
       "      <td>-0.944442</td>\n",
       "      <td>-0.792776</td>\n",
       "      <td>-0.735812</td>\n",
       "      <td>-0.859432</td>\n",
       "      <td>-0.772788</td>\n",
       "      <td>1.602485</td>\n",
       "      <td>-0.578211</td>\n",
       "    </tr>\n",
       "  </tbody>\n",
       "</table>\n",
       "<p>5 rows × 79 columns</p>\n",
       "</div>"
      ],
      "text/plain": [
       "       AssessJob1  AssessJob2  AssessJob3  AssessJob4  AssessJob5  AssessJob6  \\\n",
       "5042     1.355014    0.448540    0.527166   -1.389817   -0.731246    0.670827   \n",
       "17815   -1.951427    0.448540   -0.227906    0.951217    0.137549   -1.000935   \n",
       "7389    -1.584045   -0.365318    1.659775    1.341390    0.571946   -0.582995   \n",
       "50942    0.252867   -1.179175   -0.227906    1.731562   -0.731246    0.670827   \n",
       "60618   -1.951427   -0.772247    0.149630    1.341390    0.137549   -1.000935   \n",
       "\n",
       "       AssessJob7  AssessJob8  AssessJob9  AssessJob10    ...         HTML  \\\n",
       "5042    -0.412550   -0.068085    0.545959    -0.950245    ...     0.786870   \n",
       "17815    1.398583   -0.478910   -0.750809     1.325849    ...     0.786870   \n",
       "7389    -0.774776   -1.300560   -0.318553     1.325849    ...     0.786870   \n",
       "50942    0.674130   -1.300560    0.978215    -0.950245    ...     0.786870   \n",
       "60618    1.398583   -0.478910    0.545959     0.567151    ...    -1.283226   \n",
       "\n",
       "              C     MySQL  PostgreSQL  SQL Server   MongoDB  TensorFlow  \\\n",
       "5042   0.538817 -1.120743   -0.944442   -0.792776  1.372030   -0.859432   \n",
       "17815  0.538817 -1.120743   -0.944442    1.273688 -0.735812    1.175083   \n",
       "7389   0.538817  0.901157    1.069421   -0.792776 -0.735812   -0.859432   \n",
       "50942  0.538817 -1.120743   -0.944442   -0.792776 -0.735812    1.175083   \n",
       "60618  0.538817 -1.120743   -0.944442   -0.792776 -0.735812   -0.859432   \n",
       "\n",
       "        Node.js     Spark   Angular  \n",
       "5042   1.306554 -0.629660 -0.578211  \n",
       "17815 -0.772788 -0.629660 -0.578211  \n",
       "7389   1.306554 -0.629660  1.744461  \n",
       "50942 -0.772788 -0.629660  1.744461  \n",
       "60618 -0.772788  1.602485 -0.578211  \n",
       "\n",
       "[5 rows x 79 columns]"
      ]
     },
     "execution_count": 22,
     "metadata": {},
     "output_type": "execute_result"
    }
   ],
   "source": [
    "train.head()"
   ]
  },
  {
   "cell_type": "markdown",
   "metadata": {},
   "source": [
    "# Parte 1: Introdução\n",
    "\n",
    "1. Descreva a base em conjunto com sua pergunta de pesquisa.\n",
    "2. Apresente uma descrição da base de dados utilizada, explicitando cada uma das variáveis dependentes, a variável independente, número de amostras e problema sendo tratado."
   ]
  },
  {
   "cell_type": "markdown",
   "metadata": {},
   "source": [
    "Trata-se da StackOverflow Developer Survey de 2018, no qual fiz algumas restrições:\n",
    "* Apenas cientistas de dados\n",
    "* Apenas profissionais empregados\n",
    "* Apenas parâmetros do modelo que sejam factíveis de estarem em mãos de um recrutator\n",
    "\n",
    "A maior parte das variáveis dependentes são auto-explicativas, se a pessoa progama em determinada linguagem, se a pessoa utiliza determinada tecnologia de banco de dados, se a pessoa utiliza determinado framework, etc. O que fica na dǘvida apenas são as variáveis AcessJob, que na Survey é um campo de ordenar 10 coisas importantes para você num emprego.\n",
    "\n",
    "* The industry that I'd be working in\n",
    "* The financial performance or funding status of the company or organization\n",
    "* The specific department or team I'd be working on\n",
    "* The languages, frameworks, and other technologies I'd be working with\n",
    "* The compensation and benefits offered\n",
    "* The office environment or company culture\n",
    "* The opportunity to work from home/remotely\n",
    "* Opportunities for professional development\n",
    "* The diversity of the company or organization\n",
    "* How widely used or impactful the product or service I'd be working on is\n",
    "\n",
    "A pergunta do estudo é **Dadas as informações que tenho sobre este profissional de Data Science, quanto ele provavelmente deve receber na empresa atual dele?** \n",
    "\n",
    "Essa pergunta faz sentido, por exemplo, numa empresa que precisa fazer uma proposta para um profissional de outra empresa e precisa ter uma estimativa educada do quanto ele ganha lá.\n",
    "\n",
    "Neste trabalho teremos"
   ]
  },
  {
   "cell_type": "code",
   "execution_count": 23,
   "metadata": {},
   "outputs": [
    {
     "data": {
      "text/plain": [
       "1773"
      ]
     },
     "execution_count": 23,
     "metadata": {},
     "output_type": "execute_result"
    }
   ],
   "source": [
    "B.shape[0]"
   ]
  },
  {
   "cell_type": "markdown",
   "metadata": {},
   "source": [
    "amostras, divididas 80% em treino e 20% em teste. A variável independente é"
   ]
  },
  {
   "cell_type": "code",
   "execution_count": 24,
   "metadata": {},
   "outputs": [
    {
     "data": {
      "text/plain": [
       "62     120000.0\n",
       "126     30597.0\n",
       "131     42348.0\n",
       "136     55392.0\n",
       "211     46992.0\n",
       "Name: ConvertedSalary, dtype: float64"
      ]
     },
     "execution_count": 24,
     "metadata": {},
     "output_type": "execute_result"
    }
   ],
   "source": [
    "B['ConvertedSalary'].head()"
   ]
  },
  {
   "cell_type": "markdown",
   "metadata": {},
   "source": [
    "onde é o salário convertido a dólar do dia 18/01/2018."
   ]
  },
  {
   "cell_type": "markdown",
   "metadata": {},
   "source": [
    "3. Apresente estatı́sticas descritivas (média, mediana, variância/desvio padrão, quartis, máximo e mı́nimo, etc.) das varı́aveis. Seja criterioso sobre quais estatı́sticas serão mostradas e quais fazem sentido."
   ]
  },
  {
   "cell_type": "code",
   "execution_count": 25,
   "metadata": {},
   "outputs": [
    {
     "data": {
      "text/html": [
       "<div>\n",
       "<style scoped>\n",
       "    .dataframe tbody tr th:only-of-type {\n",
       "        vertical-align: middle;\n",
       "    }\n",
       "\n",
       "    .dataframe tbody tr th {\n",
       "        vertical-align: top;\n",
       "    }\n",
       "\n",
       "    .dataframe thead th {\n",
       "        text-align: right;\n",
       "    }\n",
       "</style>\n",
       "<table border=\"1\" class=\"dataframe\">\n",
       "  <thead>\n",
       "    <tr style=\"text-align: right;\">\n",
       "      <th></th>\n",
       "      <th>ConvertedSalary</th>\n",
       "      <th>LastNewJob_Between 2 and 4 years ago</th>\n",
       "      <th>LastNewJob_Less than a year ago</th>\n",
       "      <th>LastNewJob_More than 4 years ago</th>\n",
       "      <th>CompanySize_10 to 19 employees</th>\n",
       "      <th>CompanySize_10,000 or more employees</th>\n",
       "      <th>CompanySize_100 to 499 employees</th>\n",
       "      <th>CompanySize_20 to 99 employees</th>\n",
       "      <th>CompanySize_5,000 to 9,999 employees</th>\n",
       "      <th>CompanySize_500 to 999 employees</th>\n",
       "      <th>...</th>\n",
       "      <th>FormalEducation_Professional degree (JD, MD, etc.)</th>\n",
       "      <th>FormalEducation_Some college/university study without earning a degree</th>\n",
       "      <th>UndergradMajor_Mathematics or statistics</th>\n",
       "      <th>Python</th>\n",
       "      <th>SQL</th>\n",
       "      <th>R</th>\n",
       "      <th>HTML</th>\n",
       "      <th>C</th>\n",
       "      <th>TensorFlow</th>\n",
       "      <th>Node.js</th>\n",
       "    </tr>\n",
       "  </thead>\n",
       "  <tbody>\n",
       "    <tr>\n",
       "      <th>count</th>\n",
       "      <td>1.773000e+03</td>\n",
       "      <td>1773.000000</td>\n",
       "      <td>1773.000000</td>\n",
       "      <td>1773.000000</td>\n",
       "      <td>1773.000000</td>\n",
       "      <td>1773.000000</td>\n",
       "      <td>1773.000000</td>\n",
       "      <td>1773.000000</td>\n",
       "      <td>1773.000000</td>\n",
       "      <td>1773.000000</td>\n",
       "      <td>...</td>\n",
       "      <td>1773.000000</td>\n",
       "      <td>1773.000000</td>\n",
       "      <td>1773.000000</td>\n",
       "      <td>1773.000000</td>\n",
       "      <td>1773.000000</td>\n",
       "      <td>1773.000000</td>\n",
       "      <td>1773.000000</td>\n",
       "      <td>1773.000000</td>\n",
       "      <td>1773.000000</td>\n",
       "      <td>1773.000000</td>\n",
       "    </tr>\n",
       "    <tr>\n",
       "      <th>mean</th>\n",
       "      <td>1.127675e+05</td>\n",
       "      <td>0.219966</td>\n",
       "      <td>0.377327</td>\n",
       "      <td>0.157924</td>\n",
       "      <td>0.099267</td>\n",
       "      <td>0.197970</td>\n",
       "      <td>0.170333</td>\n",
       "      <td>0.201918</td>\n",
       "      <td>0.053582</td>\n",
       "      <td>0.057530</td>\n",
       "      <td>...</td>\n",
       "      <td>0.008460</td>\n",
       "      <td>0.077834</td>\n",
       "      <td>0.116187</td>\n",
       "      <td>0.816695</td>\n",
       "      <td>0.696560</td>\n",
       "      <td>0.453469</td>\n",
       "      <td>0.614213</td>\n",
       "      <td>0.769882</td>\n",
       "      <td>0.415116</td>\n",
       "      <td>0.378455</td>\n",
       "    </tr>\n",
       "    <tr>\n",
       "      <th>std</th>\n",
       "      <td>2.175229e+05</td>\n",
       "      <td>0.414340</td>\n",
       "      <td>0.484854</td>\n",
       "      <td>0.364773</td>\n",
       "      <td>0.299104</td>\n",
       "      <td>0.398581</td>\n",
       "      <td>0.376031</td>\n",
       "      <td>0.401544</td>\n",
       "      <td>0.225254</td>\n",
       "      <td>0.232917</td>\n",
       "      <td>...</td>\n",
       "      <td>0.091615</td>\n",
       "      <td>0.267986</td>\n",
       "      <td>0.320540</td>\n",
       "      <td>0.387026</td>\n",
       "      <td>0.459874</td>\n",
       "      <td>0.497971</td>\n",
       "      <td>0.486918</td>\n",
       "      <td>0.421027</td>\n",
       "      <td>0.492881</td>\n",
       "      <td>0.485139</td>\n",
       "    </tr>\n",
       "    <tr>\n",
       "      <th>min</th>\n",
       "      <td>0.000000e+00</td>\n",
       "      <td>0.000000</td>\n",
       "      <td>0.000000</td>\n",
       "      <td>0.000000</td>\n",
       "      <td>0.000000</td>\n",
       "      <td>0.000000</td>\n",
       "      <td>0.000000</td>\n",
       "      <td>0.000000</td>\n",
       "      <td>0.000000</td>\n",
       "      <td>0.000000</td>\n",
       "      <td>...</td>\n",
       "      <td>0.000000</td>\n",
       "      <td>0.000000</td>\n",
       "      <td>0.000000</td>\n",
       "      <td>0.000000</td>\n",
       "      <td>0.000000</td>\n",
       "      <td>0.000000</td>\n",
       "      <td>0.000000</td>\n",
       "      <td>0.000000</td>\n",
       "      <td>0.000000</td>\n",
       "      <td>0.000000</td>\n",
       "    </tr>\n",
       "    <tr>\n",
       "      <th>25%</th>\n",
       "      <td>3.369600e+04</td>\n",
       "      <td>0.000000</td>\n",
       "      <td>0.000000</td>\n",
       "      <td>0.000000</td>\n",
       "      <td>0.000000</td>\n",
       "      <td>0.000000</td>\n",
       "      <td>0.000000</td>\n",
       "      <td>0.000000</td>\n",
       "      <td>0.000000</td>\n",
       "      <td>0.000000</td>\n",
       "      <td>...</td>\n",
       "      <td>0.000000</td>\n",
       "      <td>0.000000</td>\n",
       "      <td>0.000000</td>\n",
       "      <td>1.000000</td>\n",
       "      <td>0.000000</td>\n",
       "      <td>0.000000</td>\n",
       "      <td>0.000000</td>\n",
       "      <td>1.000000</td>\n",
       "      <td>0.000000</td>\n",
       "      <td>0.000000</td>\n",
       "    </tr>\n",
       "    <tr>\n",
       "      <th>50%</th>\n",
       "      <td>6.756000e+04</td>\n",
       "      <td>0.000000</td>\n",
       "      <td>0.000000</td>\n",
       "      <td>0.000000</td>\n",
       "      <td>0.000000</td>\n",
       "      <td>0.000000</td>\n",
       "      <td>0.000000</td>\n",
       "      <td>0.000000</td>\n",
       "      <td>0.000000</td>\n",
       "      <td>0.000000</td>\n",
       "      <td>...</td>\n",
       "      <td>0.000000</td>\n",
       "      <td>0.000000</td>\n",
       "      <td>0.000000</td>\n",
       "      <td>1.000000</td>\n",
       "      <td>1.000000</td>\n",
       "      <td>0.000000</td>\n",
       "      <td>1.000000</td>\n",
       "      <td>1.000000</td>\n",
       "      <td>0.000000</td>\n",
       "      <td>0.000000</td>\n",
       "    </tr>\n",
       "    <tr>\n",
       "      <th>75%</th>\n",
       "      <td>1.095810e+05</td>\n",
       "      <td>0.000000</td>\n",
       "      <td>1.000000</td>\n",
       "      <td>0.000000</td>\n",
       "      <td>0.000000</td>\n",
       "      <td>0.000000</td>\n",
       "      <td>0.000000</td>\n",
       "      <td>0.000000</td>\n",
       "      <td>0.000000</td>\n",
       "      <td>0.000000</td>\n",
       "      <td>...</td>\n",
       "      <td>0.000000</td>\n",
       "      <td>0.000000</td>\n",
       "      <td>0.000000</td>\n",
       "      <td>1.000000</td>\n",
       "      <td>1.000000</td>\n",
       "      <td>1.000000</td>\n",
       "      <td>1.000000</td>\n",
       "      <td>1.000000</td>\n",
       "      <td>1.000000</td>\n",
       "      <td>1.000000</td>\n",
       "    </tr>\n",
       "    <tr>\n",
       "      <th>max</th>\n",
       "      <td>2.000000e+06</td>\n",
       "      <td>1.000000</td>\n",
       "      <td>1.000000</td>\n",
       "      <td>1.000000</td>\n",
       "      <td>1.000000</td>\n",
       "      <td>1.000000</td>\n",
       "      <td>1.000000</td>\n",
       "      <td>1.000000</td>\n",
       "      <td>1.000000</td>\n",
       "      <td>1.000000</td>\n",
       "      <td>...</td>\n",
       "      <td>1.000000</td>\n",
       "      <td>1.000000</td>\n",
       "      <td>1.000000</td>\n",
       "      <td>1.000000</td>\n",
       "      <td>1.000000</td>\n",
       "      <td>1.000000</td>\n",
       "      <td>1.000000</td>\n",
       "      <td>1.000000</td>\n",
       "      <td>1.000000</td>\n",
       "      <td>1.000000</td>\n",
       "    </tr>\n",
       "  </tbody>\n",
       "</table>\n",
       "<p>8 rows × 24 columns</p>\n",
       "</div>"
      ],
      "text/plain": [
       "       ConvertedSalary  LastNewJob_Between 2 and 4 years ago  \\\n",
       "count     1.773000e+03                           1773.000000   \n",
       "mean      1.127675e+05                              0.219966   \n",
       "std       2.175229e+05                              0.414340   \n",
       "min       0.000000e+00                              0.000000   \n",
       "25%       3.369600e+04                              0.000000   \n",
       "50%       6.756000e+04                              0.000000   \n",
       "75%       1.095810e+05                              0.000000   \n",
       "max       2.000000e+06                              1.000000   \n",
       "\n",
       "       LastNewJob_Less than a year ago  LastNewJob_More than 4 years ago  \\\n",
       "count                      1773.000000                       1773.000000   \n",
       "mean                          0.377327                          0.157924   \n",
       "std                           0.484854                          0.364773   \n",
       "min                           0.000000                          0.000000   \n",
       "25%                           0.000000                          0.000000   \n",
       "50%                           0.000000                          0.000000   \n",
       "75%                           1.000000                          0.000000   \n",
       "max                           1.000000                          1.000000   \n",
       "\n",
       "       CompanySize_10 to 19 employees  CompanySize_10,000 or more employees  \\\n",
       "count                     1773.000000                           1773.000000   \n",
       "mean                         0.099267                              0.197970   \n",
       "std                          0.299104                              0.398581   \n",
       "min                          0.000000                              0.000000   \n",
       "25%                          0.000000                              0.000000   \n",
       "50%                          0.000000                              0.000000   \n",
       "75%                          0.000000                              0.000000   \n",
       "max                          1.000000                              1.000000   \n",
       "\n",
       "       CompanySize_100 to 499 employees  CompanySize_20 to 99 employees  \\\n",
       "count                       1773.000000                     1773.000000   \n",
       "mean                           0.170333                        0.201918   \n",
       "std                            0.376031                        0.401544   \n",
       "min                            0.000000                        0.000000   \n",
       "25%                            0.000000                        0.000000   \n",
       "50%                            0.000000                        0.000000   \n",
       "75%                            0.000000                        0.000000   \n",
       "max                            1.000000                        1.000000   \n",
       "\n",
       "       CompanySize_5,000 to 9,999 employees  CompanySize_500 to 999 employees  \\\n",
       "count                           1773.000000                       1773.000000   \n",
       "mean                               0.053582                          0.057530   \n",
       "std                                0.225254                          0.232917   \n",
       "min                                0.000000                          0.000000   \n",
       "25%                                0.000000                          0.000000   \n",
       "50%                                0.000000                          0.000000   \n",
       "75%                                0.000000                          0.000000   \n",
       "max                                1.000000                          1.000000   \n",
       "\n",
       "          ...       FormalEducation_Professional degree (JD, MD, etc.)  \\\n",
       "count     ...                                             1773.000000    \n",
       "mean      ...                                                0.008460    \n",
       "std       ...                                                0.091615    \n",
       "min       ...                                                0.000000    \n",
       "25%       ...                                                0.000000    \n",
       "50%       ...                                                0.000000    \n",
       "75%       ...                                                0.000000    \n",
       "max       ...                                                1.000000    \n",
       "\n",
       "       FormalEducation_Some college/university study without earning a degree  \\\n",
       "count                                        1773.000000                        \n",
       "mean                                            0.077834                        \n",
       "std                                             0.267986                        \n",
       "min                                             0.000000                        \n",
       "25%                                             0.000000                        \n",
       "50%                                             0.000000                        \n",
       "75%                                             0.000000                        \n",
       "max                                             1.000000                        \n",
       "\n",
       "       UndergradMajor_Mathematics or statistics       Python          SQL  \\\n",
       "count                               1773.000000  1773.000000  1773.000000   \n",
       "mean                                   0.116187     0.816695     0.696560   \n",
       "std                                    0.320540     0.387026     0.459874   \n",
       "min                                    0.000000     0.000000     0.000000   \n",
       "25%                                    0.000000     1.000000     0.000000   \n",
       "50%                                    0.000000     1.000000     1.000000   \n",
       "75%                                    0.000000     1.000000     1.000000   \n",
       "max                                    1.000000     1.000000     1.000000   \n",
       "\n",
       "                 R         HTML            C   TensorFlow      Node.js  \n",
       "count  1773.000000  1773.000000  1773.000000  1773.000000  1773.000000  \n",
       "mean      0.453469     0.614213     0.769882     0.415116     0.378455  \n",
       "std       0.497971     0.486918     0.421027     0.492881     0.485139  \n",
       "min       0.000000     0.000000     0.000000     0.000000     0.000000  \n",
       "25%       0.000000     0.000000     1.000000     0.000000     0.000000  \n",
       "50%       0.000000     1.000000     1.000000     0.000000     0.000000  \n",
       "75%       1.000000     1.000000     1.000000     1.000000     1.000000  \n",
       "max       1.000000     1.000000     1.000000     1.000000     1.000000  \n",
       "\n",
       "[8 rows x 24 columns]"
      ]
     },
     "execution_count": 25,
     "metadata": {},
     "output_type": "execute_result"
    }
   ],
   "source": [
    "B[['ConvertedSalary', 'LastNewJob_Between 2 and 4 years ago', 'LastNewJob_Less than a year ago', 'LastNewJob_More than 4 years ago',\n",
    " 'CompanySize_10 to 19 employees', 'CompanySize_10,000 or more employees', 'CompanySize_100 to 499 employees', 'CompanySize_20 to 99 employees', 'CompanySize_5,000 to 9,999 employees',\n",
    " 'CompanySize_500 to 999 employees', 'CompanySize_Fewer than 10 employees', 'FormalEducation_Bachelor’s degree (BA, BS, B.Eng., etc.)', \n",
    " 'FormalEducation_Master’s degree (MA, MS, M.Eng., MBA, etc.)', 'FormalEducation_Other doctoral degree (Ph.D, Ed.D., etc.)', \n",
    " 'FormalEducation_Professional degree (JD, MD, etc.)',\n",
    " 'FormalEducation_Some college/university study without earning a degree', 'UndergradMajor_Mathematics or statistics',\n",
    " 'Python', 'SQL', 'R', 'HTML', 'C', 'TensorFlow', 'Node.js']].describe()"
   ]
  },
  {
   "cell_type": "markdown",
   "metadata": {},
   "source": [
    "4. Apresente pelo menos duas outras análises ou visualizações interessantes e discuta o que você encontrou."
   ]
  },
  {
   "cell_type": "code",
   "execution_count": 26,
   "metadata": {},
   "outputs": [
    {
     "data": {
      "text/plain": [
       "Text(0,0.5,'Quantidade de programadores')"
      ]
     },
     "execution_count": 26,
     "metadata": {},
     "output_type": "execute_result"
    },
    {
     "data": {
      "image/png": "[encoded data removed]",
      "text/plain": [
       "<Figure size 432x288 with 1 Axes>"
      ]
     },
     "metadata": {
      "needs_background": "light"
     },
     "output_type": "display_data"
    }
   ],
   "source": [
    "fig, ax = plt.subplots()\n",
    "\n",
    "X = B[B['Python']==1]['ConvertedSalary']\n",
    "Y = B[B['R']==1]['ConvertedSalary']\n",
    "Z = B[B['SQL']==1]['ConvertedSalary']\n",
    "br_heights, br_bins = [i[0:-6] for  i in np.histogram(X)]\n",
    "usa_heights, usa_bins = np.histogram(Y, bins=br_bins)\n",
    "ind_heights, ind_bins = np.histogram(Z, bins=br_bins)\n",
    "\n",
    "width = (br_bins[1] - br_bins[0])/3\n",
    "\n",
    "ax.bar(br_bins[:-1], br_heights, width=width, facecolor='seagreen')\n",
    "ax.bar(usa_bins[:-1]+2*width, usa_heights, width=width, facecolor = 'red')\n",
    "ax.bar(ind_bins[:-1]+width, ind_heights, width=width, facecolor = 'orange')\n",
    "ax.legend(['Python','R','SQL'])\n",
    "plt.xlabel('Salário, em milhares de dolares')\n",
    "plt.ylabel('Quantidade de programadores')"
   ]
  },
  {
   "cell_type": "code",
   "execution_count": 27,
   "metadata": {},
   "outputs": [
    {
     "data": {
      "text/plain": [
       "<matplotlib.axes._subplots.AxesSubplot at 0x7f6f4b0aef28>"
      ]
     },
     "execution_count": 27,
     "metadata": {},
     "output_type": "execute_result"
    },
    {
     "data": {
      "image/png": "[encoded data removed]",
      "text/plain": [
       "<Figure size 576x360 with 1 Axes>"
      ]
     },
     "metadata": {
      "needs_background": "light"
     },
     "output_type": "display_data"
    }
   ],
   "source": [
    "X = A.groupby('FormalEducation')['ConvertedSalary'].mean()\n",
    "X.sort_values(inplace=True, ascending=True)\n",
    "X.plot(kind='bar',figsize=(8,5),title='Average Salary per education level, in USD')"
   ]
  },
  {
   "cell_type": "markdown",
   "metadata": {},
   "source": [
    "5. Divida sua base aleatóriamente em treino e teste, deixando claro as proporções."
   ]
  },
  {
   "cell_type": "markdown",
   "metadata": {},
   "source": [
    "Já dividi acima, a proporção é 80-20."
   ]
  },
  {
   "cell_type": "markdown",
   "metadata": {},
   "source": [
    "# 2 - Metodologia"
   ]
  },
  {
   "cell_type": "markdown",
   "metadata": {},
   "source": [
    "## 2.1 Linear regression"
   ]
  },
  {
   "cell_type": "markdown",
   "metadata": {},
   "source": [
    "1. Liste quais variáveis dependentes e independentes serão utilizadas."
   ]
  },
  {
   "cell_type": "code",
   "execution_count": 28,
   "metadata": {},
   "outputs": [
    {
     "name": "stdout",
     "output_type": "stream",
     "text": [
      "['AssessJob1', 'AssessJob2', 'AssessJob3', 'AssessJob4', 'AssessJob5', 'AssessJob6', 'AssessJob7', 'AssessJob8', 'AssessJob9', 'AssessJob10', 'OperatingSystem_Linux-based', 'OperatingSystem_MacOS', 'OperatingSystem_Windows', 'LastNewJob_Between 2 and 4 years ago', 'LastNewJob_Less than a year ago', 'LastNewJob_More than 4 years ago', 'YearsCodingProf_12-14 years', 'YearsCodingProf_15-17 years', 'YearsCodingProf_18-20 years', 'YearsCodingProf_21-23 years', 'YearsCodingProf_24-26 years', 'YearsCodingProf_27-29 years', 'YearsCodingProf_3-5 years', 'YearsCodingProf_30 or more years', 'YearsCodingProf_6-8 years', 'YearsCodingProf_9-11 years', 'CompanySize_10 to 19 employees', 'CompanySize_10,000 or more employees', 'CompanySize_100 to 499 employees', 'CompanySize_20 to 99 employees', 'CompanySize_5,000 to 9,999 employees', 'CompanySize_500 to 999 employees', 'CompanySize_Fewer than 10 employees', 'FormalEducation_Bachelor’s degree (BA, BS, B.Eng., etc.)', 'FormalEducation_Master’s degree (MA, MS, M.Eng., MBA, etc.)', 'FormalEducation_Other doctoral degree (Ph.D, Ed.D., etc.)', 'FormalEducation_Professional degree (JD, MD, etc.)', 'FormalEducation_Some college/university study without earning a degree', 'UndergradMajor_A humanities discipline (ex. literature, history, philosophy)', 'UndergradMajor_A natural science (ex. biology, chemistry, physics)', 'UndergradMajor_A social science (ex. anthropology, psychology, political science)', 'UndergradMajor_Another engineering discipline (ex. civil, electrical, mechanical)', 'UndergradMajor_Computer science, computer engineering, or software engineering', 'UndergradMajor_Fine arts or performing arts (ex. graphic design, music, studio art)', 'UndergradMajor_I never declared a major', 'UndergradMajor_Information systems, information technology, or system administration', 'UndergradMajor_Mathematics or statistics', 'YearsCoding_12-14 years', 'YearsCoding_15-17 years', 'YearsCoding_18-20 years', 'YearsCoding_21-23 years', 'YearsCoding_24-26 years', 'YearsCoding_27-29 years', 'YearsCoding_3-5 years', 'YearsCoding_30 or more years', 'YearsCoding_6-8 years', 'YearsCoding_9-11 years', 'Age_18 - 24 years old', 'Age_25 - 34 years old', 'Age_35 - 44 years old', 'Age_45 - 54 years old', 'Age_55 - 64 years old', 'Python', 'SQL', 'R', 'Java', 'JavaScript', 'Bash/Shell', 'HTML', 'C', 'MySQL', 'PostgreSQL', 'SQL Server', 'MongoDB', 'TensorFlow', 'Node.js', 'Spark', 'Angular']\n"
     ]
    }
   ],
   "source": [
    "foo = list(train)\n",
    "foo.remove('ConvertedSalary')\n",
    "print(foo)"
   ]
  },
  {
   "cell_type": "code",
   "execution_count": 29,
   "metadata": {},
   "outputs": [],
   "source": [
    "def my_linear_least_squares_regression(X,Y):\n",
    "    X = np.concatenate((np.ones((X.shape[0],1)),X),axis=1)\n",
    "    Xcros = np.linalg.inv(np.matmul(X.transpose(),X))\n",
    "    beta = np.matmul(np.matmul(Xcros,X.transpose()),Y.transpose())\n",
    "    return beta"
   ]
  },
  {
   "cell_type": "code",
   "execution_count": 30,
   "metadata": {},
   "outputs": [],
   "source": [
    "beta = my_linear_least_squares_regression(train[foo].values,train['ConvertedSalary'].values)"
   ]
  },
  {
   "cell_type": "code",
   "execution_count": 31,
   "metadata": {},
   "outputs": [
    {
     "data": {
      "text/plain": [
       "(79,)"
      ]
     },
     "execution_count": 31,
     "metadata": {},
     "output_type": "execute_result"
    }
   ],
   "source": [
    "beta.shape"
   ]
  },
  {
   "cell_type": "code",
   "execution_count": 53,
   "metadata": {},
   "outputs": [],
   "source": [
    "def my_linear_least_squares_regression_R2(beta,X_test, Y_test):\n",
    "    N = Y_test.shape[0]\n",
    "    X_test = np.concatenate((np.ones((X_test.shape[0],1)),X_test),axis=1)\n",
    "    ymean = sum(Y_test)/N\n",
    "    predict = np.matmul(X_test,beta)\n",
    "    stot = sum([(y - ymean)**2 for y in Y_test])\n",
    "    sres = sum([(Y_test[i] - predict[i])**2 for i in range(Y_test.shape[0])])\n",
    "    return 1 - sres/stot"
   ]
  },
  {
   "cell_type": "code",
   "execution_count": 54,
   "metadata": {
    "scrolled": true
   },
   "outputs": [
    {
     "data": {
      "text/plain": [
       "-546428.1259894856"
      ]
     },
     "execution_count": 54,
     "metadata": {},
     "output_type": "execute_result"
    }
   ],
   "source": [
    "my_linear_least_squares_regression_R2(beta,test[foo].values,test['ConvertedSalary'].values)"
   ]
  },
  {
   "cell_type": "code",
   "execution_count": 55,
   "metadata": {},
   "outputs": [
    {
     "name": "stdout",
     "output_type": "stream",
     "text": [
      "('OperatingSystem_MacOS', 671.6046416930651)\n",
      "('OperatingSystem_Linux-based', 616.5619690713938)\n",
      "('ConvertedSalary', 423.04673322353426)\n",
      "('Age_18 - 24 years old', -335.50743311347304)\n",
      "('Age_25 - 34 years old', -323.19411010376075)\n",
      "('YearsCodingProf_30 or more years', 280.46689483813424)\n",
      "('YearsCodingProf_27-29 years', 259.786783579759)\n",
      "('YearsCodingProf_12-14 years', 246.95507106423884)\n",
      "('FormalEducation_Bachelor’s degree (BA, BS, B.Eng., etc.)', -218.88046456146847)\n",
      "('YearsCoding_27-29 years', -218.31567112595275)\n",
      "('YearsCodingProf_15-17 years', 215.58385119690226)\n",
      "('CompanySize_Fewer than 10 employees', -211.14649350993102)\n",
      "('YearsCodingProf_6-8 years', 205.88969001354553)\n",
      "('YearsCoding_9-11 years', -173.12128417163586)\n",
      "('YearsCoding_30 or more years', -167.6148997571756)\n",
      "('Node.js', 165.68762381781085)\n",
      "('Age_55 - 64 years old', 154.8266460904767)\n",
      "('UndergradMajor_A natural science (ex. biology, chemistry, physics)', 152.08594821434883)\n",
      "('LastNewJob_More than 4 years ago', 143.25600494924205)\n",
      "('YearsCoding_6-8 years', -133.0013872811661)\n",
      "('MySQL', 130.00647324945314)\n",
      "('OperatingSystem_Windows', -129.4911251069659)\n",
      "('FormalEducation_Other doctoral degree (Ph.D, Ed.D., etc.)', -122.32157437106993)\n",
      "('CompanySize_10 to 19 employees', 118.38762145781388)\n",
      "('FormalEducation_Some college/university study without earning a degree', 111.82359133230128)\n",
      "('UndergradMajor_Mathematics or statistics', -110.46205956969423)\n",
      "('UndergradMajor_A humanities discipline (ex. literature, history, philosophy)', 106.06835373539226)\n",
      "('YearsCoding_18-20 years', -99.27654279271906)\n",
      "('LastNewJob_Between 2 and 4 years ago', -98.34639242099276)\n",
      "('YearsCodingProf_3-5 years', 94.75456736415384)\n",
      "('CompanySize_500 to 999 employees', -93.22224028550204)\n",
      "('AssessJob2', -91.84432006452252)\n",
      "('LastNewJob_Less than a year ago', -91.42671485581505)\n",
      "('YearsCodingProf_18-20 years', 91.01252074743996)\n",
      "('UndergradMajor_Information systems, information technology, or system administration', 88.11709521283468)\n",
      "('YearsCoding_21-23 years', -88.00762657720936)\n",
      "('AssessJob10', 86.51154689050315)\n",
      "('Age_45 - 54 years old', -82.48887418708681)\n",
      "('UndergradMajor_I never declared a major', -80.20785783656397)\n",
      "('CompanySize_10,000 or more employees', -78.03727063938595)\n",
      "('Python', -74.41749695604943)\n",
      "('AssessJob6', 72.69725067655463)\n",
      "('YearsCodingProf_9-11 years', 63.87836981557348)\n",
      "('FormalEducation_Professional degree (JD, MD, etc.)', -63.365873397784966)\n",
      "('C', 62.20151882872834)\n",
      "('Age_35 - 44 years old', -56.506660477499054)\n",
      "('HTML', 56.434404743161195)\n",
      "('R', -55.61142552412254)\n",
      "('YearsCodingProf_24-26 years', 51.395319816259885)\n",
      "('YearsCoding_3-5 years', -50.849135295681144)\n",
      "('SQL Server', 43.3135325613741)\n",
      "('AssessJob1', -42.768361738001424)\n",
      "('YearsCodingProf_21-23 years', 40.55305666280789)\n",
      "('AssessJob5', -39.87525107442199)\n",
      "('PostgreSQL', 39.86156289740331)\n",
      "('TensorFlow', 34.982256349412914)\n",
      "('SQL', 34.043844646291745)\n",
      "('MongoDB', 33.415828207330286)\n",
      "('Java', 32.10624729338097)\n",
      "('FormalEducation_Master’s degree (MA, MS, M.Eng., MBA, etc.)', 31.7216885421049)\n",
      "('AssessJob7', 29.565257481193925)\n",
      "('UndergradMajor_Fine arts or performing arts (ex. graphic design, music, studio art)', -26.473967871993082)\n",
      "('Bash/Shell', -25.782730441057623)\n",
      "('AssessJob4', -24.79540441640996)\n",
      "('AssessJob9', 24.643578912422136)\n",
      "('UndergradMajor_Computer science, computer engineering, or software engineering', -23.824882518228776)\n",
      "('YearsCoding_24-26 years', -20.230734896458515)\n",
      "('UndergradMajor_Another engineering discipline (ex. civil, electrical, mechanical)', -19.06798566730175)\n",
      "('AssessJob3', -14.691942650099238)\n",
      "('JavaScript', 13.846087055946764)\n",
      "('YearsCoding_12-14 years', 12.610780381793958)\n",
      "('CompanySize_5,000 to 9,999 employees', -10.216580908031967)\n",
      "('YearsCoding_15-17 years', -10.201940307136098)\n",
      "('CompanySize_100 to 499 employees', 5.2165085918643825)\n",
      "('AssessJob8', -1.7468998533247984)\n",
      "('Spark', 1.3450362433822391)\n",
      "('CompanySize_20 to 99 employees', 0.7201234552281726)\n",
      "('UndergradMajor_A social science (ex. anthropology, psychology, political science)', -0.1104162762442229)\n"
     ]
    }
   ],
   "source": [
    "A = list(test)\n",
    "concat = []\n",
    "for item in range(len(beta)-1):\n",
    "    concat.append((A[item],beta[item+1]))\n",
    "concat.sort(key=lambda x: abs(x[1]), reverse=True)\n",
    "for item in concat:\n",
    "    print(item)"
   ]
  },
  {
   "cell_type": "markdown",
   "metadata": {},
   "source": [
    "Como estou fazendo regressão linear, a maior parte das coisas pedidas não fazem sentido."
   ]
  },
  {
   "cell_type": "markdown",
   "metadata": {},
   "source": [
    "# 2.2. RIDGE"
   ]
  },
  {
   "cell_type": "code",
   "execution_count": 67,
   "metadata": {},
   "outputs": [
    {
     "name": "stdout",
     "output_type": "stream",
     "text": [
      "['AssessJob1', 'AssessJob2', 'AssessJob3', 'AssessJob4', 'AssessJob5', 'AssessJob6', 'AssessJob7', 'AssessJob8', 'AssessJob9', 'AssessJob10', 'OperatingSystem_Linux-based', 'OperatingSystem_MacOS', 'OperatingSystem_Windows', 'LastNewJob_Between 2 and 4 years ago', 'LastNewJob_Less than a year ago', 'LastNewJob_More than 4 years ago', 'YearsCodingProf_12-14 years', 'YearsCodingProf_15-17 years', 'YearsCodingProf_18-20 years', 'YearsCodingProf_21-23 years', 'YearsCodingProf_24-26 years', 'YearsCodingProf_27-29 years', 'YearsCodingProf_3-5 years', 'YearsCodingProf_30 or more years', 'YearsCodingProf_6-8 years', 'YearsCodingProf_9-11 years', 'CompanySize_10 to 19 employees', 'CompanySize_10,000 or more employees', 'CompanySize_100 to 499 employees', 'CompanySize_20 to 99 employees', 'CompanySize_5,000 to 9,999 employees', 'CompanySize_500 to 999 employees', 'CompanySize_Fewer than 10 employees', 'FormalEducation_Bachelor’s degree (BA, BS, B.Eng., etc.)', 'FormalEducation_Master’s degree (MA, MS, M.Eng., MBA, etc.)', 'FormalEducation_Other doctoral degree (Ph.D, Ed.D., etc.)', 'FormalEducation_Professional degree (JD, MD, etc.)', 'FormalEducation_Some college/university study without earning a degree', 'UndergradMajor_A humanities discipline (ex. literature, history, philosophy)', 'UndergradMajor_A natural science (ex. biology, chemistry, physics)', 'UndergradMajor_A social science (ex. anthropology, psychology, political science)', 'UndergradMajor_Another engineering discipline (ex. civil, electrical, mechanical)', 'UndergradMajor_Computer science, computer engineering, or software engineering', 'UndergradMajor_Fine arts or performing arts (ex. graphic design, music, studio art)', 'UndergradMajor_I never declared a major', 'UndergradMajor_Information systems, information technology, or system administration', 'UndergradMajor_Mathematics or statistics', 'YearsCoding_12-14 years', 'YearsCoding_15-17 years', 'YearsCoding_18-20 years', 'YearsCoding_21-23 years', 'YearsCoding_24-26 years', 'YearsCoding_27-29 years', 'YearsCoding_3-5 years', 'YearsCoding_30 or more years', 'YearsCoding_6-8 years', 'YearsCoding_9-11 years', 'Age_18 - 24 years old', 'Age_25 - 34 years old', 'Age_35 - 44 years old', 'Age_45 - 54 years old', 'Age_55 - 64 years old', 'Python', 'SQL', 'R', 'Java', 'JavaScript', 'Bash/Shell', 'HTML', 'C', 'MySQL', 'PostgreSQL', 'SQL Server', 'MongoDB', 'TensorFlow', 'Node.js', 'Spark', 'Angular']\n"
     ]
    }
   ],
   "source": [
    "foo = list(train)\n",
    "foo.remove('ConvertedSalary')\n",
    "print(foo)"
   ]
  },
  {
   "cell_type": "code",
   "execution_count": 74,
   "metadata": {},
   "outputs": [],
   "source": [
    "def my_linear_ridge(X,Y,lamb):\n",
    "    X = np.concatenate((np.ones((X.shape[0],1)),X),axis=1)\n",
    "    Xcros = np.linalg.inv(np.matmul(X.transpose(),X)-lamb * np.identity(X.shape[1]))\n",
    "    beta = np.matmul(np.matmul(Xcros,X.transpose()),Y.transpose())\n",
    "    return beta"
   ]
  },
  {
   "cell_type": "code",
   "execution_count": 75,
   "metadata": {},
   "outputs": [],
   "source": [
    "beta = my_linear_ridge(train[foo].values,train['ConvertedSalary'].values,0.1)"
   ]
  },
  {
   "cell_type": "code",
   "execution_count": 71,
   "metadata": {},
   "outputs": [
    {
     "name": "stdout",
     "output_type": "stream",
     "text": [
      "('OperatingSystem_MacOS', 671.6046416930651)\n",
      "('OperatingSystem_Linux-based', 616.5619690713938)\n",
      "('ConvertedSalary', 423.04673322353426)\n",
      "('Age_18 - 24 years old', -335.50743311347304)\n",
      "('Age_25 - 34 years old', -323.19411010376075)\n",
      "('YearsCodingProf_30 or more years', 280.46689483813424)\n",
      "('YearsCodingProf_27-29 years', 259.786783579759)\n",
      "('YearsCodingProf_12-14 years', 246.95507106423884)\n",
      "('FormalEducation_Bachelor’s degree (BA, BS, B.Eng., etc.)', -218.88046456146847)\n",
      "('YearsCoding_27-29 years', -218.31567112595275)\n",
      "('YearsCodingProf_15-17 years', 215.58385119690226)\n",
      "('CompanySize_Fewer than 10 employees', -211.14649350993102)\n",
      "('YearsCodingProf_6-8 years', 205.88969001354553)\n",
      "('YearsCoding_9-11 years', -173.12128417163586)\n",
      "('YearsCoding_30 or more years', -167.6148997571756)\n",
      "('Node.js', 165.68762381781085)\n",
      "('Age_55 - 64 years old', 154.8266460904767)\n",
      "('UndergradMajor_A natural science (ex. biology, chemistry, physics)', 152.08594821434883)\n",
      "('LastNewJob_More than 4 years ago', 143.25600494924205)\n",
      "('YearsCoding_6-8 years', -133.0013872811661)\n",
      "('MySQL', 130.00647324945314)\n",
      "('OperatingSystem_Windows', -129.4911251069659)\n",
      "('FormalEducation_Other doctoral degree (Ph.D, Ed.D., etc.)', -122.32157437106993)\n",
      "('CompanySize_10 to 19 employees', 118.38762145781388)\n",
      "('FormalEducation_Some college/university study without earning a degree', 111.82359133230128)\n",
      "('UndergradMajor_Mathematics or statistics', -110.46205956969423)\n",
      "('UndergradMajor_A humanities discipline (ex. literature, history, philosophy)', 106.06835373539226)\n",
      "('YearsCoding_18-20 years', -99.27654279271906)\n",
      "('LastNewJob_Between 2 and 4 years ago', -98.34639242099276)\n",
      "('YearsCodingProf_3-5 years', 94.75456736415384)\n",
      "('CompanySize_500 to 999 employees', -93.22224028550204)\n",
      "('AssessJob2', -91.84432006452252)\n",
      "('LastNewJob_Less than a year ago', -91.42671485581505)\n",
      "('YearsCodingProf_18-20 years', 91.01252074743996)\n",
      "('UndergradMajor_Information systems, information technology, or system administration', 88.11709521283468)\n",
      "('YearsCoding_21-23 years', -88.00762657720936)\n",
      "('AssessJob10', 86.51154689050315)\n",
      "('Age_45 - 54 years old', -82.48887418708681)\n",
      "('UndergradMajor_I never declared a major', -80.20785783656397)\n",
      "('CompanySize_10,000 or more employees', -78.03727063938595)\n",
      "('Python', -74.41749695604943)\n",
      "('AssessJob6', 72.69725067655463)\n",
      "('YearsCodingProf_9-11 years', 63.87836981557348)\n",
      "('FormalEducation_Professional degree (JD, MD, etc.)', -63.365873397784966)\n",
      "('C', 62.20151882872834)\n",
      "('Age_35 - 44 years old', -56.506660477499054)\n",
      "('HTML', 56.434404743161195)\n",
      "('R', -55.61142552412254)\n",
      "('YearsCodingProf_24-26 years', 51.395319816259885)\n",
      "('YearsCoding_3-5 years', -50.849135295681144)\n",
      "('SQL Server', 43.3135325613741)\n",
      "('AssessJob1', -42.768361738001424)\n",
      "('YearsCodingProf_21-23 years', 40.55305666280789)\n",
      "('AssessJob5', -39.87525107442199)\n",
      "('PostgreSQL', 39.86156289740331)\n",
      "('TensorFlow', 34.982256349412914)\n",
      "('SQL', 34.043844646291745)\n",
      "('MongoDB', 33.415828207330286)\n",
      "('Java', 32.10624729338097)\n",
      "('FormalEducation_Master’s degree (MA, MS, M.Eng., MBA, etc.)', 31.7216885421049)\n",
      "('AssessJob7', 29.565257481193925)\n",
      "('UndergradMajor_Fine arts or performing arts (ex. graphic design, music, studio art)', -26.473967871993082)\n",
      "('Bash/Shell', -25.782730441057623)\n",
      "('AssessJob4', -24.79540441640996)\n",
      "('AssessJob9', 24.643578912422136)\n",
      "('UndergradMajor_Computer science, computer engineering, or software engineering', -23.824882518228776)\n",
      "('YearsCoding_24-26 years', -20.230734896458515)\n",
      "('UndergradMajor_Another engineering discipline (ex. civil, electrical, mechanical)', -19.06798566730175)\n",
      "('AssessJob3', -14.691942650099238)\n",
      "('JavaScript', 13.846087055946764)\n",
      "('YearsCoding_12-14 years', 12.610780381793958)\n",
      "('CompanySize_5,000 to 9,999 employees', -10.216580908031967)\n",
      "('YearsCoding_15-17 years', -10.201940307136098)\n",
      "('CompanySize_100 to 499 employees', 5.2165085918643825)\n",
      "('AssessJob8', -1.7468998533247984)\n",
      "('Spark', 1.3450362433822391)\n",
      "('CompanySize_20 to 99 employees', 0.7201234552281726)\n",
      "('UndergradMajor_A social science (ex. anthropology, psychology, political science)', -0.1104162762442229)\n"
     ]
    }
   ],
   "source": [
    "A = list(test)\n",
    "concat = []\n",
    "for item in range(len(beta)-1):\n",
    "    concat.append((A[item],beta[item+1]))\n",
    "concat.sort(key=lambda x: abs(x[1]), reverse=True)\n",
    "for item in concat:\n",
    "    print(item)"
   ]
  },
  {
   "cell_type": "code",
   "execution_count": 61,
   "metadata": {},
   "outputs": [
    {
     "data": {
      "text/plain": [
       "-546428.1259894856"
      ]
     },
     "execution_count": 61,
     "metadata": {},
     "output_type": "execute_result"
    }
   ],
   "source": [
    "my_linear_least_squares_regression_R2(beta,test[foo].values,test['ConvertedSalary'].values)"
   ]
  },
  {
   "cell_type": "code",
   "execution_count": 147,
   "metadata": {},
   "outputs": [
    {
     "data": {
      "text/plain": [
       "(10000000000,\n",
       " array([-1.35525272e-20, -1.20283935e-06,  1.35953889e-05,  2.78026924e-06,\n",
       "         6.77685953e-07,  2.11020229e-05, -1.04845894e-05,  5.11476191e-06,\n",
       "        -8.36155191e-06, -8.87976777e-06, -1.36385803e-05,  2.19230013e-05,\n",
       "        -1.53886621e-05, -6.23227944e-06,  6.06679687e-06,  1.33176090e-05,\n",
       "        -1.39471651e-05, -2.47279677e-06, -2.13219455e-05, -1.74926892e-05,\n",
       "        -4.32354328e-06,  9.79099370e-07, -5.20030442e-06,  4.92540264e-06,\n",
       "        -6.06947173e-06, -1.57050389e-05, -6.67832441e-06,  7.62732342e-07,\n",
       "        -2.42663395e-05,  1.44817654e-05, -3.59176060e-06, -1.53192406e-06,\n",
       "        -5.55693576e-07,  1.95164630e-05,  1.69691416e-05,  4.84994737e-06,\n",
       "        -3.44407511e-05,  1.06036584e-05, -1.51131467e-06, -1.73361248e-05,\n",
       "        -2.03104913e-05, -1.88196049e-05,  5.75672326e-06,  1.70973668e-05,\n",
       "         4.61711633e-06,  2.88632305e-06,  1.78057447e-05, -9.53235922e-06,\n",
       "        -2.30766724e-06, -2.20772866e-05, -1.74211569e-05, -1.60805706e-06,\n",
       "        -3.21044936e-06, -7.89218466e-06,  2.42394658e-05, -1.48925122e-05,\n",
       "         1.15666290e-05,  2.46192713e-06,  1.99279946e-05,  6.90015633e-06,\n",
       "        -1.69284393e-05, -1.89915389e-05, -6.32538666e-06, -1.93710999e-05,\n",
       "         2.02742852e-06, -2.08218792e-05,  1.02880882e-05,  6.47781240e-06,\n",
       "        -1.32531148e-05,  1.68408529e-06, -4.05459949e-06, -2.49814909e-06,\n",
       "        -2.11547148e-05, -5.32177689e-06, -2.79014507e-06, -7.99056961e-06,\n",
       "        -1.64286434e-06, -2.53938301e-05, -2.21758884e-07]),\n",
       " -9.601310420848108e-05)"
      ]
     },
     "execution_count": 147,
     "metadata": {},
     "output_type": "execute_result"
    }
   ],
   "source": [
    "lambdas = [0.00001,0.0001,0.001,0.01,0.1,1,10,100,1000,100000,1000000,10000000,100000000,1000000000,10000000000]\n",
    "for lamb in lambdas:\n",
    "    beta = my_linear_ridge(train[foo].values,train['ConvertedSalary'].values,lamb)\n",
    "    sols.append((lamb,beta,my_linear_least_squares_regression_R2(beta,test[foo].values,test['ConvertedSalary'].values)))\n",
    "sols.sort(reverse=True,key=lambda x: x[2])\n",
    "sols[0]"
   ]
  },
  {
   "cell_type": "code",
   "execution_count": null,
   "metadata": {},
   "outputs": [],
   "source": []
  }
 ],
 "metadata": {
  "kernelspec": {
   "display_name": "Python 3",
   "language": "python",
   "name": "python3"
  },
  "language_info": {
   "codemirror_mode": {
    "name": "ipython",
    "version": 3
   },
   "file_extension": ".py",
   "mimetype": "text/x-python",
   "name": "python",
   "nbconvert_exporter": "python",
   "pygments_lexer": "ipython3",
   "version": "3.7.3"
  }
 },
 "nbformat": 4,
 "nbformat_minor": 2
}
