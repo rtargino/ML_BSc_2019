{
 "cells": [
  {
   "cell_type": "markdown",
   "metadata": {},
   "source": [
    "# Trabalho de Inferência e Aprendizagem\n",
    "#### Aluno: Matheus de Moncada Assis | Matrícula: 171703014 | Data de entrega: 23/06/2019"
   ]
  },
  {
   "cell_type": "markdown",
   "metadata": {},
   "source": [
    " "
   ]
  },
  {
   "cell_type": "markdown",
   "metadata": {},
   "source": [
    "## 1. Introdução"
   ]
  },
  {
   "cell_type": "markdown",
   "metadata": {},
   "source": [
    "### Questionamentos Iniciais"
   ]
  },
  {
   "cell_type": "markdown",
   "metadata": {},
   "source": [
    "**1. Escolha da Base de Dados:**\n",
    "> Como a indústria do cinema é determinada por números e análises, achei que seria interessante conseguir alcançar algumas previsões acerca dos filmes baseado em suas características principais, além de encontrar as variáveis que realmente são importantes para isso.\n",
    "\n",
    "**2. Link para a Base:**\n",
    "> https://www.themoviedb.org/?language=pt-BR <br> https://www.kaggle.com/tmdb/tmdb-movie-metadata\n",
    "\n",
    "\n",
    "**3. PERGUNTA DE PESQUISA:**\n",
    "> Seria possível prever a nota de um filme com base apenas em suas características intrínsecas, tais como gênero, capital investido, popularidade, empresas de produção e outros?"
   ]
  },
  {
   "cell_type": "markdown",
   "metadata": {},
   "source": [
    "### Importando Bibliotecas"
   ]
  },
  {
   "cell_type": "code",
   "execution_count": 1,
   "metadata": {},
   "outputs": [],
   "source": [
    "import pandas as pd\n",
    "import numpy as np\n",
    "import matplotlib.pyplot as plt\n",
    "import random as rd\n",
    "from sklearn.neighbors import KNeighborsRegressor\n",
    "from sklearn.metrics import accuracy_score\n",
    "from sklearn.model_selection import KFold, cross_val_score\n",
    "from sklearn.preprocessing import StandardScaler\n",
    "from sklearn.neural_network import MLPRegressor"
   ]
  },
  {
   "cell_type": "markdown",
   "metadata": {},
   "source": [
    " "
   ]
  },
  {
   "cell_type": "markdown",
   "metadata": {},
   "source": [
    "### Criação do DataFrame com as bases utilizadas"
   ]
  },
  {
   "cell_type": "code",
   "execution_count": 2,
   "metadata": {},
   "outputs": [],
   "source": [
    "link_movies  = \"tmdb_5000_movies.csv\"\n",
    "link_crew    = \"tmdb_5000_credits.csv\"\n",
    "\n",
    "df_movies = pd.read_csv(link_movies, encoding=\"utf-8\")\n",
    "df_crew   = pd.read_csv(link_crew, encoding=\"utf-8\")\n",
    "\n",
    "df_crew.rename(columns={'movie_id': 'id'}, inplace=True)\n",
    "\n",
    "df = df_movies.merge(df_crew, on=\"id\")"
   ]
  },
  {
   "cell_type": "code",
   "execution_count": 3,
   "metadata": {},
   "outputs": [
    {
     "data": {
      "text/html": [
       "<div>\n",
       "<style scoped>\n",
       "    .dataframe tbody tr th:only-of-type {\n",
       "        vertical-align: middle;\n",
       "    }\n",
       "\n",
       "    .dataframe tbody tr th {\n",
       "        vertical-align: top;\n",
       "    }\n",
       "\n",
       "    .dataframe thead th {\n",
       "        text-align: right;\n",
       "    }\n",
       "</style>\n",
       "<table border=\"1\" class=\"dataframe\">\n",
       "  <thead>\n",
       "    <tr style=\"text-align: right;\">\n",
       "      <th></th>\n",
       "      <th>budget</th>\n",
       "      <th>genres</th>\n",
       "      <th>homepage</th>\n",
       "      <th>id</th>\n",
       "      <th>keywords</th>\n",
       "      <th>original_language</th>\n",
       "      <th>original_title</th>\n",
       "      <th>overview</th>\n",
       "      <th>popularity</th>\n",
       "      <th>production_companies</th>\n",
       "      <th>...</th>\n",
       "      <th>runtime</th>\n",
       "      <th>spoken_languages</th>\n",
       "      <th>status</th>\n",
       "      <th>tagline</th>\n",
       "      <th>title_x</th>\n",
       "      <th>vote_average</th>\n",
       "      <th>vote_count</th>\n",
       "      <th>title_y</th>\n",
       "      <th>cast</th>\n",
       "      <th>crew</th>\n",
       "    </tr>\n",
       "  </thead>\n",
       "  <tbody>\n",
       "    <tr>\n",
       "      <th>0</th>\n",
       "      <td>237000000</td>\n",
       "      <td>[{\"id\": 28, \"name\": \"Action\"}, {\"id\": 12, \"nam...</td>\n",
       "      <td>http://www.avatarmovie.com/</td>\n",
       "      <td>19995</td>\n",
       "      <td>[{\"id\": 1463, \"name\": \"culture clash\"}, {\"id\":...</td>\n",
       "      <td>en</td>\n",
       "      <td>Avatar</td>\n",
       "      <td>In the 22nd century, a paraplegic Marine is di...</td>\n",
       "      <td>150.437577</td>\n",
       "      <td>[{\"name\": \"Ingenious Film Partners\", \"id\": 289...</td>\n",
       "      <td>...</td>\n",
       "      <td>162.0</td>\n",
       "      <td>[{\"iso_639_1\": \"en\", \"name\": \"English\"}, {\"iso...</td>\n",
       "      <td>Released</td>\n",
       "      <td>Enter the World of Pandora.</td>\n",
       "      <td>Avatar</td>\n",
       "      <td>7.2</td>\n",
       "      <td>11800</td>\n",
       "      <td>Avatar</td>\n",
       "      <td>[{\"cast_id\": 242, \"character\": \"Jake Sully\", \"...</td>\n",
       "      <td>[{\"credit_id\": \"52fe48009251416c750aca23\", \"de...</td>\n",
       "    </tr>\n",
       "    <tr>\n",
       "      <th>1</th>\n",
       "      <td>300000000</td>\n",
       "      <td>[{\"id\": 12, \"name\": \"Adventure\"}, {\"id\": 14, \"...</td>\n",
       "      <td>http://disney.go.com/disneypictures/pirates/</td>\n",
       "      <td>285</td>\n",
       "      <td>[{\"id\": 270, \"name\": \"ocean\"}, {\"id\": 726, \"na...</td>\n",
       "      <td>en</td>\n",
       "      <td>Pirates of the Caribbean: At World's End</td>\n",
       "      <td>Captain Barbossa, long believed to be dead, ha...</td>\n",
       "      <td>139.082615</td>\n",
       "      <td>[{\"name\": \"Walt Disney Pictures\", \"id\": 2}, {\"...</td>\n",
       "      <td>...</td>\n",
       "      <td>169.0</td>\n",
       "      <td>[{\"iso_639_1\": \"en\", \"name\": \"English\"}]</td>\n",
       "      <td>Released</td>\n",
       "      <td>At the end of the world, the adventure begins.</td>\n",
       "      <td>Pirates of the Caribbean: At World's End</td>\n",
       "      <td>6.9</td>\n",
       "      <td>4500</td>\n",
       "      <td>Pirates of the Caribbean: At World's End</td>\n",
       "      <td>[{\"cast_id\": 4, \"character\": \"Captain Jack Spa...</td>\n",
       "      <td>[{\"credit_id\": \"52fe4232c3a36847f800b579\", \"de...</td>\n",
       "    </tr>\n",
       "  </tbody>\n",
       "</table>\n",
       "<p>2 rows × 23 columns</p>\n",
       "</div>"
      ],
      "text/plain": [
       "      budget                                             genres  \\\n",
       "0  237000000  [{\"id\": 28, \"name\": \"Action\"}, {\"id\": 12, \"nam...   \n",
       "1  300000000  [{\"id\": 12, \"name\": \"Adventure\"}, {\"id\": 14, \"...   \n",
       "\n",
       "                                       homepage     id  \\\n",
       "0                   http://www.avatarmovie.com/  19995   \n",
       "1  http://disney.go.com/disneypictures/pirates/    285   \n",
       "\n",
       "                                            keywords original_language  \\\n",
       "0  [{\"id\": 1463, \"name\": \"culture clash\"}, {\"id\":...                en   \n",
       "1  [{\"id\": 270, \"name\": \"ocean\"}, {\"id\": 726, \"na...                en   \n",
       "\n",
       "                             original_title  \\\n",
       "0                                    Avatar   \n",
       "1  Pirates of the Caribbean: At World's End   \n",
       "\n",
       "                                            overview  popularity  \\\n",
       "0  In the 22nd century, a paraplegic Marine is di...  150.437577   \n",
       "1  Captain Barbossa, long believed to be dead, ha...  139.082615   \n",
       "\n",
       "                                production_companies  \\\n",
       "0  [{\"name\": \"Ingenious Film Partners\", \"id\": 289...   \n",
       "1  [{\"name\": \"Walt Disney Pictures\", \"id\": 2}, {\"...   \n",
       "\n",
       "                         ...                         runtime  \\\n",
       "0                        ...                           162.0   \n",
       "1                        ...                           169.0   \n",
       "\n",
       "                                    spoken_languages    status  \\\n",
       "0  [{\"iso_639_1\": \"en\", \"name\": \"English\"}, {\"iso...  Released   \n",
       "1           [{\"iso_639_1\": \"en\", \"name\": \"English\"}]  Released   \n",
       "\n",
       "                                          tagline  \\\n",
       "0                     Enter the World of Pandora.   \n",
       "1  At the end of the world, the adventure begins.   \n",
       "\n",
       "                                    title_x vote_average vote_count  \\\n",
       "0                                    Avatar          7.2      11800   \n",
       "1  Pirates of the Caribbean: At World's End          6.9       4500   \n",
       "\n",
       "                                    title_y  \\\n",
       "0                                    Avatar   \n",
       "1  Pirates of the Caribbean: At World's End   \n",
       "\n",
       "                                                cast  \\\n",
       "0  [{\"cast_id\": 242, \"character\": \"Jake Sully\", \"...   \n",
       "1  [{\"cast_id\": 4, \"character\": \"Captain Jack Spa...   \n",
       "\n",
       "                                                crew  \n",
       "0  [{\"credit_id\": \"52fe48009251416c750aca23\", \"de...  \n",
       "1  [{\"credit_id\": \"52fe4232c3a36847f800b579\", \"de...  \n",
       "\n",
       "[2 rows x 23 columns]"
      ]
     },
     "execution_count": 3,
     "metadata": {},
     "output_type": "execute_result"
    }
   ],
   "source": [
    "df.head(2)"
   ]
  },
  {
   "cell_type": "code",
   "execution_count": 4,
   "metadata": {},
   "outputs": [
    {
     "data": {
      "text/plain": [
       "Index(['budget', 'genres', 'homepage', 'id', 'keywords', 'original_language',\n",
       "       'original_title', 'overview', 'popularity', 'production_companies',\n",
       "       'production_countries', 'release_date', 'revenue', 'runtime',\n",
       "       'spoken_languages', 'status', 'tagline', 'title_x', 'vote_average',\n",
       "       'vote_count', 'title_y', 'cast', 'crew'],\n",
       "      dtype='object')"
      ]
     },
     "execution_count": 4,
     "metadata": {},
     "output_type": "execute_result"
    }
   ],
   "source": [
    "df.columns"
   ]
  },
  {
   "cell_type": "code",
   "execution_count": 5,
   "metadata": {},
   "outputs": [
    {
     "name": "stdout",
     "output_type": "stream",
     "text": [
      "Número de filmes:  4803\n",
      "Número de variáveis: 23\n"
     ]
    }
   ],
   "source": [
    "print(\"Número de filmes:  {}\\nNúmero de variáveis: {}\".format(len(df),len(df.columns)))"
   ]
  },
  {
   "cell_type": "markdown",
   "metadata": {},
   "source": [
    " "
   ]
  },
  {
   "cell_type": "markdown",
   "metadata": {},
   "source": [
    " ### Conclusões acerca da Base"
   ]
  },
  {
   "cell_type": "markdown",
   "metadata": {},
   "source": [
    "Primeiramente, podemos perceber que a base possui 23 variáveis. Dentre elas, algumas são númericas e outras são em formato de string, mas para essa análise, estaremos focando apenas nas númericas. Dessa maneira, podemos separá-las em:\n",
    " > **DEPENDENTES:** <br> vote_average <br><br>\n",
    "   **INDEPENDENTES:** <br> budget, runtime, vote_count, popularity, revenue\n",
    "\n",
    "A base que estamos utilizando contém 4803 linhas, em que cada linha representa um filme e todos os seus atributos.\n",
    "\n",
    "Ademais, nosso problema a ser tratado é encontrar um modelo capaz de prever a nota de um filme com base nas suas variáveis independentes para alcançar um resultado verdadeiro para a variável dependente."
   ]
  },
  {
   "cell_type": "markdown",
   "metadata": {},
   "source": [
    " "
   ]
  },
  {
   "cell_type": "markdown",
   "metadata": {},
   "source": [
    "### Analisando a Base mais de perto e fazendo ajustes"
   ]
  },
  {
   "cell_type": "code",
   "execution_count": 6,
   "metadata": {},
   "outputs": [],
   "source": [
    "main_df = df[['id', 'original_title', 'runtime', 'popularity', 'budget', 'revenue', 'vote_count', 'vote_average']]"
   ]
  },
  {
   "cell_type": "code",
   "execution_count": 7,
   "metadata": {},
   "outputs": [
    {
     "data": {
      "text/html": [
       "<div>\n",
       "<style scoped>\n",
       "    .dataframe tbody tr th:only-of-type {\n",
       "        vertical-align: middle;\n",
       "    }\n",
       "\n",
       "    .dataframe tbody tr th {\n",
       "        vertical-align: top;\n",
       "    }\n",
       "\n",
       "    .dataframe thead th {\n",
       "        text-align: right;\n",
       "    }\n",
       "</style>\n",
       "<table border=\"1\" class=\"dataframe\">\n",
       "  <thead>\n",
       "    <tr style=\"text-align: right;\">\n",
       "      <th></th>\n",
       "      <th>id</th>\n",
       "      <th>original_title</th>\n",
       "      <th>runtime</th>\n",
       "      <th>popularity</th>\n",
       "      <th>budget</th>\n",
       "      <th>revenue</th>\n",
       "      <th>vote_count</th>\n",
       "      <th>vote_average</th>\n",
       "    </tr>\n",
       "  </thead>\n",
       "  <tbody>\n",
       "    <tr>\n",
       "      <th>0</th>\n",
       "      <td>19995</td>\n",
       "      <td>Avatar</td>\n",
       "      <td>162.0</td>\n",
       "      <td>150.437577</td>\n",
       "      <td>237000000</td>\n",
       "      <td>2787965087</td>\n",
       "      <td>11800</td>\n",
       "      <td>7.2</td>\n",
       "    </tr>\n",
       "    <tr>\n",
       "      <th>1</th>\n",
       "      <td>285</td>\n",
       "      <td>Pirates of the Caribbean: At World's End</td>\n",
       "      <td>169.0</td>\n",
       "      <td>139.082615</td>\n",
       "      <td>300000000</td>\n",
       "      <td>961000000</td>\n",
       "      <td>4500</td>\n",
       "      <td>6.9</td>\n",
       "    </tr>\n",
       "    <tr>\n",
       "      <th>2</th>\n",
       "      <td>206647</td>\n",
       "      <td>Spectre</td>\n",
       "      <td>148.0</td>\n",
       "      <td>107.376788</td>\n",
       "      <td>245000000</td>\n",
       "      <td>880674609</td>\n",
       "      <td>4466</td>\n",
       "      <td>6.3</td>\n",
       "    </tr>\n",
       "    <tr>\n",
       "      <th>3</th>\n",
       "      <td>49026</td>\n",
       "      <td>The Dark Knight Rises</td>\n",
       "      <td>165.0</td>\n",
       "      <td>112.312950</td>\n",
       "      <td>250000000</td>\n",
       "      <td>1084939099</td>\n",
       "      <td>9106</td>\n",
       "      <td>7.6</td>\n",
       "    </tr>\n",
       "    <tr>\n",
       "      <th>4</th>\n",
       "      <td>49529</td>\n",
       "      <td>John Carter</td>\n",
       "      <td>132.0</td>\n",
       "      <td>43.926995</td>\n",
       "      <td>260000000</td>\n",
       "      <td>284139100</td>\n",
       "      <td>2124</td>\n",
       "      <td>6.1</td>\n",
       "    </tr>\n",
       "    <tr>\n",
       "      <th>5</th>\n",
       "      <td>559</td>\n",
       "      <td>Spider-Man 3</td>\n",
       "      <td>139.0</td>\n",
       "      <td>115.699814</td>\n",
       "      <td>258000000</td>\n",
       "      <td>890871626</td>\n",
       "      <td>3576</td>\n",
       "      <td>5.9</td>\n",
       "    </tr>\n",
       "  </tbody>\n",
       "</table>\n",
       "</div>"
      ],
      "text/plain": [
       "       id                            original_title  runtime  popularity  \\\n",
       "0   19995                                    Avatar    162.0  150.437577   \n",
       "1     285  Pirates of the Caribbean: At World's End    169.0  139.082615   \n",
       "2  206647                                   Spectre    148.0  107.376788   \n",
       "3   49026                     The Dark Knight Rises    165.0  112.312950   \n",
       "4   49529                               John Carter    132.0   43.926995   \n",
       "5     559                              Spider-Man 3    139.0  115.699814   \n",
       "\n",
       "      budget     revenue  vote_count  vote_average  \n",
       "0  237000000  2787965087       11800           7.2  \n",
       "1  300000000   961000000        4500           6.9  \n",
       "2  245000000   880674609        4466           6.3  \n",
       "3  250000000  1084939099        9106           7.6  \n",
       "4  260000000   284139100        2124           6.1  \n",
       "5  258000000   890871626        3576           5.9  "
      ]
     },
     "execution_count": 7,
     "metadata": {},
     "output_type": "execute_result"
    }
   ],
   "source": [
    "main_df.head(6)"
   ]
  },
  {
   "cell_type": "code",
   "execution_count": 8,
   "metadata": {},
   "outputs": [
    {
     "data": {
      "text/html": [
       "<div>\n",
       "<style scoped>\n",
       "    .dataframe tbody tr th:only-of-type {\n",
       "        vertical-align: middle;\n",
       "    }\n",
       "\n",
       "    .dataframe tbody tr th {\n",
       "        vertical-align: top;\n",
       "    }\n",
       "\n",
       "    .dataframe thead th {\n",
       "        text-align: right;\n",
       "    }\n",
       "</style>\n",
       "<table border=\"1\" class=\"dataframe\">\n",
       "  <thead>\n",
       "    <tr style=\"text-align: right;\">\n",
       "      <th></th>\n",
       "      <th>id</th>\n",
       "      <th>original_title</th>\n",
       "      <th>runtime</th>\n",
       "      <th>popularity</th>\n",
       "      <th>budget</th>\n",
       "      <th>revenue</th>\n",
       "      <th>vote_count</th>\n",
       "      <th>vote_average</th>\n",
       "    </tr>\n",
       "  </thead>\n",
       "  <tbody>\n",
       "    <tr>\n",
       "      <th>4662</th>\n",
       "      <td>40963</td>\n",
       "      <td>Little Big Top</td>\n",
       "      <td>0.0</td>\n",
       "      <td>0.092100</td>\n",
       "      <td>0</td>\n",
       "      <td>0</td>\n",
       "      <td>1</td>\n",
       "      <td>10.0</td>\n",
       "    </tr>\n",
       "    <tr>\n",
       "      <th>4247</th>\n",
       "      <td>361505</td>\n",
       "      <td>Me You and Five Bucks</td>\n",
       "      <td>90.0</td>\n",
       "      <td>0.094105</td>\n",
       "      <td>1</td>\n",
       "      <td>0</td>\n",
       "      <td>2</td>\n",
       "      <td>10.0</td>\n",
       "    </tr>\n",
       "    <tr>\n",
       "      <th>4045</th>\n",
       "      <td>78373</td>\n",
       "      <td>Dancer, Texas Pop. 81</td>\n",
       "      <td>97.0</td>\n",
       "      <td>0.376662</td>\n",
       "      <td>0</td>\n",
       "      <td>565592</td>\n",
       "      <td>1</td>\n",
       "      <td>10.0</td>\n",
       "    </tr>\n",
       "    <tr>\n",
       "      <th>3519</th>\n",
       "      <td>89861</td>\n",
       "      <td>Stiff Upper Lips</td>\n",
       "      <td>99.0</td>\n",
       "      <td>0.356495</td>\n",
       "      <td>0</td>\n",
       "      <td>0</td>\n",
       "      <td>1</td>\n",
       "      <td>10.0</td>\n",
       "    </tr>\n",
       "    <tr>\n",
       "      <th>3992</th>\n",
       "      <td>346081</td>\n",
       "      <td>Sardaarji</td>\n",
       "      <td>0.0</td>\n",
       "      <td>0.296981</td>\n",
       "      <td>0</td>\n",
       "      <td>0</td>\n",
       "      <td>2</td>\n",
       "      <td>9.5</td>\n",
       "    </tr>\n",
       "    <tr>\n",
       "      <th>2386</th>\n",
       "      <td>69848</td>\n",
       "      <td>One Man's Hero</td>\n",
       "      <td>121.0</td>\n",
       "      <td>0.910529</td>\n",
       "      <td>0</td>\n",
       "      <td>0</td>\n",
       "      <td>2</td>\n",
       "      <td>9.3</td>\n",
       "    </tr>\n",
       "    <tr>\n",
       "      <th>1881</th>\n",
       "      <td>278</td>\n",
       "      <td>The Shawshank Redemption</td>\n",
       "      <td>142.0</td>\n",
       "      <td>136.747729</td>\n",
       "      <td>25000000</td>\n",
       "      <td>28341469</td>\n",
       "      <td>8205</td>\n",
       "      <td>8.5</td>\n",
       "    </tr>\n",
       "    <tr>\n",
       "      <th>2970</th>\n",
       "      <td>88641</td>\n",
       "      <td>There Goes My Baby</td>\n",
       "      <td>99.0</td>\n",
       "      <td>0.037073</td>\n",
       "      <td>10500000</td>\n",
       "      <td>123509</td>\n",
       "      <td>2</td>\n",
       "      <td>8.5</td>\n",
       "    </tr>\n",
       "    <tr>\n",
       "      <th>3337</th>\n",
       "      <td>238</td>\n",
       "      <td>The Godfather</td>\n",
       "      <td>175.0</td>\n",
       "      <td>143.659698</td>\n",
       "      <td>6000000</td>\n",
       "      <td>245066411</td>\n",
       "      <td>5893</td>\n",
       "      <td>8.4</td>\n",
       "    </tr>\n",
       "    <tr>\n",
       "      <th>2796</th>\n",
       "      <td>43867</td>\n",
       "      <td>The Prisoner of Zenda</td>\n",
       "      <td>101.0</td>\n",
       "      <td>4.021389</td>\n",
       "      <td>0</td>\n",
       "      <td>0</td>\n",
       "      <td>11</td>\n",
       "      <td>8.4</td>\n",
       "    </tr>\n",
       "  </tbody>\n",
       "</table>\n",
       "</div>"
      ],
      "text/plain": [
       "          id            original_title  runtime  popularity    budget  \\\n",
       "4662   40963            Little Big Top      0.0    0.092100         0   \n",
       "4247  361505     Me You and Five Bucks     90.0    0.094105         1   \n",
       "4045   78373     Dancer, Texas Pop. 81     97.0    0.376662         0   \n",
       "3519   89861          Stiff Upper Lips     99.0    0.356495         0   \n",
       "3992  346081                 Sardaarji      0.0    0.296981         0   \n",
       "2386   69848            One Man's Hero    121.0    0.910529         0   \n",
       "1881     278  The Shawshank Redemption    142.0  136.747729  25000000   \n",
       "2970   88641        There Goes My Baby     99.0    0.037073  10500000   \n",
       "3337     238             The Godfather    175.0  143.659698   6000000   \n",
       "2796   43867     The Prisoner of Zenda    101.0    4.021389         0   \n",
       "\n",
       "        revenue  vote_count  vote_average  \n",
       "4662          0           1          10.0  \n",
       "4247          0           2          10.0  \n",
       "4045     565592           1          10.0  \n",
       "3519          0           1          10.0  \n",
       "3992          0           2           9.5  \n",
       "2386          0           2           9.3  \n",
       "1881   28341469        8205           8.5  \n",
       "2970     123509           2           8.5  \n",
       "3337  245066411        5893           8.4  \n",
       "2796          0          11           8.4  "
      ]
     },
     "execution_count": 8,
     "metadata": {},
     "output_type": "execute_result"
    }
   ],
   "source": [
    "main_df.sort_values(by=['vote_average'])[-1::-1].head(10)"
   ]
  },
  {
   "cell_type": "code",
   "execution_count": 9,
   "metadata": {},
   "outputs": [
    {
     "data": {
      "text/plain": [
       "0     62\n",
       "1     53\n",
       "2     46\n",
       "4     43\n",
       "3     41\n",
       "6     38\n",
       "8     37\n",
       "10    34\n",
       "11    32\n",
       "9     32\n",
       "Name: vote_count, dtype: int64"
      ]
     },
     "execution_count": 9,
     "metadata": {},
     "output_type": "execute_result"
    }
   ],
   "source": [
    "main_df['vote_count'].value_counts()[:10]"
   ]
  },
  {
   "cell_type": "code",
   "execution_count": 10,
   "metadata": {},
   "outputs": [
    {
     "data": {
      "text/plain": [
       "0           1037\n",
       "20000000     144\n",
       "30000000     128\n",
       "25000000     126\n",
       "40000000     123\n",
       "15000000     120\n",
       "35000000     102\n",
       "10000000     101\n",
       "50000000     101\n",
       "60000000      86\n",
       "Name: budget, dtype: int64"
      ]
     },
     "execution_count": 10,
     "metadata": {},
     "output_type": "execute_result"
    }
   ],
   "source": [
    "main_df['budget'].value_counts()[:10]"
   ]
  },
  {
   "cell_type": "code",
   "execution_count": 11,
   "metadata": {},
   "outputs": [
    {
     "name": "stdout",
     "output_type": "stream",
     "text": [
      "0.33666458463460336\n"
     ]
    }
   ],
   "source": [
    "t           = 0\n",
    "exclude_row = []\n",
    "count       = 0\n",
    "for i in main_df.iterrows():\n",
    "    if i[1]['vote_count'] < 10 or i[1]['budget'] == 0 or i[1]['revenue'] == 0:\n",
    "        exclude_row.append(t)\n",
    "        count += 1\n",
    "    t += 1\n",
    "print(count/len(main_df))\n",
    "\n",
    "main_df = main_df.drop(exclude_row)"
   ]
  },
  {
   "cell_type": "markdown",
   "metadata": {},
   "source": [
    " "
   ]
  },
  {
   "cell_type": "markdown",
   "metadata": {},
   "source": [
    "### Conclusões dos Ajustes\n",
    "\n",
    "Analisando a base mais a fundo, podemos perceber alguns valores que não fazem sentido para nossa análise, como número de votos menor que 15 (valor escolhido arbitrariamente) e custo de realização do filme em 0. Optei por eliminar tais filmes que apresentassem essas condições. Com isso, nossa base passa a ter 67% do tamanho inicial dela."
   ]
  },
  {
   "cell_type": "markdown",
   "metadata": {},
   "source": [
    " "
   ]
  },
  {
   "cell_type": "markdown",
   "metadata": {},
   "source": [
    "### Análise Descritiva da Base"
   ]
  },
  {
   "cell_type": "code",
   "execution_count": 12,
   "metadata": {},
   "outputs": [
    {
     "data": {
      "text/html": [
       "<div>\n",
       "<style scoped>\n",
       "    .dataframe tbody tr th:only-of-type {\n",
       "        vertical-align: middle;\n",
       "    }\n",
       "\n",
       "    .dataframe tbody tr th {\n",
       "        vertical-align: top;\n",
       "    }\n",
       "\n",
       "    .dataframe thead th {\n",
       "        text-align: right;\n",
       "    }\n",
       "</style>\n",
       "<table border=\"1\" class=\"dataframe\">\n",
       "  <thead>\n",
       "    <tr style=\"text-align: right;\">\n",
       "      <th></th>\n",
       "      <th>id</th>\n",
       "      <th>original_title</th>\n",
       "      <th>runtime</th>\n",
       "      <th>popularity</th>\n",
       "      <th>budget</th>\n",
       "      <th>revenue</th>\n",
       "      <th>vote_count</th>\n",
       "      <th>vote_average</th>\n",
       "    </tr>\n",
       "  </thead>\n",
       "  <tbody>\n",
       "    <tr>\n",
       "      <th>0</th>\n",
       "      <td>19995</td>\n",
       "      <td>Avatar</td>\n",
       "      <td>162.0</td>\n",
       "      <td>150.437577</td>\n",
       "      <td>237000000</td>\n",
       "      <td>2787965087</td>\n",
       "      <td>11800</td>\n",
       "      <td>7.2</td>\n",
       "    </tr>\n",
       "    <tr>\n",
       "      <th>1</th>\n",
       "      <td>285</td>\n",
       "      <td>Pirates of the Caribbean: At World's End</td>\n",
       "      <td>169.0</td>\n",
       "      <td>139.082615</td>\n",
       "      <td>300000000</td>\n",
       "      <td>961000000</td>\n",
       "      <td>4500</td>\n",
       "      <td>6.9</td>\n",
       "    </tr>\n",
       "    <tr>\n",
       "      <th>2</th>\n",
       "      <td>206647</td>\n",
       "      <td>Spectre</td>\n",
       "      <td>148.0</td>\n",
       "      <td>107.376788</td>\n",
       "      <td>245000000</td>\n",
       "      <td>880674609</td>\n",
       "      <td>4466</td>\n",
       "      <td>6.3</td>\n",
       "    </tr>\n",
       "    <tr>\n",
       "      <th>3</th>\n",
       "      <td>49026</td>\n",
       "      <td>The Dark Knight Rises</td>\n",
       "      <td>165.0</td>\n",
       "      <td>112.312950</td>\n",
       "      <td>250000000</td>\n",
       "      <td>1084939099</td>\n",
       "      <td>9106</td>\n",
       "      <td>7.6</td>\n",
       "    </tr>\n",
       "    <tr>\n",
       "      <th>4</th>\n",
       "      <td>49529</td>\n",
       "      <td>John Carter</td>\n",
       "      <td>132.0</td>\n",
       "      <td>43.926995</td>\n",
       "      <td>260000000</td>\n",
       "      <td>284139100</td>\n",
       "      <td>2124</td>\n",
       "      <td>6.1</td>\n",
       "    </tr>\n",
       "  </tbody>\n",
       "</table>\n",
       "</div>"
      ],
      "text/plain": [
       "       id                            original_title  runtime  popularity  \\\n",
       "0   19995                                    Avatar    162.0  150.437577   \n",
       "1     285  Pirates of the Caribbean: At World's End    169.0  139.082615   \n",
       "2  206647                                   Spectre    148.0  107.376788   \n",
       "3   49026                     The Dark Knight Rises    165.0  112.312950   \n",
       "4   49529                               John Carter    132.0   43.926995   \n",
       "\n",
       "      budget     revenue  vote_count  vote_average  \n",
       "0  237000000  2787965087       11800           7.2  \n",
       "1  300000000   961000000        4500           6.9  \n",
       "2  245000000   880674609        4466           6.3  \n",
       "3  250000000  1084939099        9106           7.6  \n",
       "4  260000000   284139100        2124           6.1  "
      ]
     },
     "execution_count": 12,
     "metadata": {},
     "output_type": "execute_result"
    }
   ],
   "source": [
    "main_df.head()"
   ]
  },
  {
   "cell_type": "markdown",
   "metadata": {},
   "source": [
    " "
   ]
  },
  {
   "cell_type": "markdown",
   "metadata": {},
   "source": [
    "#### Description"
   ]
  },
  {
   "cell_type": "code",
   "execution_count": 13,
   "metadata": {},
   "outputs": [
    {
     "data": {
      "text/html": [
       "<div>\n",
       "<style scoped>\n",
       "    .dataframe tbody tr th:only-of-type {\n",
       "        vertical-align: middle;\n",
       "    }\n",
       "\n",
       "    .dataframe tbody tr th {\n",
       "        vertical-align: top;\n",
       "    }\n",
       "\n",
       "    .dataframe thead th {\n",
       "        text-align: right;\n",
       "    }\n",
       "</style>\n",
       "<table border=\"1\" class=\"dataframe\">\n",
       "  <thead>\n",
       "    <tr style=\"text-align: right;\">\n",
       "      <th></th>\n",
       "      <th>count</th>\n",
       "      <th>mean</th>\n",
       "      <th>std</th>\n",
       "      <th>min</th>\n",
       "      <th>25%</th>\n",
       "      <th>50%</th>\n",
       "      <th>75%</th>\n",
       "      <th>max</th>\n",
       "    </tr>\n",
       "  </thead>\n",
       "  <tbody>\n",
       "    <tr>\n",
       "      <th>runtime</th>\n",
       "      <td>3186.0</td>\n",
       "      <td>1.108311e+02</td>\n",
       "      <td>2.094650e+01</td>\n",
       "      <td>41.000000</td>\n",
       "      <td>9.600000e+01</td>\n",
       "      <td>1.070000e+02</td>\n",
       "      <td>1.210000e+02</td>\n",
       "      <td>3.380000e+02</td>\n",
       "    </tr>\n",
       "    <tr>\n",
       "      <th>popularity</th>\n",
       "      <td>3186.0</td>\n",
       "      <td>2.941696e+01</td>\n",
       "      <td>3.625710e+01</td>\n",
       "      <td>0.034259</td>\n",
       "      <td>1.079826e+01</td>\n",
       "      <td>2.074652e+01</td>\n",
       "      <td>3.767750e+01</td>\n",
       "      <td>8.755813e+02</td>\n",
       "    </tr>\n",
       "    <tr>\n",
       "      <th>budget</th>\n",
       "      <td>3186.0</td>\n",
       "      <td>4.111187e+07</td>\n",
       "      <td>4.450889e+07</td>\n",
       "      <td>1.000000</td>\n",
       "      <td>1.100000e+07</td>\n",
       "      <td>2.600000e+07</td>\n",
       "      <td>5.500000e+07</td>\n",
       "      <td>3.800000e+08</td>\n",
       "    </tr>\n",
       "    <tr>\n",
       "      <th>revenue</th>\n",
       "      <td>3186.0</td>\n",
       "      <td>1.228261e+08</td>\n",
       "      <td>1.870525e+08</td>\n",
       "      <td>5.000000</td>\n",
       "      <td>1.775538e+07</td>\n",
       "      <td>5.679228e+07</td>\n",
       "      <td>1.483932e+08</td>\n",
       "      <td>2.787965e+09</td>\n",
       "    </tr>\n",
       "    <tr>\n",
       "      <th>vote_count</th>\n",
       "      <td>3186.0</td>\n",
       "      <td>9.904137e+02</td>\n",
       "      <td>1.419272e+03</td>\n",
       "      <td>10.000000</td>\n",
       "      <td>1.882500e+02</td>\n",
       "      <td>4.830000e+02</td>\n",
       "      <td>1.156500e+03</td>\n",
       "      <td>1.375200e+04</td>\n",
       "    </tr>\n",
       "    <tr>\n",
       "      <th>vote_average</th>\n",
       "      <td>3186.0</td>\n",
       "      <td>6.320213e+00</td>\n",
       "      <td>8.491751e-01</td>\n",
       "      <td>2.300000</td>\n",
       "      <td>5.800000e+00</td>\n",
       "      <td>6.300000e+00</td>\n",
       "      <td>6.900000e+00</td>\n",
       "      <td>8.500000e+00</td>\n",
       "    </tr>\n",
       "  </tbody>\n",
       "</table>\n",
       "</div>"
      ],
      "text/plain": [
       "               count          mean           std        min           25%  \\\n",
       "runtime       3186.0  1.108311e+02  2.094650e+01  41.000000  9.600000e+01   \n",
       "popularity    3186.0  2.941696e+01  3.625710e+01   0.034259  1.079826e+01   \n",
       "budget        3186.0  4.111187e+07  4.450889e+07   1.000000  1.100000e+07   \n",
       "revenue       3186.0  1.228261e+08  1.870525e+08   5.000000  1.775538e+07   \n",
       "vote_count    3186.0  9.904137e+02  1.419272e+03  10.000000  1.882500e+02   \n",
       "vote_average  3186.0  6.320213e+00  8.491751e-01   2.300000  5.800000e+00   \n",
       "\n",
       "                       50%           75%           max  \n",
       "runtime       1.070000e+02  1.210000e+02  3.380000e+02  \n",
       "popularity    2.074652e+01  3.767750e+01  8.755813e+02  \n",
       "budget        2.600000e+07  5.500000e+07  3.800000e+08  \n",
       "revenue       5.679228e+07  1.483932e+08  2.787965e+09  \n",
       "vote_count    4.830000e+02  1.156500e+03  1.375200e+04  \n",
       "vote_average  6.300000e+00  6.900000e+00  8.500000e+00  "
      ]
     },
     "execution_count": 13,
     "metadata": {},
     "output_type": "execute_result"
    }
   ],
   "source": [
    "main_df[['runtime', 'popularity', 'budget', 'revenue', 'vote_count', 'vote_average']].describe().transpose()"
   ]
  },
  {
   "cell_type": "markdown",
   "metadata": {},
   "source": [
    " "
   ]
  },
  {
   "cell_type": "markdown",
   "metadata": {},
   "source": [
    "#### Budget e Revenue\n",
    "Acerca do valor da variável de preço da base, podemos observar que a média de Lucro dos filmes é positiva e praticamente o dobro do valor do orçamento."
   ]
  },
  {
   "cell_type": "code",
   "execution_count": 14,
   "metadata": {},
   "outputs": [
    {
     "name": "stdout",
     "output_type": "stream",
     "text": [
      "Orçamento médio de um filme: $41111873.56\n",
      "Receita média de um filme: $122826134.19\n",
      "Lucro médio de um filme: $81714260.63\n"
     ]
    }
   ],
   "source": [
    "print(\"Orçamento médio de um filme: ${:.2f}\".format(main_df['budget'].mean()))\n",
    "print(\"Receita média de um filme: ${:.2f}\".format(main_df['revenue'].mean()))\n",
    "print(\"Lucro médio de um filme: ${:.2f}\".format(main_df['revenue'].mean() - main_df['budget'].mean()))"
   ]
  },
  {
   "cell_type": "markdown",
   "metadata": {},
   "source": [
    " "
   ]
  },
  {
   "cell_type": "markdown",
   "metadata": {},
   "source": [
    "#### Vote Average\n",
    "Para as notas, podemos observar que a média está em 6.3, bem próxima de 6, que tende a ser um valor considerado intermediário para a maioria das votações. Além disso, com o desvio padrão em 0.85, podemos observar que muitos filmes tem notas superiores a 7 e menores que 6. A maior nota encontrada na base é 8.5 e a menor 2.3."
   ]
  },
  {
   "cell_type": "code",
   "execution_count": 15,
   "metadata": {},
   "outputs": [
    {
     "name": "stdout",
     "output_type": "stream",
     "text": [
      "Maior nota para um filme: 8.5\n",
      "Menor nota para um filme: 2.3\n",
      "Média de nota para filme: 6.32\n",
      "Desvio Padrão das notas : 0.85\n"
     ]
    }
   ],
   "source": [
    "print(\"Maior nota para um filme: {}\".format(max(main_df['vote_average'])))\n",
    "print(\"Menor nota para um filme: {}\".format(min(main_df['vote_average'])))\n",
    "print(\"Média de nota para filme: {:.2f}\".format(main_df['vote_average'].mean()))\n",
    "print(\"Desvio Padrão das notas : {:.2f}\".format(np.var(main_df['vote_average']) ** (1/2)))"
   ]
  },
  {
   "cell_type": "markdown",
   "metadata": {},
   "source": [
    " "
   ]
  },
  {
   "cell_type": "markdown",
   "metadata": {},
   "source": [
    "#### Popularity\n",
    "Montando um gráfico de popularidade, podemos perceber que alguns filmes se destacam dos demais nessa categoria, como é o caso de **Minions** e **Interestelar**. Além disso, com nosso segundo gráfico, podemos perceber que a nota não depende necessariamente da popularidade, mas que ela garante, na maioria dos casos, um valor próximo ou acima de 6."
   ]
  },
  {
   "cell_type": "code",
   "execution_count": 16,
   "metadata": {},
   "outputs": [
    {
     "data": {
      "image/png": "[encoded data removed]",
      "text/plain": [
       "<Figure size 720x432 with 1 Axes>"
      ]
     },
     "metadata": {},
     "output_type": "display_data"
    },
    {
     "data": {
      "image/png": "[encoded data removed]",
      "text/plain": [
       "<Figure size 720x432 with 1 Axes>"
      ]
     },
     "metadata": {},
     "output_type": "display_data"
    }
   ],
   "source": [
    "plt.figure(figsize=(10,6))\n",
    "titles     = main_df.sort_values(by=[\"popularity\"], ascending=False)[\"original_title\"][:30]\n",
    "popularity = main_df.sort_values(by=[\"popularity\"], ascending=False)[\"popularity\"][:30]\n",
    "y_pos      = np.arange(30)\n",
    "plt.bar(y_pos, popularity, align='center', alpha=0.5)\n",
    "plt.xticks(y_pos, titles, rotation=90)\n",
    "plt.title('30 Filmes com a maior popularidade')\n",
    "plt.xlabel(\"Título do Filme\")\n",
    "plt.ylabel(\"Popularidade\")\n",
    "\n",
    "plt.figure(figsize=(10,6))\n",
    "titles     = main_df.sort_values(by=[\"popularity\"], ascending=False)[\"original_title\"][:30]\n",
    "popularity = main_df.sort_values(by=[\"popularity\"], ascending=False)[\"vote_average\"][:30]\n",
    "y_pos      = np.arange(30)\n",
    "plt.bar(y_pos, popularity, align='center', alpha=0.5)\n",
    "plt.xticks(y_pos, titles, rotation=90)\n",
    "plt.title('Nota Média dos 30 filmes com a maior popularidade')\n",
    "plt.xlabel(\"Título do Filme\")\n",
    "plt.ylabel(\"Nota Média\")\n",
    "plt.show()\n",
    "\n",
    "plt.show()"
   ]
  },
  {
   "cell_type": "markdown",
   "metadata": {},
   "source": [
    " "
   ]
  },
  {
   "cell_type": "markdown",
   "metadata": {},
   "source": [
    "#### Budget\n",
    "Como podemos ver a seguir, seguindo o mesmo modelo anterior, para o caso de budget, quanto maior o orçamento, menor tende a ser nota comparada a outras categorias. Ou seja, para os 30 maiores orçamentos, a maior nota não ultrapassou 8, e algumas se aproximaram de 5."
   ]
  },
  {
   "cell_type": "code",
   "execution_count": 17,
   "metadata": {},
   "outputs": [
    {
     "data": {
      "image/png": "[encoded data removed]",
      "text/plain": [
       "<Figure size 720x432 with 1 Axes>"
      ]
     },
     "metadata": {},
     "output_type": "display_data"
    },
    {
     "data": {
      "image/png": "[encoded data removed]",
      "text/plain": [
       "<Figure size 720x432 with 1 Axes>"
      ]
     },
     "metadata": {},
     "output_type": "display_data"
    }
   ],
   "source": [
    "plt.figure(figsize=(10,6))\n",
    "titles     = main_df.sort_values(by=[\"budget\"], ascending=False)[\"original_title\"][:30]\n",
    "popularity = main_df.sort_values(by=[\"budget\"], ascending=False)[\"budget\"][:30]\n",
    "y_pos      = np.arange(30)\n",
    "plt.bar(y_pos, popularity, align='center', alpha=0.5)\n",
    "plt.xticks(y_pos, titles, rotation=90)\n",
    "plt.title('30 Filmes com o maior Orçamento')\n",
    "plt.xlabel(\"Título do Filme\")\n",
    "plt.ylabel(\"Orçamento\")\n",
    "\n",
    "plt.figure(figsize=(10,6))\n",
    "titles     = main_df.sort_values(by=[\"budget\"], ascending=False)[\"original_title\"][:30]\n",
    "popularity = main_df.sort_values(by=[\"budget\"], ascending=False)[\"vote_average\"][:30]\n",
    "y_pos      = np.arange(30)\n",
    "plt.bar(y_pos, popularity, align='center', alpha=0.5)\n",
    "plt.xticks(y_pos, titles, rotation=90)\n",
    "plt.title('Nota dos 30 filmes com o maior Orçamento')\n",
    "plt.xlabel(\"Título do Filme\")\n",
    "plt.ylabel(\"Nota\")\n",
    "plt.show()"
   ]
  },
  {
   "cell_type": "markdown",
   "metadata": {},
   "source": [
    " "
   ]
  },
  {
   "cell_type": "markdown",
   "metadata": {},
   "source": [
    "#### Vote Average\n",
    "Ainda sobre a nota, um fator curioso após essa análise é que aproximadamente 63.6% da base tem uma nota maior do que 6, mas somente 1.2% de toda a base possui uma nota maior do que 8. Dessa maneira, podemos perceber o motivo da média ser 6.3, com desvio padrão 0.85."
   ]
  },
  {
   "cell_type": "code",
   "execution_count": 18,
   "metadata": {},
   "outputs": [
    {
     "data": {
      "image/png": "[encoded data removed]",
      "text/plain": [
       "<Figure size 432x288 with 1 Axes>"
      ]
     },
     "metadata": {},
     "output_type": "display_data"
    }
   ],
   "source": [
    "list_of_vote = [[], [], [], []]\n",
    "for i in main_df.iterrows():\n",
    "    if i[1]['vote_average'] > 8:\n",
    "        list_of_vote[0].append(i)\n",
    "    elif i[1]['vote_average'] > 7:\n",
    "        list_of_vote[1].append(i)\n",
    "    elif i[1]['vote_average'] > 6:\n",
    "        list_of_vote[2].append(i)\n",
    "    else:\n",
    "        list_of_vote[3].append(i)\n",
    "        \n",
    "total = len(list_of_vote[0]) + len(list_of_vote[1]) + len(list_of_vote[2]) + len(list_of_vote[3])\n",
    "\n",
    "labels = 'Maior que 8', 'Menor que 8 e maior que 7', 'Menor que 7 e maior que 6', 'Resto'\n",
    "sizes = [len(list_of_vote[0])*100/total, \n",
    "         len(list_of_vote[1])*100/total, \n",
    "         len(list_of_vote[2])*100/total, \n",
    "         len(list_of_vote[3])*100/total]\n",
    "explode = (0.05, 0.05, 0.05, 0.05)\n",
    "\n",
    "fig1, ax1 = plt.subplots()\n",
    "ax1.pie(sizes, explode=explode, labels=labels, autopct='%1.1f%%', shadow=True, startangle=90)\n",
    "ax1.axis('equal')\n",
    "plt.show()"
   ]
  },
  {
   "cell_type": "markdown",
   "metadata": {},
   "source": [
    " "
   ]
  },
  {
   "cell_type": "markdown",
   "metadata": {},
   "source": [
    "### Separando a Base em Treino e Teste\n",
    "Para tal separação, aproximadamente 30% da base fará parte do teste e 70% do treino. Para isso, utilizo um modelo simples que separa os filmes para cada base de acordo com a probabilidade."
   ]
  },
  {
   "cell_type": "code",
   "execution_count": 19,
   "metadata": {},
   "outputs": [],
   "source": [
    "row_numbers = list(main_df.index)\n",
    "size        = len(row_numbers)\n",
    "test_list   = []\n",
    "train_list  = []\n",
    "\n",
    "for i in range(len(row_numbers)):\n",
    "    list_of_choice = [0]*3 + [1]*7\n",
    "    dice = rd.choice(list_of_choice)\n",
    "    if dice == 0:\n",
    "        test_list.append(row_numbers[i])\n",
    "    else:\n",
    "        train_list.append(row_numbers[i])\n",
    "    \n",
    "train_df = main_df.drop(test_list)\n",
    "test_df  = main_df.drop(train_list)"
   ]
  },
  {
   "cell_type": "markdown",
   "metadata": {},
   "source": [
    "#### Base de Treino"
   ]
  },
  {
   "cell_type": "code",
   "execution_count": 20,
   "metadata": {},
   "outputs": [
    {
     "name": "stdout",
     "output_type": "stream",
     "text": [
      "Tamanho da Base de Treino: 2190\n"
     ]
    },
    {
     "data": {
      "text/html": [
       "<div>\n",
       "<style scoped>\n",
       "    .dataframe tbody tr th:only-of-type {\n",
       "        vertical-align: middle;\n",
       "    }\n",
       "\n",
       "    .dataframe tbody tr th {\n",
       "        vertical-align: top;\n",
       "    }\n",
       "\n",
       "    .dataframe thead th {\n",
       "        text-align: right;\n",
       "    }\n",
       "</style>\n",
       "<table border=\"1\" class=\"dataframe\">\n",
       "  <thead>\n",
       "    <tr style=\"text-align: right;\">\n",
       "      <th></th>\n",
       "      <th>id</th>\n",
       "      <th>original_title</th>\n",
       "      <th>runtime</th>\n",
       "      <th>popularity</th>\n",
       "      <th>budget</th>\n",
       "      <th>revenue</th>\n",
       "      <th>vote_count</th>\n",
       "      <th>vote_average</th>\n",
       "    </tr>\n",
       "  </thead>\n",
       "  <tbody>\n",
       "    <tr>\n",
       "      <th>3</th>\n",
       "      <td>49026</td>\n",
       "      <td>The Dark Knight Rises</td>\n",
       "      <td>165.0</td>\n",
       "      <td>112.312950</td>\n",
       "      <td>250000000</td>\n",
       "      <td>1084939099</td>\n",
       "      <td>9106</td>\n",
       "      <td>7.6</td>\n",
       "    </tr>\n",
       "    <tr>\n",
       "      <th>4</th>\n",
       "      <td>49529</td>\n",
       "      <td>John Carter</td>\n",
       "      <td>132.0</td>\n",
       "      <td>43.926995</td>\n",
       "      <td>260000000</td>\n",
       "      <td>284139100</td>\n",
       "      <td>2124</td>\n",
       "      <td>6.1</td>\n",
       "    </tr>\n",
       "    <tr>\n",
       "      <th>5</th>\n",
       "      <td>559</td>\n",
       "      <td>Spider-Man 3</td>\n",
       "      <td>139.0</td>\n",
       "      <td>115.699814</td>\n",
       "      <td>258000000</td>\n",
       "      <td>890871626</td>\n",
       "      <td>3576</td>\n",
       "      <td>5.9</td>\n",
       "    </tr>\n",
       "    <tr>\n",
       "      <th>7</th>\n",
       "      <td>99861</td>\n",
       "      <td>Avengers: Age of Ultron</td>\n",
       "      <td>141.0</td>\n",
       "      <td>134.279229</td>\n",
       "      <td>280000000</td>\n",
       "      <td>1405403694</td>\n",
       "      <td>6767</td>\n",
       "      <td>7.3</td>\n",
       "    </tr>\n",
       "    <tr>\n",
       "      <th>13</th>\n",
       "      <td>57201</td>\n",
       "      <td>The Lone Ranger</td>\n",
       "      <td>149.0</td>\n",
       "      <td>49.046956</td>\n",
       "      <td>255000000</td>\n",
       "      <td>89289910</td>\n",
       "      <td>2311</td>\n",
       "      <td>5.9</td>\n",
       "    </tr>\n",
       "  </tbody>\n",
       "</table>\n",
       "</div>"
      ],
      "text/plain": [
       "       id           original_title  runtime  popularity     budget  \\\n",
       "3   49026    The Dark Knight Rises    165.0  112.312950  250000000   \n",
       "4   49529              John Carter    132.0   43.926995  260000000   \n",
       "5     559             Spider-Man 3    139.0  115.699814  258000000   \n",
       "7   99861  Avengers: Age of Ultron    141.0  134.279229  280000000   \n",
       "13  57201          The Lone Ranger    149.0   49.046956  255000000   \n",
       "\n",
       "       revenue  vote_count  vote_average  \n",
       "3   1084939099        9106           7.6  \n",
       "4    284139100        2124           6.1  \n",
       "5    890871626        3576           5.9  \n",
       "7   1405403694        6767           7.3  \n",
       "13    89289910        2311           5.9  "
      ]
     },
     "execution_count": 20,
     "metadata": {},
     "output_type": "execute_result"
    }
   ],
   "source": [
    "print(\"Tamanho da Base de Treino: {}\".format(len(train_df)))\n",
    "train_df.head()"
   ]
  },
  {
   "cell_type": "markdown",
   "metadata": {},
   "source": [
    "#### Base de Teste"
   ]
  },
  {
   "cell_type": "code",
   "execution_count": 21,
   "metadata": {},
   "outputs": [
    {
     "name": "stdout",
     "output_type": "stream",
     "text": [
      "Tamanho da Base de Teste: 996\n"
     ]
    },
    {
     "data": {
      "text/html": [
       "<div>\n",
       "<style scoped>\n",
       "    .dataframe tbody tr th:only-of-type {\n",
       "        vertical-align: middle;\n",
       "    }\n",
       "\n",
       "    .dataframe tbody tr th {\n",
       "        vertical-align: top;\n",
       "    }\n",
       "\n",
       "    .dataframe thead th {\n",
       "        text-align: right;\n",
       "    }\n",
       "</style>\n",
       "<table border=\"1\" class=\"dataframe\">\n",
       "  <thead>\n",
       "    <tr style=\"text-align: right;\">\n",
       "      <th></th>\n",
       "      <th>id</th>\n",
       "      <th>original_title</th>\n",
       "      <th>runtime</th>\n",
       "      <th>popularity</th>\n",
       "      <th>budget</th>\n",
       "      <th>revenue</th>\n",
       "      <th>vote_count</th>\n",
       "      <th>vote_average</th>\n",
       "    </tr>\n",
       "  </thead>\n",
       "  <tbody>\n",
       "    <tr>\n",
       "      <th>0</th>\n",
       "      <td>19995</td>\n",
       "      <td>Avatar</td>\n",
       "      <td>162.0</td>\n",
       "      <td>150.437577</td>\n",
       "      <td>237000000</td>\n",
       "      <td>2787965087</td>\n",
       "      <td>11800</td>\n",
       "      <td>7.2</td>\n",
       "    </tr>\n",
       "    <tr>\n",
       "      <th>1</th>\n",
       "      <td>285</td>\n",
       "      <td>Pirates of the Caribbean: At World's End</td>\n",
       "      <td>169.0</td>\n",
       "      <td>139.082615</td>\n",
       "      <td>300000000</td>\n",
       "      <td>961000000</td>\n",
       "      <td>4500</td>\n",
       "      <td>6.9</td>\n",
       "    </tr>\n",
       "    <tr>\n",
       "      <th>2</th>\n",
       "      <td>206647</td>\n",
       "      <td>Spectre</td>\n",
       "      <td>148.0</td>\n",
       "      <td>107.376788</td>\n",
       "      <td>245000000</td>\n",
       "      <td>880674609</td>\n",
       "      <td>4466</td>\n",
       "      <td>6.3</td>\n",
       "    </tr>\n",
       "    <tr>\n",
       "      <th>6</th>\n",
       "      <td>38757</td>\n",
       "      <td>Tangled</td>\n",
       "      <td>100.0</td>\n",
       "      <td>48.681969</td>\n",
       "      <td>260000000</td>\n",
       "      <td>591794936</td>\n",
       "      <td>3330</td>\n",
       "      <td>7.4</td>\n",
       "    </tr>\n",
       "    <tr>\n",
       "      <th>8</th>\n",
       "      <td>767</td>\n",
       "      <td>Harry Potter and the Half-Blood Prince</td>\n",
       "      <td>153.0</td>\n",
       "      <td>98.885637</td>\n",
       "      <td>250000000</td>\n",
       "      <td>933959197</td>\n",
       "      <td>5293</td>\n",
       "      <td>7.4</td>\n",
       "    </tr>\n",
       "  </tbody>\n",
       "</table>\n",
       "</div>"
      ],
      "text/plain": [
       "       id                            original_title  runtime  popularity  \\\n",
       "0   19995                                    Avatar    162.0  150.437577   \n",
       "1     285  Pirates of the Caribbean: At World's End    169.0  139.082615   \n",
       "2  206647                                   Spectre    148.0  107.376788   \n",
       "6   38757                                   Tangled    100.0   48.681969   \n",
       "8     767    Harry Potter and the Half-Blood Prince    153.0   98.885637   \n",
       "\n",
       "      budget     revenue  vote_count  vote_average  \n",
       "0  237000000  2787965087       11800           7.2  \n",
       "1  300000000   961000000        4500           6.9  \n",
       "2  245000000   880674609        4466           6.3  \n",
       "6  260000000   591794936        3330           7.4  \n",
       "8  250000000   933959197        5293           7.4  "
      ]
     },
     "execution_count": 21,
     "metadata": {},
     "output_type": "execute_result"
    }
   ],
   "source": [
    "print(\"Tamanho da Base de Teste: {}\".format(len(test_df)))\n",
    "test_df.head()"
   ]
  },
  {
   "cell_type": "markdown",
   "metadata": {},
   "source": [
    " "
   ]
  },
  {
   "cell_type": "markdown",
   "metadata": {},
   "source": [
    "## 2. Modelagem"
   ]
  },
  {
   "cell_type": "markdown",
   "metadata": {},
   "source": [
    "### Introdução das variáveis\n",
    "Para a modelagem, como já tratei da base anteriormente, estarei utilizando as variáveis numéricas já separadas:\n",
    "> **DEPENDENTE:** <br> vote_average <br><br>\n",
    "  **INDEPENDENTE:** <br> runtime, popularity, budget, revenue, vote_count\n",
    " \n",
    "As variáveis id e original_title não serão utilizadas na modelagem, mas elas se tornam úteis para uma análise de caso."
   ]
  },
  {
   "cell_type": "markdown",
   "metadata": {},
   "source": [
    "### Iniciando a modelagem - K Nearest Neighbors (KNN)\n",
    "Para o primeiro passo, estaremos utilizado o modelo K-NearestNeighbors de Regressão para determinar a nota dos filmes. Para isso, levamos em conta nossas variáveis independentes e tentamos nos aproximar do valor real da variável dependente.\n",
    "\n",
    "Escolhendo um número n arbitrário, temos o primeiro resultado do modelo:"
   ]
  },
  {
   "cell_type": "code",
   "execution_count": 22,
   "metadata": {},
   "outputs": [
    {
     "name": "stdout",
     "output_type": "stream",
     "text": [
      "[[7.2]\n",
      " [6.9]\n",
      " [6.3]\n",
      " [7.4]\n",
      " [7.4]]\n",
      "[[7.1       ]\n",
      " [6.63333333]\n",
      " [7.        ]\n",
      " [6.46666667]\n",
      " [6.73333333]]\n"
     ]
    }
   ],
   "source": [
    "train_parameters = np.array(train_df[['runtime', 'popularity', 'budget', 'revenue', 'vote_count']])\n",
    "train_results    = np.array(train_df[['vote_average']])\n",
    "test_parameters  = np.array(test_df[['runtime', 'popularity', 'budget', 'revenue', 'vote_count']])\n",
    "test_results     = np.array(test_df[['vote_average']])\n",
    "\n",
    "knn = KNeighborsRegressor(n_neighbors=3)\n",
    "knn.fit(train_parameters, train_results)\n",
    "pred = knn.predict(test_parameters)\n",
    "\n",
    "print(test_results[:5])\n",
    "print(pred[:5])"
   ]
  },
  {
   "cell_type": "markdown",
   "metadata": {},
   "source": [
    "#### Hiperparâmetro\n",
    "Após a primeira modelagem, podemos perceber a presença do hiperparâmetro K. Dessa forma, devemos escolher o K ótimo para que o modelo seja o mais preciso possível."
   ]
  },
  {
   "cell_type": "markdown",
   "metadata": {},
   "source": [
    " "
   ]
  },
  {
   "cell_type": "markdown",
   "metadata": {},
   "source": [
    "#### k-Fold Cross-Validation\n",
    "Utilizando a k-Fold Cross-Validation, podemos encontrar o melhor valor de K (KNN) para o nosso modelo. Escolhendo entre 30 possíveis Ks para o modelo, estaremos utilizando um valor de k (k-Fold Cross-Validation) igual a 20."
   ]
  },
  {
   "cell_type": "code",
   "execution_count": 23,
   "metadata": {
    "scrolled": true
   },
   "outputs": [
    {
     "name": "stdout",
     "output_type": "stream",
     "text": [
      "K: 25\n"
     ]
    },
    {
     "data": {
      "image/png": "[encoded data removed]",
      "text/plain": [
       "<Figure size 432x288 with 1 Axes>"
      ]
     },
     "metadata": {},
     "output_type": "display_data"
    }
   ],
   "source": [
    "t1 = main_df[['runtime', 'popularity', 'budget', 'revenue', 'vote_count']]\n",
    "t2 = main_df[['vote_average']]\n",
    "\n",
    "list_of_ks = [i for i in range(1,60) if i % 2 != 0]\n",
    "cv_scores = []\n",
    "\n",
    "\n",
    "for k in list_of_ks:\n",
    "    kfold = KFold(n_splits=20)\n",
    "    knn = KNeighborsRegressor(n_neighbors=k)\n",
    "    knn.fit(train_parameters, train_results)\n",
    "    scores = cross_val_score(knn, train_parameters, train_results, cv=kfold, scoring=\"neg_mean_squared_error\")\n",
    "    cv_scores.append(scores.mean())\n",
    "\n",
    "optimal_k = cv_scores.index(max(cv_scores))\n",
    "print(\"K: {}\".format(optimal_k))\n",
    "\n",
    "plt.figure(figsize=(6,4))\n",
    "plt.plot(list_of_ks, cv_scores)\n",
    "plt.xlabel('Number of Neighbors K')\n",
    "plt.ylabel('Error')\n",
    "plt.show()"
   ]
  },
  {
   "cell_type": "markdown",
   "metadata": {},
   "source": [
    "### KNN Final\n",
    "Após realizarmos o k-Fold Cross-Validation, conseguimos encontrar o valor ótimo de K (29) e podemos seguir com nosso modelo"
   ]
  },
  {
   "cell_type": "code",
   "execution_count": 24,
   "metadata": {},
   "outputs": [
    {
     "name": "stdout",
     "output_type": "stream",
     "text": [
      "0.12110952387911533\n",
      "[[7.2]\n",
      " [6.9]\n",
      " [6.3]\n",
      " [7.4]\n",
      " [7.4]]\n",
      "[[7.1137931 ]\n",
      " [6.96896552]\n",
      " [6.97241379]\n",
      " [6.88275862]\n",
      " [6.98965517]]\n"
     ]
    }
   ],
   "source": [
    "knn = KNeighborsRegressor(n_neighbors=optimal_k)\n",
    "knn.fit(train_parameters, train_results)\n",
    "pred = knn.predict(test_parameters)\n",
    "\n",
    "print(knn.score(test_parameters, test_results))\n",
    "print(test_results[:5])\n",
    "print(pred[:5])"
   ]
  },
  {
   "cell_type": "code",
   "execution_count": 25,
   "metadata": {},
   "outputs": [],
   "source": [
    "knn_df = pd.DataFrame(test_df[['original_title', 'runtime', 'popularity', 'budget', 'revenue', 'vote_count', 'vote_average']])\n",
    "knn_df['prediction'] = pred"
   ]
  },
  {
   "cell_type": "code",
   "execution_count": 26,
   "metadata": {},
   "outputs": [
    {
     "data": {
      "text/html": [
       "<div>\n",
       "<style scoped>\n",
       "    .dataframe tbody tr th:only-of-type {\n",
       "        vertical-align: middle;\n",
       "    }\n",
       "\n",
       "    .dataframe tbody tr th {\n",
       "        vertical-align: top;\n",
       "    }\n",
       "\n",
       "    .dataframe thead th {\n",
       "        text-align: right;\n",
       "    }\n",
       "</style>\n",
       "<table border=\"1\" class=\"dataframe\">\n",
       "  <thead>\n",
       "    <tr style=\"text-align: right;\">\n",
       "      <th></th>\n",
       "      <th>original_title</th>\n",
       "      <th>runtime</th>\n",
       "      <th>popularity</th>\n",
       "      <th>budget</th>\n",
       "      <th>revenue</th>\n",
       "      <th>vote_count</th>\n",
       "      <th>vote_average</th>\n",
       "      <th>prediction</th>\n",
       "    </tr>\n",
       "  </thead>\n",
       "  <tbody>\n",
       "    <tr>\n",
       "      <th>0</th>\n",
       "      <td>Avatar</td>\n",
       "      <td>162.0</td>\n",
       "      <td>150.437577</td>\n",
       "      <td>237000000</td>\n",
       "      <td>2787965087</td>\n",
       "      <td>11800</td>\n",
       "      <td>7.2</td>\n",
       "      <td>7.113793</td>\n",
       "    </tr>\n",
       "    <tr>\n",
       "      <th>1</th>\n",
       "      <td>Pirates of the Caribbean: At World's End</td>\n",
       "      <td>169.0</td>\n",
       "      <td>139.082615</td>\n",
       "      <td>300000000</td>\n",
       "      <td>961000000</td>\n",
       "      <td>4500</td>\n",
       "      <td>6.9</td>\n",
       "      <td>6.968966</td>\n",
       "    </tr>\n",
       "    <tr>\n",
       "      <th>2</th>\n",
       "      <td>Spectre</td>\n",
       "      <td>148.0</td>\n",
       "      <td>107.376788</td>\n",
       "      <td>245000000</td>\n",
       "      <td>880674609</td>\n",
       "      <td>4466</td>\n",
       "      <td>6.3</td>\n",
       "      <td>6.972414</td>\n",
       "    </tr>\n",
       "    <tr>\n",
       "      <th>6</th>\n",
       "      <td>Tangled</td>\n",
       "      <td>100.0</td>\n",
       "      <td>48.681969</td>\n",
       "      <td>260000000</td>\n",
       "      <td>591794936</td>\n",
       "      <td>3330</td>\n",
       "      <td>7.4</td>\n",
       "      <td>6.882759</td>\n",
       "    </tr>\n",
       "    <tr>\n",
       "      <th>8</th>\n",
       "      <td>Harry Potter and the Half-Blood Prince</td>\n",
       "      <td>153.0</td>\n",
       "      <td>98.885637</td>\n",
       "      <td>250000000</td>\n",
       "      <td>933959197</td>\n",
       "      <td>5293</td>\n",
       "      <td>7.4</td>\n",
       "      <td>6.989655</td>\n",
       "    </tr>\n",
       "    <tr>\n",
       "      <th>9</th>\n",
       "      <td>Batman v Superman: Dawn of Justice</td>\n",
       "      <td>151.0</td>\n",
       "      <td>155.790452</td>\n",
       "      <td>250000000</td>\n",
       "      <td>873260194</td>\n",
       "      <td>7004</td>\n",
       "      <td>5.7</td>\n",
       "      <td>7.000000</td>\n",
       "    </tr>\n",
       "    <tr>\n",
       "      <th>10</th>\n",
       "      <td>Superman Returns</td>\n",
       "      <td>154.0</td>\n",
       "      <td>57.925623</td>\n",
       "      <td>270000000</td>\n",
       "      <td>391081192</td>\n",
       "      <td>1400</td>\n",
       "      <td>5.4</td>\n",
       "      <td>6.272414</td>\n",
       "    </tr>\n",
       "    <tr>\n",
       "      <th>11</th>\n",
       "      <td>Quantum of Solace</td>\n",
       "      <td>106.0</td>\n",
       "      <td>107.928811</td>\n",
       "      <td>200000000</td>\n",
       "      <td>586090727</td>\n",
       "      <td>2965</td>\n",
       "      <td>6.1</td>\n",
       "      <td>6.803448</td>\n",
       "    </tr>\n",
       "    <tr>\n",
       "      <th>12</th>\n",
       "      <td>Pirates of the Caribbean: Dead Man's Chest</td>\n",
       "      <td>151.0</td>\n",
       "      <td>145.847379</td>\n",
       "      <td>200000000</td>\n",
       "      <td>1065659812</td>\n",
       "      <td>5246</td>\n",
       "      <td>7.0</td>\n",
       "      <td>7.055172</td>\n",
       "    </tr>\n",
       "    <tr>\n",
       "      <th>14</th>\n",
       "      <td>Man of Steel</td>\n",
       "      <td>143.0</td>\n",
       "      <td>99.398009</td>\n",
       "      <td>225000000</td>\n",
       "      <td>662845518</td>\n",
       "      <td>6359</td>\n",
       "      <td>6.5</td>\n",
       "      <td>6.931034</td>\n",
       "    </tr>\n",
       "    <tr>\n",
       "      <th>16</th>\n",
       "      <td>The Avengers</td>\n",
       "      <td>143.0</td>\n",
       "      <td>144.448633</td>\n",
       "      <td>220000000</td>\n",
       "      <td>1519557910</td>\n",
       "      <td>11776</td>\n",
       "      <td>7.4</td>\n",
       "      <td>7.113793</td>\n",
       "    </tr>\n",
       "    <tr>\n",
       "      <th>19</th>\n",
       "      <td>The Hobbit: The Battle of the Five Armies</td>\n",
       "      <td>144.0</td>\n",
       "      <td>120.965743</td>\n",
       "      <td>250000000</td>\n",
       "      <td>956019788</td>\n",
       "      <td>4760</td>\n",
       "      <td>7.1</td>\n",
       "      <td>6.951724</td>\n",
       "    </tr>\n",
       "    <tr>\n",
       "      <th>23</th>\n",
       "      <td>The Golden Compass</td>\n",
       "      <td>113.0</td>\n",
       "      <td>42.990906</td>\n",
       "      <td>180000000</td>\n",
       "      <td>372234864</td>\n",
       "      <td>1303</td>\n",
       "      <td>5.8</td>\n",
       "      <td>6.320690</td>\n",
       "    </tr>\n",
       "    <tr>\n",
       "      <th>31</th>\n",
       "      <td>Iron Man 3</td>\n",
       "      <td>130.0</td>\n",
       "      <td>77.682080</td>\n",
       "      <td>200000000</td>\n",
       "      <td>1215439994</td>\n",
       "      <td>8806</td>\n",
       "      <td>6.8</td>\n",
       "      <td>7.062069</td>\n",
       "    </tr>\n",
       "    <tr>\n",
       "      <th>32</th>\n",
       "      <td>Alice in Wonderland</td>\n",
       "      <td>108.0</td>\n",
       "      <td>78.530105</td>\n",
       "      <td>200000000</td>\n",
       "      <td>1025491110</td>\n",
       "      <td>4645</td>\n",
       "      <td>6.4</td>\n",
       "      <td>7.000000</td>\n",
       "    </tr>\n",
       "    <tr>\n",
       "      <th>38</th>\n",
       "      <td>The Amazing Spider-Man 2</td>\n",
       "      <td>142.0</td>\n",
       "      <td>89.270217</td>\n",
       "      <td>200000000</td>\n",
       "      <td>705717432</td>\n",
       "      <td>4179</td>\n",
       "      <td>6.5</td>\n",
       "      <td>6.944828</td>\n",
       "    </tr>\n",
       "    <tr>\n",
       "      <th>40</th>\n",
       "      <td>Cars 2</td>\n",
       "      <td>106.0</td>\n",
       "      <td>49.986590</td>\n",
       "      <td>200000000</td>\n",
       "      <td>559852396</td>\n",
       "      <td>2033</td>\n",
       "      <td>5.8</td>\n",
       "      <td>6.862069</td>\n",
       "    </tr>\n",
       "    <tr>\n",
       "      <th>41</th>\n",
       "      <td>Green Lantern</td>\n",
       "      <td>114.0</td>\n",
       "      <td>51.872839</td>\n",
       "      <td>200000000</td>\n",
       "      <td>219851172</td>\n",
       "      <td>2487</td>\n",
       "      <td>5.1</td>\n",
       "      <td>5.872414</td>\n",
       "    </tr>\n",
       "    <tr>\n",
       "      <th>48</th>\n",
       "      <td>Jack the Giant Slayer</td>\n",
       "      <td>114.0</td>\n",
       "      <td>43.349855</td>\n",
       "      <td>195000000</td>\n",
       "      <td>197687603</td>\n",
       "      <td>2598</td>\n",
       "      <td>5.5</td>\n",
       "      <td>5.889655</td>\n",
       "    </tr>\n",
       "    <tr>\n",
       "      <th>58</th>\n",
       "      <td>Rush Hour 3</td>\n",
       "      <td>91.0</td>\n",
       "      <td>22.571780</td>\n",
       "      <td>140000000</td>\n",
       "      <td>258022233</td>\n",
       "      <td>783</td>\n",
       "      <td>6.1</td>\n",
       "      <td>5.824138</td>\n",
       "    </tr>\n",
       "  </tbody>\n",
       "</table>\n",
       "</div>"
      ],
      "text/plain": [
       "                                original_title  runtime  popularity  \\\n",
       "0                                       Avatar    162.0  150.437577   \n",
       "1     Pirates of the Caribbean: At World's End    169.0  139.082615   \n",
       "2                                      Spectre    148.0  107.376788   \n",
       "6                                      Tangled    100.0   48.681969   \n",
       "8       Harry Potter and the Half-Blood Prince    153.0   98.885637   \n",
       "9           Batman v Superman: Dawn of Justice    151.0  155.790452   \n",
       "10                            Superman Returns    154.0   57.925623   \n",
       "11                           Quantum of Solace    106.0  107.928811   \n",
       "12  Pirates of the Caribbean: Dead Man's Chest    151.0  145.847379   \n",
       "14                                Man of Steel    143.0   99.398009   \n",
       "16                                The Avengers    143.0  144.448633   \n",
       "19   The Hobbit: The Battle of the Five Armies    144.0  120.965743   \n",
       "23                          The Golden Compass    113.0   42.990906   \n",
       "31                                  Iron Man 3    130.0   77.682080   \n",
       "32                         Alice in Wonderland    108.0   78.530105   \n",
       "38                    The Amazing Spider-Man 2    142.0   89.270217   \n",
       "40                                      Cars 2    106.0   49.986590   \n",
       "41                               Green Lantern    114.0   51.872839   \n",
       "48                       Jack the Giant Slayer    114.0   43.349855   \n",
       "58                                 Rush Hour 3     91.0   22.571780   \n",
       "\n",
       "       budget     revenue  vote_count  vote_average  prediction  \n",
       "0   237000000  2787965087       11800           7.2    7.113793  \n",
       "1   300000000   961000000        4500           6.9    6.968966  \n",
       "2   245000000   880674609        4466           6.3    6.972414  \n",
       "6   260000000   591794936        3330           7.4    6.882759  \n",
       "8   250000000   933959197        5293           7.4    6.989655  \n",
       "9   250000000   873260194        7004           5.7    7.000000  \n",
       "10  270000000   391081192        1400           5.4    6.272414  \n",
       "11  200000000   586090727        2965           6.1    6.803448  \n",
       "12  200000000  1065659812        5246           7.0    7.055172  \n",
       "14  225000000   662845518        6359           6.5    6.931034  \n",
       "16  220000000  1519557910       11776           7.4    7.113793  \n",
       "19  250000000   956019788        4760           7.1    6.951724  \n",
       "23  180000000   372234864        1303           5.8    6.320690  \n",
       "31  200000000  1215439994        8806           6.8    7.062069  \n",
       "32  200000000  1025491110        4645           6.4    7.000000  \n",
       "38  200000000   705717432        4179           6.5    6.944828  \n",
       "40  200000000   559852396        2033           5.8    6.862069  \n",
       "41  200000000   219851172        2487           5.1    5.872414  \n",
       "48  195000000   197687603        2598           5.5    5.889655  \n",
       "58  140000000   258022233         783           6.1    5.824138  "
      ]
     },
     "execution_count": 26,
     "metadata": {},
     "output_type": "execute_result"
    }
   ],
   "source": [
    "knn_df.head(20)"
   ]
  },
  {
   "cell_type": "code",
   "execution_count": 70,
   "metadata": {},
   "outputs": [
    {
     "name": "stdout",
     "output_type": "stream",
     "text": [
      "Erro Quadrado Médio de Teste: 0.802\n"
     ]
    }
   ],
   "source": [
    "sum_error = 0\n",
    "total = len(knn_df)\n",
    "for i in knn_df.iterrows():\n",
    "    sum_error += (i[1]['vote_average'] - i[1]['prediction']) ** (2)\n",
    "print(\"Erro Quadrado Médio de Teste: {:.3f}\".format((sum_error/total)**(1/2)))"
   ]
  },
  {
   "cell_type": "code",
   "execution_count": 89,
   "metadata": {},
   "outputs": [
    {
     "name": "stdout",
     "output_type": "stream",
     "text": [
      "Média das Notas de Predição: 6.321\n",
      "Desvio Padrão das Notas de Predição: 0.355\n"
     ]
    }
   ],
   "source": [
    "print(\"Média das Notas de Predição: {:.3f}\".format(knn_df['prediction'].mean()))\n",
    "print(\"Desvio Padrão das Notas de Predição: {:.3f}\".format(np.var(knn_df['prediction'])**(1/2)))"
   ]
  },
  {
   "cell_type": "markdown",
   "metadata": {},
   "source": [
    "  "
   ]
  },
  {
   "cell_type": "markdown",
   "metadata": {},
   "source": [
    "### Conclusões sobre a primeira modelagem\n",
    "\n",
    "Utilizando tais parâmetros, foi encontrado um resultado satisfatório para a predição de Nota, entretanto, poderiam ser levados em conta outros parâmetros, tais como gênero, atores no filme, etc. Acredito que essa modelagem tende a ser mais próxima da realidade por envolver puramente números, ao invés de uma pré-segmentação de gênero, que poderia tornar o modelo menos geral. É importante ressaltar que, por ser baseado em números, ele não consegue prever alguns pontos fora da curva, mas ele alcança valores aproximados para isso. Além disso, podemos observar um Erro Quadrado Médio de 0.802."
   ]
  },
  {
   "cell_type": "markdown",
   "metadata": {},
   "source": [
    "  "
   ]
  },
  {
   "cell_type": "markdown",
   "metadata": {},
   "source": [
    "### Iniciando a Modelagem - Multi Layer Perceptron Regression (MLP)\n",
    "Após utilizar o KNN, vou estar realizando a modelagem a partir de um modelo de Neural Networks, o Multi Layer Perceptron para Regressão.\n",
    "\n",
    "Ajustando os parâmetros (variáveis independentes), utilizaremos uma regularização Normal:"
   ]
  },
  {
   "cell_type": "code",
   "execution_count": 27,
   "metadata": {},
   "outputs": [],
   "source": [
    "scaler = StandardScaler()\n",
    "scaler.fit(train_parameters)\n",
    "\n",
    "train_parameters_scaler = scaler.transform(train_parameters)\n",
    "test_parameters_scaler  = scaler.transform(test_parameters)"
   ]
  },
  {
   "cell_type": "markdown",
   "metadata": {},
   "source": [
    "  "
   ]
  },
  {
   "cell_type": "markdown",
   "metadata": {},
   "source": [
    "#### Criando o modelo MLP\n",
    "Primeiramente, escolho um valor arbitrário do tamanho da hidden_layer. Com isso, conseguimos gerar o resultado das predições das notas."
   ]
  },
  {
   "cell_type": "code",
   "execution_count": 28,
   "metadata": {},
   "outputs": [
    {
     "data": {
      "text/plain": [
       "array([ 9.380137  ,  6.39747915,  6.55914318,  6.17788811,  6.78468946,\n",
       "        7.00429169,  6.02406972,  6.1669399 ,  6.97479408,  6.9127878 ,\n",
       "        8.57814953,  6.61176939,  5.94273884,  7.9027972 ,  6.84245821,\n",
       "        6.58728099,  6.0620709 ,  5.88380544,  5.96619696,  6.1419744 ,\n",
       "        6.92137168,  6.40648388,  5.98073654,  7.36535658,  6.45123037,\n",
       "        6.53360537,  7.07429445,  7.52821601,  5.9219746 ,  6.22231854,\n",
       "        7.24041872,  6.44681136,  6.50479171,  7.53804659,  6.07380307,\n",
       "        5.97732647,  5.97794484,  6.10877848,  6.02818695,  6.02996758,\n",
       "        6.4604391 ,  6.31945749,  6.75799683,  6.01597755,  6.34825993,\n",
       "        6.17280063,  6.07248477,  7.21496243,  6.55064485,  6.15325572,\n",
       "        6.67635997,  6.02269609,  7.07788604,  6.95555243,  6.72749337,\n",
       "        6.13336576,  6.01845268,  5.54965835,  6.22436796,  7.11005356,\n",
       "        5.81436946,  6.23942062,  6.55767155,  6.23472954,  6.38742743,\n",
       "        6.11977605,  6.00626508,  6.50674446,  6.0796629 ,  6.6656502 ,\n",
       "        6.14326676,  6.84941435,  6.2250956 ,  8.20374107,  5.79516174,\n",
       "        5.87735525,  6.30776225,  5.63987042,  6.19501068,  5.35806054,\n",
       "        6.17252617,  6.46057683,  6.36488334,  5.15841233,  6.27429111,\n",
       "        6.61029182,  6.7768109 ,  6.58202119,  5.19262826,  7.13660565,\n",
       "        6.36970467,  6.14868506,  6.40259077,  6.48451457,  6.89509548,\n",
       "        7.28997816,  6.37456948,  6.01397744,  6.46869914,  6.28418364,\n",
       "        6.40166292,  6.20804277,  6.21661442,  6.78712464,  6.00136605,\n",
       "        5.17200389,  6.36389764,  6.24776958,  6.4120052 ,  6.82118176,\n",
       "        6.52917721,  6.55420291,  5.71317277,  5.77921468,  6.51540403,\n",
       "        6.38989222,  5.0915761 ,  6.29310214,  5.34609321,  6.2878526 ,\n",
       "        7.29652891,  6.552109  ,  6.4303058 ,  6.46969317,  6.25969509,\n",
       "        6.48178287,  5.56392744,  6.17386278,  5.35505058,  5.53517164,\n",
       "        4.97469704,  5.95319544,  6.54152858,  5.49081676,  5.91288546,\n",
       "        5.62352057,  5.29194208,  5.2171895 ,  7.14315437,  6.66769493,\n",
       "        5.66968439,  6.02170813,  6.35759433,  5.86159102,  5.86342774,\n",
       "        6.28438206,  5.94261248, 10.55906966,  5.18861196,  5.54782326,\n",
       "        4.97072631,  6.79286825,  6.23132044,  5.43101184,  5.42170115,\n",
       "        5.16932954,  6.36658383,  6.1481287 ,  6.56211135,  6.55611474,\n",
       "        6.47076795,  6.91359621,  5.58647614,  6.64040464,  5.57141851,\n",
       "        5.70416375,  5.27675767,  5.90042698,  5.426947  ,  6.00695878,\n",
       "        6.25584677,  5.91923113,  6.53464908,  5.28043657,  6.17337353,\n",
       "        5.96693909,  5.9097722 ,  6.18274287,  5.59240639,  6.32027289,\n",
       "        7.79383849,  5.52500518,  5.90184504,  5.22579635,  5.67067862,\n",
       "        5.13449467,  7.11229353,  6.37605666,  5.63807793,  6.49380822,\n",
       "        6.90252944,  6.85784507,  6.71997513,  5.63335012,  6.84600339,\n",
       "        5.70064308,  5.96456808,  5.2354248 ,  6.70068785,  5.64917832,\n",
       "        6.45790848,  5.46139393,  6.62756927,  5.24352419,  5.85015312,\n",
       "        5.41001993,  5.62713729,  5.36342288,  5.72933197,  6.08040142,\n",
       "        5.71794447,  5.43537113,  5.64912469,  5.90506138,  6.77922904,\n",
       "        5.21411084,  5.61352912,  5.88817693,  8.51443474,  7.11198125,\n",
       "        6.11185111,  5.14382947,  5.43152109,  6.54257521,  5.99000897,\n",
       "        7.90199377,  6.26568085,  6.0280037 ,  5.9844659 ,  5.64845164,\n",
       "        5.56640004,  5.6432075 ,  5.18400674,  6.78032135,  5.65445162,\n",
       "        5.32361391,  5.73881896,  5.55574326,  5.76146987,  5.32745331,\n",
       "        5.39236319,  6.97302329,  5.43276698,  6.00028613,  5.86769167,\n",
       "        5.93317669,  6.82383772,  5.16207753,  6.73406265,  6.25128303,\n",
       "        6.74090161,  6.75898365,  5.56868347,  6.87486471,  6.76609493,\n",
       "        6.58627173,  6.81100434,  6.47231626,  5.48564558,  6.48273811,\n",
       "        7.09034051,  5.16291818,  5.70739989,  5.69028971,  6.96280941,\n",
       "        6.66431058,  6.76484912,  5.9368882 ,  5.96956485,  5.8884387 ,\n",
       "        5.69164348,  5.1552462 ,  5.32944901,  5.51544878,  5.68990561,\n",
       "        6.31937563,  5.90774041,  5.57457057,  6.21417046,  6.45811827,\n",
       "        5.87855436,  5.57277825,  6.81962232,  5.87683758,  6.04978732,\n",
       "        5.67702609,  5.83218938,  6.95434002,  5.86879846,  7.09080026,\n",
       "        5.33328706,  5.48384848,  6.68431708,  6.27339324,  5.38659707,\n",
       "        6.56857454,  5.32355929,  6.21138617,  6.23234857,  5.52561022,\n",
       "        7.27701156,  5.65366831,  5.35049971,  6.33695131,  6.00752439,\n",
       "        6.89491811,  6.61350703,  6.14892033,  6.93521468,  5.83507351,\n",
       "        6.58873794,  5.82287592,  6.79789819,  7.44114376,  6.54366162,\n",
       "        6.68993871,  5.90770623,  6.15043934,  6.64739815,  5.84090307,\n",
       "        7.02608855,  7.06146923,  5.72384488,  6.30307234,  5.53848683,\n",
       "        6.5943692 ,  5.81145793,  7.1217681 ,  5.57437157,  6.15784923,\n",
       "        5.5906797 ,  5.95273572,  5.56061721,  6.01791658,  6.46069871,\n",
       "        5.83230348,  6.37484967,  7.04549603,  5.59685046,  5.5597314 ,\n",
       "        6.27527632,  5.81493145,  6.57457191,  6.36404552,  5.51265268,\n",
       "        5.58764446,  6.52545574,  6.16115288,  5.34896856,  6.33457943,\n",
       "        5.44118522,  5.59387853,  6.04266102,  7.95853603,  5.31012106,\n",
       "        6.23506788,  5.44104323,  5.51726688,  6.4937798 ,  6.05248965,\n",
       "        6.42670733,  5.74811339,  6.86374416,  5.9480934 ,  6.25436433,\n",
       "        6.99476186,  6.88049718,  5.46121472,  6.19059326,  6.69598831,\n",
       "        7.17452216,  7.116636  ,  6.50137421,  7.22312148,  5.52981226,\n",
       "        6.59587299,  6.10798802,  6.09121754,  5.20895271,  5.79826096,\n",
       "        5.62582397,  6.58766942,  5.75182578,  6.52116267,  6.96858889,\n",
       "        7.01038928,  5.39549404,  6.45042515,  6.76070852,  5.92425005,\n",
       "        5.98199362,  5.65885226,  5.78139627,  6.87316279,  6.11212981,\n",
       "        6.91218949,  6.15600035,  5.9378301 ,  5.62857631,  6.58286954,\n",
       "        6.09622911,  5.54391059,  5.48944009,  5.75179094,  5.48744624,\n",
       "        7.33188766,  5.65128614,  6.0406367 ,  5.9065676 ,  5.93282408,\n",
       "        5.72157542,  5.43462333,  5.90675334,  5.99171874,  5.84322891,\n",
       "        6.06812298,  7.03808443,  6.51693631,  8.15056935,  5.71680679,\n",
       "        5.82112955,  6.27968753,  7.05313155,  6.39027715,  7.34479096,\n",
       "        7.73394594,  8.31880262,  6.63052281,  5.71293971,  5.84662102,\n",
       "        5.69696957,  6.31042144,  5.57323913,  6.23152148,  6.04227091,\n",
       "        6.48845739,  6.83357447,  5.90201645,  6.28599839,  5.63665447,\n",
       "        5.83642128,  6.0545842 ,  5.67944573,  6.25420658,  5.63294054,\n",
       "        6.4281921 ,  6.04807268,  5.89350413,  6.67469662,  5.90838353,\n",
       "        5.53830163,  7.05968187,  6.02644407,  7.45237721,  6.48374307,\n",
       "        5.80366492,  6.53617994,  6.14509032,  6.55094125,  5.66096584,\n",
       "        5.90280616,  8.15750397,  5.6330566 ,  5.71097788,  6.6243084 ,\n",
       "        6.31021232,  5.40135409,  6.09755957,  6.13977635,  6.25620097,\n",
       "        7.23980964,  5.48262007,  6.58455038,  6.50891044,  6.43019298,\n",
       "        5.74363809,  6.5512165 ,  6.83343459,  6.29672926,  7.60733414,\n",
       "        6.45278605,  6.09313736,  6.23080245,  6.98075244,  6.5643207 ,\n",
       "        5.88004843,  5.59175078,  5.35080962,  6.48354393,  6.58147212,\n",
       "        6.16875024,  5.9803973 ,  6.20790243,  7.5972105 ,  5.96311383,\n",
       "        7.72708615,  5.83954103,  5.86248744,  6.42435672,  6.46960729,\n",
       "        6.426883  ,  6.01048275,  6.60188705,  5.74913886,  6.50165409,\n",
       "        5.99231671,  6.30561356,  6.45492078,  7.21584262,  6.2917694 ,\n",
       "        5.97900536,  5.95235712,  6.02064629,  6.51909949,  5.76683014,\n",
       "        5.82198812,  6.05170274,  6.85952827,  6.33819669,  6.35743516,\n",
       "        5.69915427,  6.73767809,  5.38835661,  6.29835632,  6.89529614,\n",
       "        6.59494829,  5.62233132,  6.43887103,  7.35938529,  6.26455917,\n",
       "        6.62213597,  6.13618344,  6.04569607,  6.98296248,  6.26628371,\n",
       "        6.01263585,  6.56334671,  6.01958641,  6.04522414,  5.77869454,\n",
       "        7.67411239,  5.90521953,  6.21510559,  7.12972624,  5.89375936,\n",
       "        5.96301596,  6.5465915 ,  7.91006984,  7.56230133,  6.35727445,\n",
       "        6.38416833,  5.7474152 ,  5.92038172,  7.85146094,  5.99102988,\n",
       "        6.11602653,  6.40711609,  6.14057893,  6.1340472 ,  6.12205925,\n",
       "        6.14248028,  6.12645019,  8.21196401,  6.56479647,  5.86203645,\n",
       "        5.85267612,  6.25783713,  6.29830525,  5.99583365,  5.86468092,\n",
       "        6.13679216,  6.59875874,  5.83169749,  6.07044003,  7.76645841,\n",
       "        6.06195543,  6.32211796,  6.11519821,  5.81978489,  6.22710752,\n",
       "        7.20446975,  6.31772534,  6.54170121,  5.9663014 ,  6.05681569,\n",
       "        7.00598547,  6.11621451,  6.81618242,  7.82675322,  7.59695093,\n",
       "        5.88860921,  6.13458216,  6.0973911 ,  7.7914105 ,  5.91837862,\n",
       "        6.16813271,  6.08920922,  6.10398038,  6.6323675 ,  5.90224463,\n",
       "        5.83044338,  7.71740141,  8.26517358,  6.32004635,  6.16507831,\n",
       "        6.07956816,  5.67271634,  6.01986969,  6.15807993,  5.78134667,\n",
       "        6.27159924,  6.05627807,  6.01228958,  6.00487458,  5.91883326,\n",
       "        6.73599349,  6.06071939,  5.66425935,  6.16144969,  6.93316416,\n",
       "        6.39468057,  6.33498973,  6.46314558,  7.0264326 ,  5.78289765,\n",
       "        7.11481826,  6.41295346,  5.82651855,  5.87284762,  5.87021013,\n",
       "        6.90997704,  6.76474304,  6.87846582,  6.48615972,  6.54549737,\n",
       "        6.12385837,  6.52835384,  6.32014917,  5.72840905,  6.05806184,\n",
       "        6.10472331,  6.62702613,  6.39619319,  6.41293817,  7.79661755,\n",
       "        6.26480302,  7.1401935 ,  7.1356665 ,  7.50872478,  7.94785378,\n",
       "        6.38692432,  6.70131982,  6.10752411,  6.35471464,  5.7230029 ,\n",
       "        7.54978451,  5.82597195,  8.06008292,  6.36128771,  5.70871861,\n",
       "        6.52887547,  6.31979277,  6.81608171,  5.7577084 ,  5.86570467,\n",
       "        6.2909838 ,  7.7127216 ,  6.19430873,  5.68458416,  5.75767014,\n",
       "        6.05748862,  6.36134891,  6.31238317,  5.73953267,  6.63266216,\n",
       "        5.95555225,  6.45498866,  6.4260985 ,  6.04651956,  6.0730016 ,\n",
       "        5.57125527,  7.26213454,  7.00538537,  6.27233841,  6.67429203,\n",
       "        6.1362901 ,  5.78432703,  5.97463029,  6.27057493,  5.75155702,\n",
       "        7.55650572,  5.9496089 ,  7.57870642,  6.65017584,  7.59245254,\n",
       "        6.10879713,  6.15069449,  6.67260534,  7.73695958,  5.85150538,\n",
       "        7.09626728,  6.70736781,  5.91848996,  5.85175856,  5.77802745,\n",
       "        6.13405045,  6.21753845,  6.00931174,  6.49701292,  5.89146527,\n",
       "        5.71049145,  6.21389387,  6.28858186,  5.93057624,  6.38624688,\n",
       "        6.5074243 ,  7.2401321 ,  6.00429737,  6.18860822,  7.37019644,\n",
       "        7.55494328,  6.37287438,  6.63845154,  6.62039909,  5.94359291,\n",
       "        6.57150582,  6.5935082 ,  6.12666754,  5.88488962,  5.79070709,\n",
       "        7.208436  ,  5.93672701,  6.85134125,  6.5615412 ,  6.4430479 ,\n",
       "        5.82882274,  7.21447641,  6.92660761,  7.59644532,  5.84228294,\n",
       "        6.80113541,  6.06376258,  6.2163915 ,  6.03234384,  6.14581956,\n",
       "        6.07522601,  6.027892  ,  7.27399596,  6.55811543,  6.47518311,\n",
       "        6.25884113,  6.02874174,  6.17178218,  6.13587018,  6.5599674 ,\n",
       "        6.01658567,  6.22452187,  5.94719874,  6.28410757,  8.42643776,\n",
       "        5.94987104,  5.95357744,  6.08443576,  5.92239371,  5.80471352,\n",
       "        6.22756007,  6.47027014,  5.92702181,  6.61305409,  6.78227485,\n",
       "        7.025731  ,  6.36649001,  6.38399031,  6.03156095,  7.63131416,\n",
       "        5.92890333,  6.517772  ,  6.05160901,  6.39863566,  6.67036661,\n",
       "        6.51893788,  6.57997061,  7.4466438 ,  8.07681278,  8.7562497 ,\n",
       "        7.22552881,  5.80719259,  6.25891009,  5.98473801,  6.3408537 ,\n",
       "        6.95363307,  6.16713805,  6.68675973,  6.29051311,  6.28018526,\n",
       "        7.05667751,  6.11415243,  5.95011753,  6.18278193,  5.94578769,\n",
       "        6.33374422,  6.49523505,  6.57654408,  5.96746161,  7.83297699,\n",
       "        6.13597231,  6.01844688,  6.19043702,  6.14664903,  6.71756952,\n",
       "        6.00314517,  6.34066197,  6.44681078,  6.18885742,  6.55496957,\n",
       "        6.36010451,  6.00924511,  6.10378037,  6.61665508,  7.98479883,\n",
       "        6.14032605,  6.79761679,  6.24678603,  6.14719475,  5.97091731,\n",
       "        6.01644745,  6.19078013,  5.90714372,  5.93294758,  7.16984028,\n",
       "        6.05105429,  6.01976182,  5.93618026,  6.65979875,  6.19719516,\n",
       "        6.75581219,  6.14154633,  6.98270793,  6.32891082,  6.59902404,\n",
       "        7.46407931,  7.35634458,  6.4614158 ,  6.10590734,  6.78445948,\n",
       "        6.33484107,  5.86016365,  6.06331564,  8.06768722,  8.63811085,\n",
       "        6.52610747,  6.53523893,  6.13456559,  6.03539466,  6.14652337,\n",
       "        5.9809217 ,  6.33502148,  5.99732711,  6.07555357,  6.22755457,\n",
       "        5.96973242,  6.54549769,  5.95144504,  6.35171466,  6.05967584,\n",
       "        6.5408299 ,  5.9887537 ,  6.03332178,  6.99244223,  6.7451518 ,\n",
       "        6.13322218,  6.18648852,  6.3455737 ,  6.40971477,  6.28447743,\n",
       "        6.5769046 ,  6.3773711 ,  6.34960065,  6.95509908,  6.42495875,\n",
       "        6.53089351,  6.32506347,  6.15056824,  6.40433325,  6.29097232,\n",
       "        6.0945584 ,  6.3658172 ,  6.17109849,  6.70020563,  6.33103555,\n",
       "        6.29759913,  6.08337272,  6.25216755,  6.5297613 ,  6.16699999,\n",
       "        6.00308663,  6.83691423,  6.5274304 ,  6.33223697,  7.56460951,\n",
       "        6.65319503,  6.10388188,  6.07404365,  6.59162334,  6.09140256,\n",
       "        6.0648054 ,  6.47554167,  6.30518589,  6.15007098,  6.05424598,\n",
       "        6.03911335,  7.21768515,  6.13966856,  6.31679314,  6.15319118,\n",
       "        6.00686383,  6.20475166,  6.62933804,  6.1430237 ,  6.64076278,\n",
       "        6.46633492,  6.10103297,  6.18191636,  6.59250321,  5.72982818,\n",
       "        6.22866589,  6.26655776,  8.08249778,  7.0571794 ,  6.66226862,\n",
       "        6.45786289,  6.2307471 ,  6.61343218,  6.11063806,  6.12264757,\n",
       "        6.15579876,  6.74066435,  6.10314789,  6.06586496,  6.50603105,\n",
       "        6.13771699,  6.34740718,  6.28650042,  6.615503  ,  6.31033533,\n",
       "        6.11801292,  6.84831819,  6.0915835 ,  6.19968138,  6.12784673,\n",
       "        7.1972111 ,  6.81716269,  6.20226622,  6.16580382,  6.60121646,\n",
       "        6.5003564 ,  6.52232442,  6.06784649,  6.1781243 ,  6.74707368,\n",
       "        7.80884239,  6.77526851,  6.19343944,  6.24118328,  6.14061292,\n",
       "        6.32112697,  6.55320497,  6.50155132,  6.1362021 ,  6.31572401,\n",
       "        6.29045956,  6.09165436,  6.24505581,  6.19583568,  6.19410487,\n",
       "        6.0256617 ,  6.15396693,  6.20542941,  6.21977672,  6.44690627,\n",
       "        6.2710717 ,  6.27105349,  6.29133266,  6.16748326,  6.58474451,\n",
       "        6.25252295,  6.33919821,  6.63809771,  6.76858053,  6.2406555 ,\n",
       "        6.20745613,  6.36234555,  6.16747493,  6.21694109,  6.22616671,\n",
       "        6.13454771])"
      ]
     },
     "execution_count": 28,
     "metadata": {},
     "output_type": "execute_result"
    }
   ],
   "source": [
    "mlp = MLPRegressor(hidden_layer_sizes=(10),max_iter=2000)\n",
    "mlp.fit(train_parameters_scaler, np.ravel(train_results))\n",
    "predictions = mlp.predict(test_parameters_scaler)"
   ]
  },
  {
   "cell_type": "markdown",
   "metadata": {},
   "source": [
    " "
   ]
  },
  {
   "cell_type": "markdown",
   "metadata": {},
   "source": [
    "#### Hiperparâmetro\n",
    "Após a primeira modelagem, podemos perceber a presença do hiperparâmetro hidden_layer_size. Dessa forma, devemos escolher o hidden_layer_size ótimo para que o modelo seja o mais preciso possível."
   ]
  },
  {
   "cell_type": "markdown",
   "metadata": {},
   "source": [
    " "
   ]
  },
  {
   "cell_type": "markdown",
   "metadata": {},
   "source": [
    "#### k-Fold Cross-Validation\n",
    "Utilizando a k-Fold Cross-Validation, podemos encontrar o melhor valor do hidden_layer_size para o nosso modelo. Escolhendo entre 15 possíveis valores de size, estaremos utilizando um valor de k (k-Fold Cross-Validation) igual a 15."
   ]
  },
  {
   "cell_type": "code",
   "execution_count": 49,
   "metadata": {},
   "outputs": [
    {
     "name": "stdout",
     "output_type": "stream",
     "text": [
      "Hidden Layer Size: 70\n"
     ]
    },
    {
     "data": {
      "image/png": "[encoded data removed]",
      "text/plain": [
       "<Figure size 432x288 with 1 Axes>"
      ]
     },
     "metadata": {},
     "output_type": "display_data"
    }
   ],
   "source": [
    "list_of_sizes = [i for i in range(1,151) if i % 10 == 0]\n",
    "cv_scores = []\n",
    "\n",
    "for k in list_of_ks:\n",
    "    kfold = KFold(n_splits=15)\n",
    "    mlp = MLPRegressor(hidden_layer_sizes=(k), max_iter=2000)\n",
    "    mlp.fit(train_parameters_scaler, np.ravel(train_results))\n",
    "    scores = cross_val_score(mlp, train_parameters_scaler, np.ravel(train_results), cv=kfold, scoring=\"neg_mean_squared_error\")\n",
    "    cv_scores.append(scores.mean())\n",
    "    \n",
    "optimal_size = cv_scores.index(max(cv_scores))*10\n",
    "print(\"Hidden Layer Size: {}\".format(optimal_size))\n",
    "\n",
    "plt.figure(figsize=(6,4))\n",
    "plt.plot(list_of_sizes, cv_scores)\n",
    "plt.xlabel('Hidden Layer Size')\n",
    "plt.ylabel('Error')\n",
    "plt.show()"
   ]
  },
  {
   "cell_type": "markdown",
   "metadata": {},
   "source": [
    " "
   ]
  },
  {
   "cell_type": "markdown",
   "metadata": {},
   "source": [
    "### MLP Final\n",
    "Após realizarmos o k-Fold Cross-Validation, conseguimos encontrar o valor ótimo para o size e podemos seguir com nosso modelo."
   ]
  },
  {
   "cell_type": "code",
   "execution_count": 55,
   "metadata": {},
   "outputs": [
    {
     "name": "stdout",
     "output_type": "stream",
     "text": [
      "-0.017510811744848587\n",
      "[7.2 6.9 6.3 7.4 7.4]\n",
      "[9.35532234 6.62698379 6.65870162 6.83079898 6.79177109]\n"
     ]
    }
   ],
   "source": [
    "mlp = MLPRegressor(hidden_layer_sizes=(optimal_size),max_iter=2000)\n",
    "mlp.fit(train_parameters_scaler, np.ravel(train_results))\n",
    "predictions = mlp.predict(test_parameters_scaler)\n",
    "\n",
    "print(knn.score(test_parameters_scaler, test_results))\n",
    "print(np.ravel(test_results[:5]))\n",
    "print(predictions[:5])"
   ]
  },
  {
   "cell_type": "code",
   "execution_count": 56,
   "metadata": {},
   "outputs": [
    {
     "data": {
      "text/html": [
       "<div>\n",
       "<style scoped>\n",
       "    .dataframe tbody tr th:only-of-type {\n",
       "        vertical-align: middle;\n",
       "    }\n",
       "\n",
       "    .dataframe tbody tr th {\n",
       "        vertical-align: top;\n",
       "    }\n",
       "\n",
       "    .dataframe thead th {\n",
       "        text-align: right;\n",
       "    }\n",
       "</style>\n",
       "<table border=\"1\" class=\"dataframe\">\n",
       "  <thead>\n",
       "    <tr style=\"text-align: right;\">\n",
       "      <th></th>\n",
       "      <th>original_title</th>\n",
       "      <th>runtime</th>\n",
       "      <th>popularity</th>\n",
       "      <th>budget</th>\n",
       "      <th>revenue</th>\n",
       "      <th>vote_count</th>\n",
       "      <th>vote_average</th>\n",
       "      <th>prediction</th>\n",
       "    </tr>\n",
       "  </thead>\n",
       "  <tbody>\n",
       "    <tr>\n",
       "      <th>0</th>\n",
       "      <td>Avatar</td>\n",
       "      <td>162.0</td>\n",
       "      <td>150.437577</td>\n",
       "      <td>237000000</td>\n",
       "      <td>2787965087</td>\n",
       "      <td>11800</td>\n",
       "      <td>7.2</td>\n",
       "      <td>9.355322</td>\n",
       "    </tr>\n",
       "    <tr>\n",
       "      <th>1</th>\n",
       "      <td>Pirates of the Caribbean: At World's End</td>\n",
       "      <td>169.0</td>\n",
       "      <td>139.082615</td>\n",
       "      <td>300000000</td>\n",
       "      <td>961000000</td>\n",
       "      <td>4500</td>\n",
       "      <td>6.9</td>\n",
       "      <td>6.626984</td>\n",
       "    </tr>\n",
       "    <tr>\n",
       "      <th>2</th>\n",
       "      <td>Spectre</td>\n",
       "      <td>148.0</td>\n",
       "      <td>107.376788</td>\n",
       "      <td>245000000</td>\n",
       "      <td>880674609</td>\n",
       "      <td>4466</td>\n",
       "      <td>6.3</td>\n",
       "      <td>6.658702</td>\n",
       "    </tr>\n",
       "    <tr>\n",
       "      <th>6</th>\n",
       "      <td>Tangled</td>\n",
       "      <td>100.0</td>\n",
       "      <td>48.681969</td>\n",
       "      <td>260000000</td>\n",
       "      <td>591794936</td>\n",
       "      <td>3330</td>\n",
       "      <td>7.4</td>\n",
       "      <td>6.830799</td>\n",
       "    </tr>\n",
       "    <tr>\n",
       "      <th>8</th>\n",
       "      <td>Harry Potter and the Half-Blood Prince</td>\n",
       "      <td>153.0</td>\n",
       "      <td>98.885637</td>\n",
       "      <td>250000000</td>\n",
       "      <td>933959197</td>\n",
       "      <td>5293</td>\n",
       "      <td>7.4</td>\n",
       "      <td>6.791771</td>\n",
       "    </tr>\n",
       "    <tr>\n",
       "      <th>9</th>\n",
       "      <td>Batman v Superman: Dawn of Justice</td>\n",
       "      <td>151.0</td>\n",
       "      <td>155.790452</td>\n",
       "      <td>250000000</td>\n",
       "      <td>873260194</td>\n",
       "      <td>7004</td>\n",
       "      <td>5.7</td>\n",
       "      <td>6.810689</td>\n",
       "    </tr>\n",
       "    <tr>\n",
       "      <th>10</th>\n",
       "      <td>Superman Returns</td>\n",
       "      <td>154.0</td>\n",
       "      <td>57.925623</td>\n",
       "      <td>270000000</td>\n",
       "      <td>391081192</td>\n",
       "      <td>1400</td>\n",
       "      <td>5.4</td>\n",
       "      <td>6.242420</td>\n",
       "    </tr>\n",
       "    <tr>\n",
       "      <th>11</th>\n",
       "      <td>Quantum of Solace</td>\n",
       "      <td>106.0</td>\n",
       "      <td>107.928811</td>\n",
       "      <td>200000000</td>\n",
       "      <td>586090727</td>\n",
       "      <td>2965</td>\n",
       "      <td>6.1</td>\n",
       "      <td>6.398525</td>\n",
       "    </tr>\n",
       "    <tr>\n",
       "      <th>12</th>\n",
       "      <td>Pirates of the Caribbean: Dead Man's Chest</td>\n",
       "      <td>151.0</td>\n",
       "      <td>145.847379</td>\n",
       "      <td>200000000</td>\n",
       "      <td>1065659812</td>\n",
       "      <td>5246</td>\n",
       "      <td>7.0</td>\n",
       "      <td>6.743250</td>\n",
       "    </tr>\n",
       "    <tr>\n",
       "      <th>14</th>\n",
       "      <td>Man of Steel</td>\n",
       "      <td>143.0</td>\n",
       "      <td>99.398009</td>\n",
       "      <td>225000000</td>\n",
       "      <td>662845518</td>\n",
       "      <td>6359</td>\n",
       "      <td>6.5</td>\n",
       "      <td>6.759730</td>\n",
       "    </tr>\n",
       "    <tr>\n",
       "      <th>16</th>\n",
       "      <td>The Avengers</td>\n",
       "      <td>143.0</td>\n",
       "      <td>144.448633</td>\n",
       "      <td>220000000</td>\n",
       "      <td>1519557910</td>\n",
       "      <td>11776</td>\n",
       "      <td>7.4</td>\n",
       "      <td>8.120147</td>\n",
       "    </tr>\n",
       "    <tr>\n",
       "      <th>19</th>\n",
       "      <td>The Hobbit: The Battle of the Five Armies</td>\n",
       "      <td>144.0</td>\n",
       "      <td>120.965743</td>\n",
       "      <td>250000000</td>\n",
       "      <td>956019788</td>\n",
       "      <td>4760</td>\n",
       "      <td>7.1</td>\n",
       "      <td>6.746694</td>\n",
       "    </tr>\n",
       "    <tr>\n",
       "      <th>23</th>\n",
       "      <td>The Golden Compass</td>\n",
       "      <td>113.0</td>\n",
       "      <td>42.990906</td>\n",
       "      <td>180000000</td>\n",
       "      <td>372234864</td>\n",
       "      <td>1303</td>\n",
       "      <td>5.8</td>\n",
       "      <td>6.124549</td>\n",
       "    </tr>\n",
       "    <tr>\n",
       "      <th>31</th>\n",
       "      <td>Iron Man 3</td>\n",
       "      <td>130.0</td>\n",
       "      <td>77.682080</td>\n",
       "      <td>200000000</td>\n",
       "      <td>1215439994</td>\n",
       "      <td>8806</td>\n",
       "      <td>6.8</td>\n",
       "      <td>7.571471</td>\n",
       "    </tr>\n",
       "    <tr>\n",
       "      <th>32</th>\n",
       "      <td>Alice in Wonderland</td>\n",
       "      <td>108.0</td>\n",
       "      <td>78.530105</td>\n",
       "      <td>200000000</td>\n",
       "      <td>1025491110</td>\n",
       "      <td>4645</td>\n",
       "      <td>6.4</td>\n",
       "      <td>6.990965</td>\n",
       "    </tr>\n",
       "    <tr>\n",
       "      <th>38</th>\n",
       "      <td>The Amazing Spider-Man 2</td>\n",
       "      <td>142.0</td>\n",
       "      <td>89.270217</td>\n",
       "      <td>200000000</td>\n",
       "      <td>705717432</td>\n",
       "      <td>4179</td>\n",
       "      <td>6.5</td>\n",
       "      <td>6.499825</td>\n",
       "    </tr>\n",
       "    <tr>\n",
       "      <th>40</th>\n",
       "      <td>Cars 2</td>\n",
       "      <td>106.0</td>\n",
       "      <td>49.986590</td>\n",
       "      <td>200000000</td>\n",
       "      <td>559852396</td>\n",
       "      <td>2033</td>\n",
       "      <td>5.8</td>\n",
       "      <td>6.400356</td>\n",
       "    </tr>\n",
       "    <tr>\n",
       "      <th>41</th>\n",
       "      <td>Green Lantern</td>\n",
       "      <td>114.0</td>\n",
       "      <td>51.872839</td>\n",
       "      <td>200000000</td>\n",
       "      <td>219851172</td>\n",
       "      <td>2487</td>\n",
       "      <td>5.1</td>\n",
       "      <td>6.224066</td>\n",
       "    </tr>\n",
       "    <tr>\n",
       "      <th>48</th>\n",
       "      <td>Jack the Giant Slayer</td>\n",
       "      <td>114.0</td>\n",
       "      <td>43.349855</td>\n",
       "      <td>195000000</td>\n",
       "      <td>197687603</td>\n",
       "      <td>2598</td>\n",
       "      <td>5.5</td>\n",
       "      <td>6.202596</td>\n",
       "    </tr>\n",
       "    <tr>\n",
       "      <th>58</th>\n",
       "      <td>Rush Hour 3</td>\n",
       "      <td>91.0</td>\n",
       "      <td>22.571780</td>\n",
       "      <td>140000000</td>\n",
       "      <td>258022233</td>\n",
       "      <td>783</td>\n",
       "      <td>6.1</td>\n",
       "      <td>5.896148</td>\n",
       "    </tr>\n",
       "  </tbody>\n",
       "</table>\n",
       "</div>"
      ],
      "text/plain": [
       "                                original_title  runtime  popularity  \\\n",
       "0                                       Avatar    162.0  150.437577   \n",
       "1     Pirates of the Caribbean: At World's End    169.0  139.082615   \n",
       "2                                      Spectre    148.0  107.376788   \n",
       "6                                      Tangled    100.0   48.681969   \n",
       "8       Harry Potter and the Half-Blood Prince    153.0   98.885637   \n",
       "9           Batman v Superman: Dawn of Justice    151.0  155.790452   \n",
       "10                            Superman Returns    154.0   57.925623   \n",
       "11                           Quantum of Solace    106.0  107.928811   \n",
       "12  Pirates of the Caribbean: Dead Man's Chest    151.0  145.847379   \n",
       "14                                Man of Steel    143.0   99.398009   \n",
       "16                                The Avengers    143.0  144.448633   \n",
       "19   The Hobbit: The Battle of the Five Armies    144.0  120.965743   \n",
       "23                          The Golden Compass    113.0   42.990906   \n",
       "31                                  Iron Man 3    130.0   77.682080   \n",
       "32                         Alice in Wonderland    108.0   78.530105   \n",
       "38                    The Amazing Spider-Man 2    142.0   89.270217   \n",
       "40                                      Cars 2    106.0   49.986590   \n",
       "41                               Green Lantern    114.0   51.872839   \n",
       "48                       Jack the Giant Slayer    114.0   43.349855   \n",
       "58                                 Rush Hour 3     91.0   22.571780   \n",
       "\n",
       "       budget     revenue  vote_count  vote_average  prediction  \n",
       "0   237000000  2787965087       11800           7.2    9.355322  \n",
       "1   300000000   961000000        4500           6.9    6.626984  \n",
       "2   245000000   880674609        4466           6.3    6.658702  \n",
       "6   260000000   591794936        3330           7.4    6.830799  \n",
       "8   250000000   933959197        5293           7.4    6.791771  \n",
       "9   250000000   873260194        7004           5.7    6.810689  \n",
       "10  270000000   391081192        1400           5.4    6.242420  \n",
       "11  200000000   586090727        2965           6.1    6.398525  \n",
       "12  200000000  1065659812        5246           7.0    6.743250  \n",
       "14  225000000   662845518        6359           6.5    6.759730  \n",
       "16  220000000  1519557910       11776           7.4    8.120147  \n",
       "19  250000000   956019788        4760           7.1    6.746694  \n",
       "23  180000000   372234864        1303           5.8    6.124549  \n",
       "31  200000000  1215439994        8806           6.8    7.571471  \n",
       "32  200000000  1025491110        4645           6.4    6.990965  \n",
       "38  200000000   705717432        4179           6.5    6.499825  \n",
       "40  200000000   559852396        2033           5.8    6.400356  \n",
       "41  200000000   219851172        2487           5.1    6.224066  \n",
       "48  195000000   197687603        2598           5.5    6.202596  \n",
       "58  140000000   258022233         783           6.1    5.896148  "
      ]
     },
     "execution_count": 56,
     "metadata": {},
     "output_type": "execute_result"
    }
   ],
   "source": [
    "mlp_df = pd.DataFrame(test_df[['original_title', 'runtime', 'popularity', 'budget', 'revenue', 'vote_count', 'vote_average']])\n",
    "mlp_df['prediction'] = predictions\n",
    "mlp_df.head(20)"
   ]
  },
  {
   "cell_type": "code",
   "execution_count": 84,
   "metadata": {},
   "outputs": [
    {
     "name": "stdout",
     "output_type": "stream",
     "text": [
      "Erro Quadrado Médio da Predição: 0.674\n"
     ]
    }
   ],
   "source": [
    "sum_error = 0\n",
    "total     = len(mlp_df)\n",
    "for i in mlp_df.iterrows():\n",
    "    sum_error += (i[1]['vote_average'] - i[1]['prediction']) ** 2\n",
    "    \n",
    "    \n",
    "print(\"Erro Quadrado Médio da Predição: {:.3f}\".format((sum_error/total)**(1/2)))"
   ]
  },
  {
   "cell_type": "code",
   "execution_count": 90,
   "metadata": {},
   "outputs": [
    {
     "name": "stdout",
     "output_type": "stream",
     "text": [
      "Média da Nota de Predição: 6.300\n",
      "Desvio Padrão das Notas de Predição: 0.610\n"
     ]
    }
   ],
   "source": [
    "print(\"Média da Nota de Predição: {:.3f}\".format(mlp_df['prediction'].mean()))\n",
    "print(\"Desvio Padrão das Notas de Predição: {:.3f}\".format(np.var(mlp_df['prediction'])**(1/2)))"
   ]
  },
  {
   "cell_type": "markdown",
   "metadata": {},
   "source": [
    " "
   ]
  },
  {
   "cell_type": "markdown",
   "metadata": {},
   "source": [
    "### Conclusões sobre a Segunda Modelagem\n",
    "Da mesma maneira que a modelagem anterior, conseguimos obter um resultado preditivo para as notas dos filmes a partir dos mesmos parâmetros. O maior problema visível desse problema é a existência de valores muito acima do máximo, mas a sua aproximação é razoável. Além disso, podemos observar que o Desvio Padrão da Predição ficou menor que o do primeiro modelo, sendo de 0.674"
   ]
  },
  {
   "cell_type": "markdown",
   "metadata": {},
   "source": [
    " "
   ]
  },
  {
   "cell_type": "markdown",
   "metadata": {},
   "source": [
    "## Conclusões Finais"
   ]
  },
  {
   "cell_type": "markdown",
   "metadata": {},
   "source": [
    "**PERGUNTA DE PESQUISA:** Seria possível prever a nota de um filme com base apenas em suas características intrínsecas, tais como gênero, capital investido, popularidade, empresas de produção e outros?\n",
    "\n",
    "**RESPOSTA:** Sim! Conseguimos encontrar dois modelos capazes de aproximar a nota dos filmes de maneira razoável.\n",
    "\n",
    "**CONCLUSÃO 1:** Foi visto que o modelo do Multi Layer Perceptron conseguiu um Erro Quadrado Médio da base de teste menor que o do KNN. Tal fato nos leva a considerar determinada situação:\n",
    "\n",
    "**SITUAÇÃO:**\n",
    "> O modelo MLP para Regressão é mais \"verdadeiro\" que o KNN por apresentar erro quadrado médio para a base de teste menor.\n",
    "\n",
    "**CONCLUSÃO 2:** Por utilizar somente de variáveis numéricas, o resultado pode não ter sido o mais verdadeiro possível, já que a utilização de variáveis como gênero, atores principais e estúdios de filme são variáveis relevantes para a aceitação e apreciação de um filme.\n",
    "\n",
    "**CONCLUSÃO 3:** Pela utilização de 5 variáveis, não foi possível encontrar a visualização gráfica das posições dos filmes no plano e seus resultados, mas os valores de predição já demonstram uma validade do resultado.\n",
    "\n",
    "**CONCLUSÃO 4:** É importante ressaltar que o modelo KNN garante que, na maioria das vezes, filmes com variáveis independentes próximas, provavelmente terão notas próximas. O modelo MLP não envolve somente posição no plano, portanto ele observa as variáveis com pesos, conseguindo verificar casos em que filmes variáveis independentes próximas, mas diferindo razoavelmente apenas em uma como notas bem distantes.\n",
    "\n",
    "**CONCLUSÃO 5:** Ambos os resultados obtidos obtiveram médias MUITO próximas a média verdadeira. Entretanto, o desvio padrão no modelo do KNN não chegou tão perto do verdadeiro, diferindo em 0.5 aproximadamente. Enquanto isso, o modelo do MLP conseguiu um desvio padrão mais próximo, diferindo em apenas aproximadamente 0.2 do verdadeiro.\n",
    "\n",
    "**CONCLUSÃO 6:** Esse trabalho consiste em focar apenas na nota alcançada pelo filme, entretanto, há possibilidade de criar ainda mais análises, como encontrar atores que praticamente garantem uma nota alta, ou gêneros com probabilidade muito maior para notas altas, etc.\n",
    "\n",
    "**CONCLUSÃO 7:** Por último, a utilização de uma base com 3000 filmes talvez não tenha possibilitado a adaptação do modelo da sua melhor maneira, fazendo com que faltasse pouco para ele alcançar resultados ótimos. Entretanto, mesmo com tal número, os resultados foram satisfatórias e ambos são capazes de projetar uma possível nota para um filme qualquer, dado suas variáveis independentes, de modo que o valor seja próximo da realidade"
   ]
  }
 ],
 "metadata": {
  "kernelspec": {
   "display_name": "Python 3",
   "language": "python",
   "name": "python3"
  },
  "language_info": {
   "codemirror_mode": {
    "name": "ipython",
    "version": 3
   },
   "file_extension": ".py",
   "mimetype": "text/x-python",
   "name": "python",
   "nbconvert_exporter": "python",
   "pygments_lexer": "ipython3",
   "version": "3.6.5"
  }
 },
 "nbformat": 4,
 "nbformat_minor": 2
}
