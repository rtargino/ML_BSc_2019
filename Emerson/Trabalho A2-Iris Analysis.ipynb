{
 "cells": [
  {
   "cell_type": "markdown",
   "metadata": {},
   "source": [
    "### Introdução"
   ]
  },
  {
   "cell_type": "markdown",
   "metadata": {},
   "source": [
    "\n",
    "Iris dataset nos fornece a medida em centimetros das larguras e comprimentos da sépala e da pétala de 50 flores de três espécies de Iris. Nosso objetivo é predizer a espécie a partir de tais observações."
   ]
  },
  {
   "cell_type": "markdown",
   "metadata": {},
   "source": [
    "### 1) Importando o dataset"
   ]
  },
  {
   "cell_type": "code",
   "execution_count": 261,
   "metadata": {},
   "outputs": [],
   "source": [
    "data(iris)\n",
    "flores=data.frame(iris)"
   ]
  },
  {
   "cell_type": "markdown",
   "metadata": {},
   "source": [
    "### 2) Obtendo estatísticas descritivas de cada um dos parâmetros:"
   ]
  },
  {
   "cell_type": "code",
   "execution_count": 262,
   "metadata": {
    "scrolled": true
   },
   "outputs": [
    {
     "data": {
      "text/plain": [
       "  Sepal.Length    Sepal.Width     Petal.Length    Petal.Width   \n",
       " Min.   :4.300   Min.   :2.000   Min.   :1.000   Min.   :0.100  \n",
       " 1st Qu.:5.100   1st Qu.:2.800   1st Qu.:1.600   1st Qu.:0.300  \n",
       " Median :5.800   Median :3.000   Median :4.350   Median :1.300  \n",
       " Mean   :5.843   Mean   :3.057   Mean   :3.758   Mean   :1.199  \n",
       " 3rd Qu.:6.400   3rd Qu.:3.300   3rd Qu.:5.100   3rd Qu.:1.800  \n",
       " Max.   :7.900   Max.   :4.400   Max.   :6.900   Max.   :2.500  \n",
       "       Species  \n",
       " setosa    :50  \n",
       " versicolor:50  \n",
       " virginica :50  \n",
       "                \n",
       "                \n",
       "                "
      ]
     },
     "metadata": {},
     "output_type": "display_data"
    }
   ],
   "source": [
    "summary(flores)"
   ]
  },
  {
   "cell_type": "markdown",
   "metadata": {},
   "source": [
    "### 3) Tratando os dados"
   ]
  },
  {
   "cell_type": "code",
   "execution_count": 263,
   "metadata": {},
   "outputs": [],
   "source": [
    "normaliza <-function(x) {(x-min(x))/(max(x)-min(x))}\n",
    "\n",
    "flores_normalizadas=as.data.frame(lapply(iris[,c(1,2,3,4)], normaliza))"
   ]
  },
  {
   "cell_type": "code",
   "execution_count": 264,
   "metadata": {},
   "outputs": [
    {
     "data": {
      "text/plain": [
       "  Sepal.Length     Sepal.Width      Petal.Length     Petal.Width     \n",
       " Min.   :0.0000   Min.   :0.0000   Min.   :0.0000   Min.   :0.00000  \n",
       " 1st Qu.:0.2222   1st Qu.:0.3333   1st Qu.:0.1017   1st Qu.:0.08333  \n",
       " Median :0.4167   Median :0.4167   Median :0.5678   Median :0.50000  \n",
       " Mean   :0.4287   Mean   :0.4406   Mean   :0.4675   Mean   :0.45806  \n",
       " 3rd Qu.:0.5833   3rd Qu.:0.5417   3rd Qu.:0.6949   3rd Qu.:0.70833  \n",
       " Max.   :1.0000   Max.   :1.0000   Max.   :1.0000   Max.   :1.00000  "
      ]
     },
     "metadata": {},
     "output_type": "display_data"
    }
   ],
   "source": [
    "summary(flores_normalizadas)"
   ]
  },
  {
   "cell_type": "markdown",
   "metadata": {},
   "source": [
    "### Separando os dados em grupo teste e grupo treino (80/20)"
   ]
  },
  {
   "cell_type": "code",
   "execution_count": 265,
   "metadata": {},
   "outputs": [],
   "source": [
    "set.seed(73)\n",
    "\n",
    "amostra <- sample(1:nrow(flores),0.8 * nrow(flores))\n",
    "\n",
    "iris_train=flores_normalizadas[amostra,]\n",
    "\n",
    "iris_test=flores_normalizadas[-amostra,]"
   ]
  },
  {
   "cell_type": "markdown",
   "metadata": {},
   "source": [
    "### Usando a Cross-Validation para achar o melhor hiperparâmetro"
   ]
  },
  {
   "cell_type": "markdown",
   "metadata": {},
   "source": [
    "O modelo de machine learning que utilizaremos é o k-NN, onde nosso objetivo é prever a espécie da flor Iris a partir dos demais parâmetros. A 'regra de bolso' do k-NN segundo nosso livro texto seria usar $k=N^.5$, que no caso seria aproximadamente 13"
   ]
  },
  {
   "cell_type": "code",
   "execution_count": 266,
   "metadata": {},
   "outputs": [],
   "source": [
    "#Como ao longo do modelo criamos uma matriz para ter uma melhor visualização\n",
    "#da classificação dos nossos dados, nossa percentagem de acerto é dada pelo dessa matriz dividido pela soma total\n",
    "\n",
    "precisao <- function(x){sum(diag(x)/(sum(rowSums(x)))) * 100}"
   ]
  },
  {
   "cell_type": "code",
   "execution_count": 267,
   "metadata": {},
   "outputs": [],
   "source": [
    "#Aqui rodamos a 10-fold Cross validation para o parâmetro k do nosso modelo num intervalo de 1:57 com passo 4; estes valores \n",
    "# bem elevados foram propositais para visualizar o que acontece para uma vasta gama de Ks\n",
    "\n",
    "\n",
    "Erro_cv=list()\n",
    "Erro_fold=list()\n",
    "\n",
    "for(j in (seq(1,57,by=4))){\n",
    "    for(i in 1:10){\n",
    "        amostracv=as.integer(nrow(flores)*(i-1)/10+1):as.integer(nrow(flores)/10*i)\n",
    "        treino=flores_normalizadas[-amostracv,]\n",
    "        teste=flores_normalizadas[amostracv,]\n",
    "        iris_target_category <- flores[-amostracv,5]\n",
    "        iris_test_category <- flores[amostracv,5]\n",
    "        modelo=knn(treino,teste,cl=iris_target_category,k=j)\n",
    "        tabela <- table(modelo,iris_test_category)  #aqui criamos uma maneira de visualizar como nosso modelo classificou os dados\n",
    "        Erro_fold=c(Erro_fold,precisao(tabela))       \n",
    "    }\n",
    "    Erro_fold=unlist(Erro_fold)\n",
    "    Erro_cv=c(Erro_cv,mean(Erro_fold))\n",
    "    Erro_fold=list()              \n",
    "}\n",
    "\n",
    "Erro_cv=unlist(Erro_cv)"
   ]
  },
  {
   "cell_type": "code",
   "execution_count": 268,
   "metadata": {},
   "outputs": [
    {
     "data": {
      "text/html": [
       "<ol class=list-inline>\n",
       "\t<li>94.6666666666667</li>\n",
       "\t<li>95.3333333333333</li>\n",
       "\t<li>94</li>\n",
       "\t<li>94</li>\n",
       "\t<li>95.3333333333333</li>\n",
       "\t<li>92.6666666666667</li>\n",
       "\t<li>92</li>\n",
       "\t<li>92</li>\n",
       "\t<li>90</li>\n",
       "\t<li>89.3333333333333</li>\n",
       "\t<li>88.6666666666667</li>\n",
       "\t<li>87.3333333333333</li>\n",
       "\t<li>86.6666666666667</li>\n",
       "\t<li>85.3333333333333</li>\n",
       "\t<li>83.3333333333333</li>\n",
       "</ol>\n"
      ],
      "text/latex": [
       "\\begin{enumerate*}\n",
       "\\item 94.6666666666667\n",
       "\\item 95.3333333333333\n",
       "\\item 94\n",
       "\\item 94\n",
       "\\item 95.3333333333333\n",
       "\\item 92.6666666666667\n",
       "\\item 92\n",
       "\\item 92\n",
       "\\item 90\n",
       "\\item 89.3333333333333\n",
       "\\item 88.6666666666667\n",
       "\\item 87.3333333333333\n",
       "\\item 86.6666666666667\n",
       "\\item 85.3333333333333\n",
       "\\item 83.3333333333333\n",
       "\\end{enumerate*}\n"
      ],
      "text/markdown": [
       "1. 94.6666666666667\n",
       "2. 95.3333333333333\n",
       "3. 94\n",
       "4. 94\n",
       "5. 95.3333333333333\n",
       "6. 92.6666666666667\n",
       "7. 92\n",
       "8. 92\n",
       "9. 90\n",
       "10. 89.3333333333333\n",
       "11. 88.6666666666667\n",
       "12. 87.3333333333333\n",
       "13. 86.6666666666667\n",
       "14. 85.3333333333333\n",
       "15. 83.3333333333333\n",
       "\n",
       "\n"
      ],
      "text/plain": [
       " [1] 94.66667 95.33333 94.00000 94.00000 95.33333 92.66667 92.00000 92.00000\n",
       " [9] 90.00000 89.33333 88.66667 87.33333 86.66667 85.33333 83.33333"
      ]
     },
     "metadata": {},
     "output_type": "display_data"
    }
   ],
   "source": [
    "Erro_cv"
   ]
  },
  {
   "cell_type": "code",
   "execution_count": 269,
   "metadata": {
    "scrolled": false
   },
   "outputs": [
    {
     "data": {
      "image/png": "[encoded data removed]",
      "text/plain": [
       "Plot with title “Precisão da validação cruzada em função de K”"
      ]
     },
     "metadata": {},
     "output_type": "display_data"
    }
   ],
   "source": [
    "k=seq(1,57,by=4)\n",
    "plot(k,Erro_cv,type='l',main='Precisão da validação cruzada em função de K',ylab='1-Erro Cross Validation',xlab='Número de vizinhos próximos')"
   ]
  },
  {
   "cell_type": "markdown",
   "metadata": {},
   "source": [
    " Como podemos verificar, o valor mais alto de acurácia se dá para o parâmetro k=17."
   ]
  },
  {
   "cell_type": "code",
   "execution_count": 270,
   "metadata": {},
   "outputs": [
    {
     "data": {
      "text/html": [
       "95.3333333333333"
      ],
      "text/latex": [
       "95.3333333333333"
      ],
      "text/markdown": [
       "95.3333333333333"
      ],
      "text/plain": [
       "[1] 95.33333"
      ]
     },
     "metadata": {},
     "output_type": "display_data"
    }
   ],
   "source": [
    "Erro_cv[5]"
   ]
  },
  {
   "cell_type": "markdown",
   "metadata": {},
   "source": [
    " A \"regra de bolso\" funciona bem, dado que temos uma alta precisão para k=13, e notamos uma grande queda de precisão conforme o k aumenta, conforme prevíamos devido ao Overfit"
   ]
  },
  {
   "cell_type": "markdown",
   "metadata": {},
   "source": [
    "### Utilizando o k determinado pela Cross Validation para rodarmos o nosso modelo"
   ]
  },
  {
   "cell_type": "code",
   "execution_count": 271,
   "metadata": {},
   "outputs": [
    {
     "data": {
      "text/plain": [
       "            iris_test_category\n",
       "modelo       setosa versicolor virginica\n",
       "  setosa         14          0         0\n",
       "  versicolor      0          5         2\n",
       "  virginica       0          0         9"
      ]
     },
     "metadata": {},
     "output_type": "display_data"
    }
   ],
   "source": [
    "iris_target_category <- iris[amostra,5]\n",
    "iris_test_category <- iris[-amostra,5]\n",
    "\n",
    "modelo=knn(iris_train,iris_test,cl=iris_target_category,k=17)\n",
    "\n",
    "tabela=table(modelo,iris_test_category)\n",
    "\n",
    "tabela"
   ]
  },
  {
   "cell_type": "code",
   "execution_count": 272,
   "metadata": {},
   "outputs": [
    {
     "data": {
      "text/html": [
       "93.3333333333333"
      ],
      "text/latex": [
       "93.3333333333333"
      ],
      "text/markdown": [
       "93.3333333333333"
      ],
      "text/plain": [
       "[1] 93.33333"
      ]
     },
     "metadata": {},
     "output_type": "display_data"
    }
   ],
   "source": [
    "precisao(tabela)"
   ]
  },
  {
   "cell_type": "markdown",
   "metadata": {},
   "source": [
    "### A partir dos resultados podemos inferir que o modelo K-NN é um ótimo modelo para a predição de espécies da flor Iris, o que indica, que mesmo não conhecendo a planta, provalvemente seríamos capazes de identificar duas espécies diferentes se nos fossem amostradas pois nosso modelo indica que a diferença de tamanho entre duas espécies é significativa"
   ]
  }
 ],
 "metadata": {
  "kernelspec": {
   "display_name": "R",
   "language": "R",
   "name": "ir"
  },
  "language_info": {
   "codemirror_mode": "r",
   "file_extension": ".r",
   "mimetype": "text/x-r-source",
   "name": "R",
   "pygments_lexer": "r",
   "version": "3.2.3"
  }
 },
 "nbformat": 4,
 "nbformat_minor": 2
}
